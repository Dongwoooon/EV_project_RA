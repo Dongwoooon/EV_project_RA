{
 "cells": [
  {
   "cell_type": "markdown",
   "metadata": {},
   "source": [
    "### thomson의 assignee name에서 plc, kft 제거"
   ]
  },
  {
   "cell_type": "code",
   "execution_count": 1,
   "metadata": {
    "collapsed": true
   },
   "outputs": [],
   "source": [
    "import pandas as pd\n",
    "import os\n",
    "\n",
    "os.chdir(\"E:/patent/thomson\")"
   ]
  },
  {
   "cell_type": "code",
   "execution_count": 2,
   "metadata": {
    "collapsed": true
   },
   "outputs": [],
   "source": [
    "def noplc(s):\n",
    "    \n",
    "    rm=['inc','ltd','llc','pte','plc','kft']\n",
    "    for i in range(0,len(s)):\n",
    "        if s[-3:] in rm:\n",
    "            s=s[:-3]\n",
    "        else:\n",
    "            break\n",
    "\n",
    "    return s"
   ]
  },
  {
   "cell_type": "code",
   "execution_count": 3,
   "metadata": {
    "collapsed": false
   },
   "outputs": [
    {
     "data": {
      "text/plain": [
       "['new_assignee',\n",
       " 'invest_year',\n",
       " 'assignee_country',\n",
       " 'assignee_founded_year',\n",
       " 'assignee_state',\n",
       " 'assignee_age_year',\n",
       " 'assignee_age_month',\n",
       " 'assignee_firm_dist',\n",
       " 'firm_country_Argentina',\n",
       " 'firm_country_Australia',\n",
       " 'firm_country_Austria',\n",
       " 'firm_country_Bahrain',\n",
       " 'firm_country_Belgium',\n",
       " 'firm_country_Bermuda',\n",
       " 'firm_country_Br. Virgin I.',\n",
       " 'firm_country_Brazil',\n",
       " 'firm_country_Bulgaria',\n",
       " 'firm_country_Canada',\n",
       " 'firm_country_Cayman Islands',\n",
       " 'firm_country_Channel Islands',\n",
       " 'firm_country_China',\n",
       " 'firm_country_Colombia',\n",
       " 'firm_country_Cyprus',\n",
       " 'firm_country_Czech Republic',\n",
       " 'firm_country_Denmark',\n",
       " 'firm_country_Egypt',\n",
       " 'firm_country_Estonia',\n",
       " 'firm_country_Finland',\n",
       " 'firm_country_France',\n",
       " 'firm_country_Georgia',\n",
       " 'firm_country_Germany',\n",
       " 'firm_country_Greece',\n",
       " 'firm_country_Hong Kong',\n",
       " 'firm_country_Hungary',\n",
       " 'firm_country_Iceland',\n",
       " 'firm_country_India',\n",
       " 'firm_country_Indonesia',\n",
       " 'firm_country_Ireland',\n",
       " 'firm_country_Israel',\n",
       " 'firm_country_Italy',\n",
       " 'firm_country_Japan',\n",
       " 'firm_country_Kuwait',\n",
       " 'firm_country_Latvia',\n",
       " 'firm_country_Lebanon',\n",
       " 'firm_country_Liechtenstein',\n",
       " 'firm_country_Luxembourg',\n",
       " 'firm_country_Malaysia',\n",
       " 'firm_country_Mauritius',\n",
       " 'firm_country_Mexico',\n",
       " 'firm_country_Netherlands',\n",
       " 'firm_country_New Zealand',\n",
       " 'firm_country_Norway',\n",
       " 'firm_country_Peru',\n",
       " 'firm_country_Philippines',\n",
       " 'firm_country_Poland',\n",
       " 'firm_country_Portugal',\n",
       " 'firm_country_Qatar',\n",
       " 'firm_country_Russia',\n",
       " 'firm_country_Saudi Arabia',\n",
       " 'firm_country_Singapore',\n",
       " 'firm_country_South Africa',\n",
       " 'firm_country_South Korea',\n",
       " 'firm_country_Spain',\n",
       " 'firm_country_Sweden',\n",
       " 'firm_country_Switzerland',\n",
       " 'firm_country_Taiwan',\n",
       " 'firm_country_Thailand',\n",
       " 'firm_country_Tunisia',\n",
       " 'firm_country_Turkey',\n",
       " 'firm_country_United Kingdom',\n",
       " 'firm_country_United States',\n",
       " 'firm_country_Uruguay',\n",
       " 'firm_country_Utd. Arab Em.',\n",
       " 'firm_country_Vietnam',\n",
       " 'firm_country_Zimbabwe',\n",
       " 'firm_country_nan',\n",
       " 'firm_state_Alabama',\n",
       " 'firm_state_Arizona',\n",
       " 'firm_state_Arkansas',\n",
       " 'firm_state_California',\n",
       " 'firm_state_Colorado',\n",
       " 'firm_state_Connecticut',\n",
       " 'firm_state_D. of Columbia',\n",
       " 'firm_state_Delaware',\n",
       " 'firm_state_Florida',\n",
       " 'firm_state_Georgia',\n",
       " 'firm_state_Hawaii',\n",
       " 'firm_state_Idaho',\n",
       " 'firm_state_Illinois',\n",
       " 'firm_state_Indiana',\n",
       " 'firm_state_Iowa',\n",
       " 'firm_state_Kansas',\n",
       " 'firm_state_Kentucky',\n",
       " 'firm_state_Louisiana',\n",
       " 'firm_state_Maine',\n",
       " 'firm_state_Maryland',\n",
       " 'firm_state_Massachusetts',\n",
       " 'firm_state_Michigan',\n",
       " 'firm_state_Minnesota',\n",
       " 'firm_state_Missouri',\n",
       " 'firm_state_Montana',\n",
       " 'firm_state_Nebraska',\n",
       " 'firm_state_Nevada',\n",
       " 'firm_state_New Hampshire',\n",
       " 'firm_state_New Jersey',\n",
       " 'firm_state_New Mexico',\n",
       " 'firm_state_New York',\n",
       " 'firm_state_North Carolina',\n",
       " 'firm_state_Ohio',\n",
       " 'firm_state_Oklahoma',\n",
       " 'firm_state_Oregon',\n",
       " 'firm_state_Pennsylvania',\n",
       " 'firm_state_Rhode Island',\n",
       " 'firm_state_South Carolina',\n",
       " 'firm_state_South Dakota',\n",
       " 'firm_state_Tennessee',\n",
       " 'firm_state_Texas',\n",
       " 'firm_state_Utah',\n",
       " 'firm_state_Vermont',\n",
       " 'firm_state_Virginia',\n",
       " 'firm_state_Washington',\n",
       " 'firm_state_West Virginia',\n",
       " 'firm_state_Wisconsin',\n",
       " 'firm_state_Wyoming',\n",
       " 'firm_state_nan',\n",
       " 'firm_type_Angel Group',\n",
       " 'firm_type_Bank Affiliated',\n",
       " 'firm_type_Corporate PE/Venture',\n",
       " 'firm_type_Endowment, Foundation or Pension Fund',\n",
       " 'firm_type_Government Affiliated Program',\n",
       " 'firm_type_Incubator/Development Program',\n",
       " 'firm_type_Individuals',\n",
       " 'firm_type_Insurance Firm Affiliate',\n",
       " 'firm_type_Investment Management Firm',\n",
       " 'firm_type_Non-Private Equity',\n",
       " 'firm_type_Private Equity Advisor or Fund of Funds',\n",
       " 'firm_type_Private Equity Firm',\n",
       " 'firm_type_SBIC',\n",
       " 'firm_type_Service Provider',\n",
       " 'firm_type_University Program',\n",
       " 'firm_type_nan',\n",
       " 'fund_type_Buyout',\n",
       " 'fund_type_Fund of Funds',\n",
       " 'fund_type_Generalist Private Equity',\n",
       " 'fund_type_Mezzanine',\n",
       " 'fund_type_Non-Private Equity',\n",
       " 'fund_type_Other Private Equity',\n",
       " 'fund_type_Real Estate',\n",
       " 'fund_type_Venture Capital',\n",
       " 'fund_type_nan']"
      ]
     },
     "execution_count": 3,
     "metadata": {},
     "output_type": "execute_result"
    }
   ],
   "source": [
    "df =  pd.read_csv('veh_investment_groupby_assignee_year.csv')\n",
    "list(df)"
   ]
  },
  {
   "cell_type": "code",
   "execution_count": 4,
   "metadata": {
    "collapsed": true
   },
   "outputs": [],
   "source": [
    "a = ['plc','kft']\n",
    "\n",
    "for i in range(0,len(df.index)):\n",
    "    s = str(df.iloc[i,0])\n",
    "    \n",
    "    if s[-3:] in a:\n",
    "        df.iloc[i,0] = noplc(df.iloc[i,0])"
   ]
  },
  {
   "cell_type": "code",
   "execution_count": 5,
   "metadata": {
    "collapsed": true
   },
   "outputs": [],
   "source": [
    "df.to_csv('thompson_assignee_year.csv',index=False)"
   ]
  }
 ],
 "metadata": {
  "anaconda-cloud": {},
  "kernelspec": {
   "display_name": "Python [conda root]",
   "language": "python",
   "name": "conda-root-py"
  },
  "language_info": {
   "codemirror_mode": {
    "name": "ipython",
    "version": 2
   },
   "file_extension": ".py",
   "mimetype": "text/x-python",
   "name": "python",
   "nbconvert_exporter": "python",
   "pygments_lexer": "ipython2",
   "version": "2.7.13"
  }
 },
 "nbformat": 4,
 "nbformat_minor": 1
}
