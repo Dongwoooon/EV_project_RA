{
 "cells": [
  {
   "cell_type": "code",
   "execution_count": null,
   "metadata": {
    "collapsed": true
   },
   "outputs": [],
   "source": [
    "import os\n",
    "import csv\n",
    "\n",
    "os.chdir(\"J:/data/)"
   ]
  },
  {
   "cell_type": "code",
   "execution_count": null,
   "metadata": {
    "collapsed": true
   },
   "outputs": [],
   "source": [
    "def nameprocessing(s):\n",
    "    s = str(s)\n",
    "    \n",
    "    s = s.replace(\".\",\"\")\n",
    "    s = s.replace(\",\",\"\")    \n",
    "    s = s.replace(\";\",\"\")\n",
    "    s = ''.join(s.split()).lower()\n",
    "    \n",
    "    s = s.replace(\"incorporated\",\"inc\")\n",
    "    s = s.replace(\"limited\",\"ltd\")\n",
    "    s = s.replace(\"gmbh\",\"\")\n",
    "    \n",
    "    rm=['inc','ltd','llc','pte','plc','kft']\n",
    "    for i in range(0,len(s)):\n",
    "        if s[-3:] in rm:\n",
    "            s=s[:-3]\n",
    "        else:\n",
    "            break\n",
    "\n",
    "    return s"
   ]
  },
  {
   "cell_type": "code",
   "execution_count": null,
   "metadata": {
    "collapsed": true
   },
   "outputs": [],
   "source": []
  }
 ],
 "metadata": {
  "kernelspec": {
   "display_name": "Python 2",
   "language": "python",
   "name": "python2"
  },
  "language_info": {
   "codemirror_mode": {
    "name": "ipython",
    "version": 2
   },
   "file_extension": ".py",
   "mimetype": "text/x-python",
   "name": "python",
   "nbconvert_exporter": "python",
   "pygments_lexer": "ipython2",
   "version": "2.7.13"
  }
 },
 "nbformat": 4,
 "nbformat_minor": 2
}
