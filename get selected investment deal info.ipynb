{
 "cells": [
  {
   "cell_type": "markdown",
   "metadata": {},
   "source": [
    "# raw data에서 Investment 변수 생성에 필요한 info만 걸러내기\n",
    "\n",
    "### raw data(investment)에서 필요한 정보\n",
    "\n",
    "1. amount(이미 완료)\n",
    "2. investor type\n",
    "3. investment date (이미 완료) \n",
    "4. investor country\n",
    "5. investor state (US 한정)\n",
    "6. company(assignee) founded year\n",
    "7. company(assignee) age\n",
    "8. company(assignee) country\n",
    "9. company state (US 한정)"
   ]
  },
  {
   "cell_type": "code",
   "execution_count": 1,
   "metadata": {
    "collapsed": true
   },
   "outputs": [],
   "source": [
    "import pandas as pd\n",
    "import zipfile\n",
    "import csv\n",
    "import os\n",
    "\n",
    "os.chdir(\"E:/patent\")"
   ]
  },
  {
   "cell_type": "code",
   "execution_count": 2,
   "metadata": {
    "collapsed": true
   },
   "outputs": [],
   "source": [
    "zf_patent1 = zipfile.ZipFile('veh_investment.zip') \n",
    "csv_patent1 = zf_patent1.open('veh_investment.csv')\n",
    "csv_patent_reader1 = csv.reader(csv_patent1)\n",
    "header = csv_patent_reader1.next()"
   ]
  },
  {
   "cell_type": "code",
   "execution_count": 3,
   "metadata": {
    "collapsed": false,
    "scrolled": true
   },
   "outputs": [
    {
     "name": "stdout",
     "output_type": "stream",
     "text": [
      "0 -i0t0\n",
      "1 Age at Financing (Months)-i0t0\n",
      "2 Company City-i0t0\n",
      "3 Company Current Operating Stage-i0t0\n",
      "4 Company Current Public Status-i0t0\n",
      "5 Company Founded Year-i0t0\n",
      "6 Company ID-i0t0\n",
      "7 Company IPO Date-i0t0\n",
      "8 Company Investment Stage 1 at Round Date-i0t0\n",
      "9 Company Investment Stage 2 at Round Date-i0t0\n",
      "10 Company Investment Stage 3 at Round Date-i0t0\n",
      "11 Company MoneyTree Region-i0t0\n",
      "12 Company Name-i0t0\n",
      "13 Company Nation-i0t0\n",
      "14 Company Number of Employees-i0t0\n",
      "15 Company State / Region-i0t0\n",
      "16 Company Status-i0t0\n",
      "17 Company VE Primary Industry Class-i0t0\n",
      "18 Company VE Primary Industry Major Group-i0t0\n",
      "19 Company World Location (Branch Office)-i0t0\n",
      "20 Company Zip Code-i0t0\n",
      "21 Cumulative Dividends-i0t0\n",
      "22 Deal Value (USD Mil)-i0t0\n",
      "23 Debt Amount (USD Mil)-i0t0\n",
      "24 Equity Amount Disclosed (USD Mil)-i0t0\n",
      "25 Equity Amount Estimated (USD Mil)-i0t0\n",
      "26 Firm - First Investment Date-i0t0\n",
      "27 Firm - Last Investment Date-i0t0\n",
      "28 Firm - Total Number of Deals-i0t0\n",
      "29 Firm Affiliations-i0t0\n",
      "30 Firm Capital Under Management (USD Mil)-i0t0\n",
      "31 Firm City-i0t0\n",
      "32 Firm Founded Year-i0t0\n",
      "33 Firm Latest Fund Closing Date-i0t0\n",
      "34 Firm Latest Fund Size (USD Mil)-i0t0\n",
      "35 Firm Latest Fund Year-i0t0\n",
      "36 Firm Name-i0t0\n",
      "37 Firm Nation-i0t0\n",
      "38 Firm Preferred Maximum Investment (USD Mil)-i0t0\n",
      "39 Firm Preferred Minimum Investment (USD Mil)-i0t0\n",
      "40 Firm State / Region-i0t0\n",
      "41 Firm Status-i0t0\n",
      "42 Firm Total Estimated Equity Invested in Company (USD Mil)-i0t0\n",
      "43 Firm Total Known Equity Invested in Company (USD Mil)-i0t0\n",
      "44 Firm Type-i0t0\n",
      "45 Firm Zip Code-i0t0\n",
      "46 First Investment Received Date-i0t0\n",
      "47 Fund - First Investment Date-i0t0\n",
      "48 Fund - Last Investment Date-i0t0\n",
      "49 Fund - Total Number of Deals-i0t0\n",
      "50 Fund City-i0t0\n",
      "51 Fund Estimated Equity Invested in Company at Investment Date (USD Mil)-i0t0\n",
      "52 Fund Founded Year-i0t0\n",
      "53 Fund Industry Focus-i0t0\n",
      "54 Fund Investor Type-i0t0\n",
      "55 Fund Known Equity Invested in Company at Investment Date (USD Mil)-i0t0\n",
      "56 Fund Nation-i0t0\n",
      "57 Fund Sequence-i0t0\n",
      "58 Fund Size (USD Mil)-i0t0\n",
      "59 Fund Size Category (USD Mil)-i0t0\n",
      "60 Fund Size Target (USD Mil)-i0t0\n",
      "61 Fund Stage-i0t0\n",
      "62 Fund State / Region-i0t0\n",
      "63 Fund Status-i0t0\n",
      "64 Fund Total Estimated Equity Invested in Company (USD Mil)-i0t0\n",
      "65 Fund Total Known Equity Invested in Company (USD Mil)-i0t0\n",
      "66 Fund Type-i0t0\n",
      "67 Fund Year-i0t0\n",
      "68 Fund Zip Code-i0t0\n",
      "69 Investment Date-i0t0\n",
      "70 Investment Date.1-i0t0\n",
      "71 Investment Location - City-i0t0\n",
      "72 Investment Location - Nation-i0t0\n",
      "73 Investment Location - State-i0t0\n",
      "74 Investment Location - Zip Code-i0t0\n",
      "75 Last Investment Received Date-i0t0\n",
      "76 NAIC Code -i0t0\n",
      "77 New or Follow on Investment-i0t0\n",
      "78 No. of Firms in Total-i0t0\n",
      "79 No. of Funds Managed by Firm-i0t0\n",
      "80 No. of Funds at Investment Date-i0t0\n",
      "81 No. of Funds in Total-i0t0\n",
      "82 Round Number-i0t0\n",
      "83 Round of Financing-i0t0\n",
      "84 SIC Code-i0t0\n",
      "85 Total Estimated Equity Invested by Firm to Date (USD Mil)-i0t0\n",
      "86 Total Estimated Equity Invested by Fund to Date (USD Mil)-i0t0\n",
      "87 Total Funding To Date (USD Mil)-i0t0\n",
      "88 Total Known Equity Invested by Firm to Date (USD Mil)-i0t0\n",
      "89 Total Known Equity Invested by Fund to Date (USD Mil)-i0t0\n",
      "90 Total Number of Companies Invested in by Firm-i0t0\n",
      "91 Total Number of Companies Invested in by Fund-i0t0\n",
      "92 Unnamed: 0.1-i0t0\n",
      "93 Valuation at Transaction Date (USD Mil)-i0t0\n",
      "94 -i0t1\n",
      "95 Age at Financing (Months)-i0t1\n",
      "96 Company City-i0t1\n"
     ]
    }
   ],
   "source": [
    "for i in range(0,97):\n",
    "    print i, header[i]"
   ]
  },
  {
   "cell_type": "code",
   "execution_count": 5,
   "metadata": {
    "collapsed": true
   },
   "outputs": [],
   "source": [
    "firm_col = []\n",
    "for i in range(0,len(header)):\n",
    "    if 'Firm Name' in header[i]:   \n",
    "        firm_col.append(i)"
   ]
  },
  {
   "cell_type": "code",
   "execution_count": 7,
   "metadata": {
    "collapsed": false
   },
   "outputs": [],
   "source": [
    "firm = []\n",
    "assignee = []\n",
    "amt = []\n",
    "date = []\n",
    "inv_type = []\n",
    "fnd_type = []\n",
    "inv_country = []\n",
    "inv_state = []\n",
    "ass_fyear = []\n",
    "ass_age = []\n",
    "ass_country = []\n",
    "ass_state = []\n",
    "\n",
    "for line in csv_patent_reader1:\n",
    "    for i in firm_col:\n",
    "        if line[i]=='':\n",
    "            break\n",
    "\n",
    "        else:\n",
    "            firm.append(line[i])\n",
    "            assignee.append(line[i-24])\n",
    "            amt.append(line[i+15])\n",
    "            date.append(line[i+33])\n",
    "            inv_type.append(line[i+8])\n",
    "            fnd_type.append(line[i+30])\n",
    "            inv_country.append(line[i+1])\n",
    "            inv_state.append(line[i+4])\n",
    "            ass_fyear.append(line[i-31])\n",
    "            ass_age.append(line[i-35])\n",
    "            ass_country.append(line[i-23])\n",
    "            ass_state.append(line[i-21])"
   ]
  },
  {
   "cell_type": "code",
   "execution_count": 17,
   "metadata": {
    "collapsed": false
   },
   "outputs": [],
   "source": [
    "df = pd.DataFrame({'firm':firm,'assignee':assignee,'amount':amt,'date':date,'firm_type':inv_type,'firm_country':inv_country,\n",
    "                   'firm_state':inv_state,'assignee_founded_year':ass_fyear,'assignee_age_month':ass_age,'assignee_country':ass_country,\n",
    "                  'assignee_state':ass_state,'fund_type':fnd_type})"
   ]
  },
  {
   "cell_type": "code",
   "execution_count": 18,
   "metadata": {
    "collapsed": true
   },
   "outputs": [],
   "source": [
    "df.to_csv('veh_selected_deal_info_duplicates.csv',index=False)"
   ]
  },
  {
   "cell_type": "code",
   "execution_count": 19,
   "metadata": {
    "collapsed": false
   },
   "outputs": [
    {
     "data": {
      "text/plain": [
       "['amount',\n",
       " 'assignee',\n",
       " 'assignee_age_month',\n",
       " 'assignee_country',\n",
       " 'assignee_founded_year',\n",
       " 'assignee_state',\n",
       " 'date',\n",
       " 'firm',\n",
       " 'firm_country',\n",
       " 'firm_state',\n",
       " 'firm_type']"
      ]
     },
     "execution_count": 19,
     "metadata": {},
     "output_type": "execute_result"
    }
   ],
   "source": [
    "cols=list(df)\n",
    "del cols[-1]\n",
    "cols"
   ]
  },
  {
   "cell_type": "code",
   "execution_count": 22,
   "metadata": {
    "collapsed": true
   },
   "outputs": [],
   "source": [
    "df_nodups = df.drop_duplicates(subset=cols)"
   ]
  },
  {
   "cell_type": "code",
   "execution_count": 23,
   "metadata": {
    "collapsed": false
   },
   "outputs": [
    {
     "data": {
      "text/plain": [
       "89007"
      ]
     },
     "execution_count": 23,
     "metadata": {},
     "output_type": "execute_result"
    }
   ],
   "source": [
    "len(df_nodups.index)"
   ]
  },
  {
   "cell_type": "code",
   "execution_count": 24,
   "metadata": {
    "collapsed": true
   },
   "outputs": [],
   "source": [
    "df_nodups.to_csv('veh_sel_info_temp.csv',index=False)"
   ]
  },
  {
   "cell_type": "markdown",
   "metadata": {},
   "source": [
    "missing value, 변수 type 처리 필요   \n",
    "('-' -> NaN 처리, str -> float 처리)"
   ]
  },
  {
   "cell_type": "code",
   "execution_count": 17,
   "metadata": {
    "collapsed": true
   },
   "outputs": [],
   "source": [
    "def bye_missing_numeric(df,col):\n",
    "    for i in range(0,len(df.index)):\n",
    "        for j in col:\n",
    "            if df.iloc[i,j] == '-' or df.iloc[i,j] == '':\n",
    "                df.iloc[i,j] = np.nan\n",
    "                \n",
    "def bye_missing_string(df,col):\n",
    "    for i in range(0,len(df.index)):\n",
    "        for j in col:\n",
    "            if df.iloc[i,j] == '-' or df.iloc[i,j] == '':\n",
    "                df.iloc[i,j] = ''"
   ]
  },
  {
   "cell_type": "code",
   "execution_count": 30,
   "metadata": {
    "collapsed": false
   },
   "outputs": [],
   "source": [
    "import numpy as np\n",
    "\n",
    "col = range(0,11)\n",
    "num_col = [0,2,4]\n",
    "str_col = [x for x in col if x not in num_col]\n",
    "bye_missing_numeric(df,num_col)\n",
    "bye_missing_string(df,str_col)"
   ]
  },
  {
   "cell_type": "code",
   "execution_count": 33,
   "metadata": {
    "collapsed": false
   },
   "outputs": [
    {
     "data": {
      "text/html": [
       "<div>\n",
       "<table border=\"1\" class=\"dataframe\">\n",
       "  <thead>\n",
       "    <tr style=\"text-align: right;\">\n",
       "      <th></th>\n",
       "      <th>amount</th>\n",
       "      <th>assignee</th>\n",
       "      <th>assignee_age_month</th>\n",
       "      <th>assignee_country</th>\n",
       "      <th>assignee_founded_year</th>\n",
       "      <th>assignee_state</th>\n",
       "      <th>date</th>\n",
       "      <th>firm</th>\n",
       "      <th>firm_country</th>\n",
       "      <th>firm_state</th>\n",
       "      <th>firm_type</th>\n",
       "    </tr>\n",
       "  </thead>\n",
       "  <tbody>\n",
       "    <tr>\n",
       "      <th>0</th>\n",
       "      <td>90.3</td>\n",
       "      <td>Singer Company</td>\n",
       "      <td>NaN</td>\n",
       "      <td>United States</td>\n",
       "      <td>NaN</td>\n",
       "      <td>Florida</td>\n",
       "      <td>1987-10-29</td>\n",
       "      <td>Bilzerian Partners Lp</td>\n",
       "      <td>United States</td>\n",
       "      <td>Florida</td>\n",
       "      <td>Private Equity Firm</td>\n",
       "    </tr>\n",
       "    <tr>\n",
       "      <th>1</th>\n",
       "      <td>NaN</td>\n",
       "      <td>Singer Company</td>\n",
       "      <td>NaN</td>\n",
       "      <td>United States</td>\n",
       "      <td>NaN</td>\n",
       "      <td>Florida</td>\n",
       "      <td>1988-04-25</td>\n",
       "      <td>Bilzerian Partners Lp</td>\n",
       "      <td>United States</td>\n",
       "      <td>Florida</td>\n",
       "      <td>Private Equity Firm</td>\n",
       "    </tr>\n",
       "    <tr>\n",
       "      <th>2</th>\n",
       "      <td>0.045</td>\n",
       "      <td>Wulfsberg Electronics, Inc.</td>\n",
       "      <td>117</td>\n",
       "      <td>United States</td>\n",
       "      <td>1970</td>\n",
       "      <td>Kansas</td>\n",
       "      <td>1979-10-01</td>\n",
       "      <td>GT Technology Fund</td>\n",
       "      <td>United Kingdom</td>\n",
       "      <td>Non-US</td>\n",
       "      <td>Bank Affiliated</td>\n",
       "    </tr>\n",
       "    <tr>\n",
       "      <th>3</th>\n",
       "      <td>0.09</td>\n",
       "      <td>Wulfsberg Electronics, Inc.</td>\n",
       "      <td>117</td>\n",
       "      <td>United States</td>\n",
       "      <td>1970</td>\n",
       "      <td>Kansas</td>\n",
       "      <td>1979-10-01</td>\n",
       "      <td>Melchor Venture Management Inc</td>\n",
       "      <td>United States</td>\n",
       "      <td>California</td>\n",
       "      <td>Private Equity Firm</td>\n",
       "    </tr>\n",
       "    <tr>\n",
       "      <th>4</th>\n",
       "      <td>1.643</td>\n",
       "      <td>Wulfsberg Electronics, Inc.</td>\n",
       "      <td>117</td>\n",
       "      <td>United States</td>\n",
       "      <td>1970</td>\n",
       "      <td>Kansas</td>\n",
       "      <td>1979-10-01</td>\n",
       "      <td>Hewlett-Packard Profit Sharing Trust</td>\n",
       "      <td>United States</td>\n",
       "      <td>California</td>\n",
       "      <td>Endowment, Foundation or Pension Fund</td>\n",
       "    </tr>\n",
       "  </tbody>\n",
       "</table>\n",
       "</div>"
      ],
      "text/plain": [
       "  amount                     assignee assignee_age_month assignee_country  \\\n",
       "0   90.3               Singer Company                NaN    United States   \n",
       "1    NaN               Singer Company                NaN    United States   \n",
       "2  0.045  Wulfsberg Electronics, Inc.                117    United States   \n",
       "3   0.09  Wulfsberg Electronics, Inc.                117    United States   \n",
       "4  1.643  Wulfsberg Electronics, Inc.                117    United States   \n",
       "\n",
       "  assignee_founded_year assignee_state        date  \\\n",
       "0                   NaN        Florida  1987-10-29   \n",
       "1                   NaN        Florida  1988-04-25   \n",
       "2                  1970         Kansas  1979-10-01   \n",
       "3                  1970         Kansas  1979-10-01   \n",
       "4                  1970         Kansas  1979-10-01   \n",
       "\n",
       "                                   firm    firm_country  firm_state  \\\n",
       "0                 Bilzerian Partners Lp   United States     Florida   \n",
       "1                 Bilzerian Partners Lp   United States     Florida   \n",
       "2                    GT Technology Fund  United Kingdom      Non-US   \n",
       "3        Melchor Venture Management Inc   United States  California   \n",
       "4  Hewlett-Packard Profit Sharing Trust   United States  California   \n",
       "\n",
       "                               firm_type  \n",
       "0                    Private Equity Firm  \n",
       "1                    Private Equity Firm  \n",
       "2                        Bank Affiliated  \n",
       "3                    Private Equity Firm  \n",
       "4  Endowment, Foundation or Pension Fund  "
      ]
     },
     "execution_count": 33,
     "metadata": {},
     "output_type": "execute_result"
    }
   ],
   "source": [
    "df.iloc[0:5,]"
   ]
  },
  {
   "cell_type": "code",
   "execution_count": 36,
   "metadata": {
    "collapsed": false
   },
   "outputs": [],
   "source": [
    "df.iloc[:,0]=map(float,df.iloc[:,0])"
   ]
  },
  {
   "cell_type": "code",
   "execution_count": 50,
   "metadata": {
    "collapsed": false
   },
   "outputs": [],
   "source": [
    "for i in range(0,len(df.index)):\n",
    "    for j in [2,4]:\n",
    "        if pd.isnull(df.iloc[i,j])==False:\n",
    "            df.iloc[i,j]=int(df.iloc[i,j])"
   ]
  },
  {
   "cell_type": "code",
   "execution_count": 51,
   "metadata": {
    "collapsed": false
   },
   "outputs": [
    {
     "name": "stdout",
     "output_type": "stream",
     "text": [
      "<type 'numpy.float64'> <type 'float'> <type 'int'> <type 'int'>\n"
     ]
    }
   ],
   "source": [
    "print type(df.iloc[0,0]), type(df.iloc[0,2]), type(df.iloc[2,2]), type(df.iloc[2,4])"
   ]
  },
  {
   "cell_type": "code",
   "execution_count": 52,
   "metadata": {
    "collapsed": true
   },
   "outputs": [],
   "source": [
    "def nameprocessing(s):\n",
    "    s = str(s)\n",
    "    \n",
    "    s = s.replace(\".\",\"\")\n",
    "    s = s.replace(\",\",\"\")    \n",
    "    s = s.replace(\";\",\"\")\n",
    "    s = ''.join(s.split()).lower()\n",
    "    \n",
    "    s = s.replace(\"incorporated\",\"inc\")\n",
    "    s = s.replace(\"limited\",\"ltd\")\n",
    "    s = s.replace(\"gmbh\",\"\")\n",
    "    \n",
    "    rm=['inc','ltd','llc','pte']\n",
    "    for i in range(0,len(s)):\n",
    "        if s[-3:] in rm:\n",
    "            s=s[:-3]\n",
    "        else:\n",
    "            break\n",
    "\n",
    "    return s"
   ]
  },
  {
   "cell_type": "code",
   "execution_count": 53,
   "metadata": {
    "collapsed": false
   },
   "outputs": [
    {
     "data": {
      "text/html": [
       "<div>\n",
       "<table border=\"1\" class=\"dataframe\">\n",
       "  <thead>\n",
       "    <tr style=\"text-align: right;\">\n",
       "      <th></th>\n",
       "      <th>amount</th>\n",
       "      <th>assignee</th>\n",
       "      <th>assignee_age_month</th>\n",
       "      <th>assignee_country</th>\n",
       "      <th>assignee_founded_year</th>\n",
       "      <th>assignee_state</th>\n",
       "      <th>date</th>\n",
       "      <th>firm</th>\n",
       "      <th>firm_country</th>\n",
       "      <th>firm_state</th>\n",
       "      <th>firm_type</th>\n",
       "      <th>new_assignee</th>\n",
       "    </tr>\n",
       "  </thead>\n",
       "  <tbody>\n",
       "    <tr>\n",
       "      <th>0</th>\n",
       "      <td>90.300</td>\n",
       "      <td>Singer Company</td>\n",
       "      <td>NaN</td>\n",
       "      <td>United States</td>\n",
       "      <td>NaN</td>\n",
       "      <td>Florida</td>\n",
       "      <td>1987-10-29</td>\n",
       "      <td>Bilzerian Partners Lp</td>\n",
       "      <td>United States</td>\n",
       "      <td>Florida</td>\n",
       "      <td>Private Equity Firm</td>\n",
       "      <td></td>\n",
       "    </tr>\n",
       "    <tr>\n",
       "      <th>1</th>\n",
       "      <td>NaN</td>\n",
       "      <td>Singer Company</td>\n",
       "      <td>NaN</td>\n",
       "      <td>United States</td>\n",
       "      <td>NaN</td>\n",
       "      <td>Florida</td>\n",
       "      <td>1988-04-25</td>\n",
       "      <td>Bilzerian Partners Lp</td>\n",
       "      <td>United States</td>\n",
       "      <td>Florida</td>\n",
       "      <td>Private Equity Firm</td>\n",
       "      <td></td>\n",
       "    </tr>\n",
       "    <tr>\n",
       "      <th>2</th>\n",
       "      <td>0.045</td>\n",
       "      <td>Wulfsberg Electronics, Inc.</td>\n",
       "      <td>117</td>\n",
       "      <td>United States</td>\n",
       "      <td>1970</td>\n",
       "      <td>Kansas</td>\n",
       "      <td>1979-10-01</td>\n",
       "      <td>GT Technology Fund</td>\n",
       "      <td>United Kingdom</td>\n",
       "      <td>Non-US</td>\n",
       "      <td>Bank Affiliated</td>\n",
       "      <td></td>\n",
       "    </tr>\n",
       "    <tr>\n",
       "      <th>3</th>\n",
       "      <td>0.090</td>\n",
       "      <td>Wulfsberg Electronics, Inc.</td>\n",
       "      <td>117</td>\n",
       "      <td>United States</td>\n",
       "      <td>1970</td>\n",
       "      <td>Kansas</td>\n",
       "      <td>1979-10-01</td>\n",
       "      <td>Melchor Venture Management Inc</td>\n",
       "      <td>United States</td>\n",
       "      <td>California</td>\n",
       "      <td>Private Equity Firm</td>\n",
       "      <td></td>\n",
       "    </tr>\n",
       "    <tr>\n",
       "      <th>4</th>\n",
       "      <td>1.643</td>\n",
       "      <td>Wulfsberg Electronics, Inc.</td>\n",
       "      <td>117</td>\n",
       "      <td>United States</td>\n",
       "      <td>1970</td>\n",
       "      <td>Kansas</td>\n",
       "      <td>1979-10-01</td>\n",
       "      <td>Hewlett-Packard Profit Sharing Trust</td>\n",
       "      <td>United States</td>\n",
       "      <td>California</td>\n",
       "      <td>Endowment, Foundation or Pension Fund</td>\n",
       "      <td></td>\n",
       "    </tr>\n",
       "  </tbody>\n",
       "</table>\n",
       "</div>"
      ],
      "text/plain": [
       "   amount                     assignee assignee_age_month assignee_country  \\\n",
       "0  90.300               Singer Company                NaN    United States   \n",
       "1     NaN               Singer Company                NaN    United States   \n",
       "2   0.045  Wulfsberg Electronics, Inc.                117    United States   \n",
       "3   0.090  Wulfsberg Electronics, Inc.                117    United States   \n",
       "4   1.643  Wulfsberg Electronics, Inc.                117    United States   \n",
       "\n",
       "  assignee_founded_year assignee_state        date  \\\n",
       "0                   NaN        Florida  1987-10-29   \n",
       "1                   NaN        Florida  1988-04-25   \n",
       "2                  1970         Kansas  1979-10-01   \n",
       "3                  1970         Kansas  1979-10-01   \n",
       "4                  1970         Kansas  1979-10-01   \n",
       "\n",
       "                                   firm    firm_country  firm_state  \\\n",
       "0                 Bilzerian Partners Lp   United States     Florida   \n",
       "1                 Bilzerian Partners Lp   United States     Florida   \n",
       "2                    GT Technology Fund  United Kingdom      Non-US   \n",
       "3        Melchor Venture Management Inc   United States  California   \n",
       "4  Hewlett-Packard Profit Sharing Trust   United States  California   \n",
       "\n",
       "                               firm_type new_assignee  \n",
       "0                    Private Equity Firm               \n",
       "1                    Private Equity Firm               \n",
       "2                        Bank Affiliated               \n",
       "3                    Private Equity Firm               \n",
       "4  Endowment, Foundation or Pension Fund               "
      ]
     },
     "execution_count": 53,
     "metadata": {},
     "output_type": "execute_result"
    }
   ],
   "source": [
    "df['new_assignee']=''\n",
    "df.iloc[0:5,]"
   ]
  },
  {
   "cell_type": "code",
   "execution_count": 56,
   "metadata": {
    "collapsed": true
   },
   "outputs": [],
   "source": [
    "for i in range(0,len(df.index)):\n",
    "    df.iloc[i,11]=nameprocessing(df.iloc[i,1])"
   ]
  },
  {
   "cell_type": "code",
   "execution_count": 58,
   "metadata": {
    "collapsed": true
   },
   "outputs": [],
   "source": [
    "df.to_csv('veh_selected_deal_info.csv',index=False)"
   ]
  }
 ],
 "metadata": {
  "anaconda-cloud": {},
  "kernelspec": {
   "display_name": "Python [conda root]",
   "language": "python",
   "name": "conda-root-py"
  },
  "language_info": {
   "codemirror_mode": {
    "name": "ipython",
    "version": 2
   },
   "file_extension": ".py",
   "mimetype": "text/x-python",
   "name": "python",
   "nbconvert_exporter": "python",
   "pygments_lexer": "ipython2",
   "version": "2.7.13"
  }
 },
 "nbformat": 4,
 "nbformat_minor": 1
}
