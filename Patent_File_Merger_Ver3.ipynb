{
 "cells": [
  {
   "cell_type": "markdown",
   "metadata": {},
   "source": [
    "## Patent File Merger"
   ]
  },
  {
   "cell_type": "markdown",
   "metadata": {},
   "source": [
    "### open zipfile\n",
    "\n",
    "1. 분리된 2개의 Patent zip file read\n",
    "\n",
    "2. 톰슨 zip 데이터 read"
   ]
  },
  {
   "cell_type": "code",
   "execution_count": 7,
   "metadata": {
    "collapsed": false
   },
   "outputs": [],
   "source": [
    "import pandas as pd\n",
    "import zipfile\n",
    "import csv\n",
    "\n",
    "zf_patent1 = zipfile.ZipFile('/Volumes/My Passport/For_Fat_Zip_v3/harvard_dataset_final_merged_output_1.zip') \n",
    "csv_patent1 = zf_patent1.open('harvard_dataset_final_merged_output_1.csv')\n",
    "\n",
    "csv_patent_reader1 = csv.reader(csv_patent1)\n",
    "\n",
    "zf_patent2 = zipfile.ZipFile('/Volumes/My Passport/For_Fat_Zip_v3/harvard_dataset_final_merged_output_2.zip') \n",
    "csv_patent2 = zf_patent2.open('harvard_dataset_final_merged_output_2.csv')\n",
    "csv_patent_reader2 = csv.reader(csv_patent2)\n",
    "\n",
    "zf_thomeson = zipfile.ZipFile('/Volumes/My Passport/For_Fat_Zip_v3/thomson_harvard_matched.zip') \n",
    "csv_thomeson = zf_thomeson.open('thomson_harvard_matched.csv')\n",
    "csv_thomeson_reader = csv.reader(csv_thomeson)"
   ]
  },
  {
   "cell_type": "markdown",
   "metadata": {},
   "source": [
    "### open column information\n",
    "\n",
    "3개의 나뉘어진 column csv 파일에서 True 선택한 데이터만 추출함\n"
   ]
  },
  {
   "cell_type": "code",
   "execution_count": 8,
   "metadata": {
    "collapsed": false
   },
   "outputs": [
    {
     "name": "stdout",
     "output_type": "stream",
     "text": [
      "[False, True, True, True, True, True, True, True, True, True]\n",
      "[True, True, True, True, True, True, True, True, True, True]\n"
     ]
    }
   ],
   "source": [
    "col_info_patent = pd.read_csv('/Volumes/My Passport/For_Fat_Zip_v3/harvard_dataset_final_merged_columns.csv',index_col = 0)\n",
    "selection_patent = [False] + col_info_patent.selector.tolist()\n",
    "\n",
    "print selection_patent[:10]\n",
    "\n",
    "col_info_thomeson = pd.read_csv('/Volumes/My Passport/For_Fat_Zip_v3/thomson_harvard_matched_column_formatted.csv',index_col = 0)\n",
    "selection_thomeson = col_info_thomeson.selector.tolist()\n",
    "\n",
    "print selection_thomeson[:10]"
   ]
  },
  {
   "cell_type": "markdown",
   "metadata": {},
   "source": [
    "### merge selected columns into one csv file\n",
    "\n",
    "분리된 파일에 있는 column에 해당하는 데이터 들을 하나의 파일로 합침"
   ]
  },
  {
   "cell_type": "code",
   "execution_count": null,
   "metadata": {
    "collapsed": false
   },
   "outputs": [],
   "source": [
    "from itertools import compress\n",
    "\n",
    "myfile = open(\"patent_thomeson_selected_columns_extracted.csv\", 'wb')\n",
    "myfile_writer = csv.writer(myfile,quoting=csv.QUOTE_ALL)\n",
    "\n",
    "i = 0\n",
    "num_total_row = 5271460\n",
    "\n",
    "for line in csv_thomeson_reader:\n",
    "    \n",
    "    if i <= int(num_total_row / 2) + 1:\n",
    "        harvard_data = next(csv_patent_reader1)\n",
    "    else:\n",
    "        if i == int(num_total_row / 2) + 2:\n",
    "            discard_column_line_from = next(csv_patent_reader2)\n",
    "            \n",
    "        harvard_data = next(csv_patent_reader2)\n",
    "    \n",
    "    sumline = list(compress(harvard_data, selection_patent)) + list(compress(line, selection_thomeson))\n",
    "    myfile_writer.writerow(sumline)\n",
    "    \n",
    "    i = i+1\n",
    "\n",
    "myfile.close()"
   ]
  }
 ],
 "metadata": {
  "anaconda-cloud": {},
  "kernelspec": {
   "display_name": "Python 2",
   "language": "python",
   "name": "python2"
  },
  "language_info": {
   "codemirror_mode": {
    "name": "ipython",
    "version": 2
   },
   "file_extension": ".py",
   "mimetype": "text/x-python",
   "name": "python",
   "nbconvert_exporter": "python",
   "pygments_lexer": "ipython2",
   "version": "2.7.13"
  }
 },
 "nbformat": 4,
 "nbformat_minor": 0
}
