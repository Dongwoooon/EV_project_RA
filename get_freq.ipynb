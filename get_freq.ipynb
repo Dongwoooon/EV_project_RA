{
 "cells": [
  {
   "cell_type": "markdown",
   "metadata": {},
   "source": [
    "# class별 freq 계산\n",
    "기본 setting"
   ]
  },
  {
   "cell_type": "code",
   "execution_count": 5,
   "metadata": {
    "collapsed": false
   },
   "outputs": [],
   "source": [
    "import pandas as pd\n",
    "import zipfile\n",
    "import csv\n",
    "import os\n",
    "\n",
    "os.chdir(\"E:/patent\")\n",
    "\n",
    "zf_patent1 = zipfile.ZipFile('harvard_vehicle_patent1.zip') \n",
    "csv_patent1 = zf_patent1.open('harvard_vehicle_patent1.csv')\n",
    "csv_patent_reader1 = csv.reader(csv_patent1)\n",
    "\n",
    "header=csv_patent_reader1.next()\n",
    "mainclass_col = []\n",
    "\n",
    "for j in range(62457,63354):\n",
    "    if 'mainclass' in header[j]:   \n",
    "        mainclass_col.append(j)\n",
    "\n",
    "freq = pd.read_csv('veh_class_freq.csv')\n",
    "veh_class = freq['class'].tolist()\n",
    "veh_class = map(int,veh_class)"
   ]
  },
  {
   "cell_type": "markdown",
   "metadata": {},
   "source": [
    "counting 시작"
   ]
  },
  {
   "cell_type": "code",
   "execution_count": 9,
   "metadata": {
    "collapsed": true
   },
   "outputs": [],
   "source": [
    "for line in csv_patent_reader1:\n",
    "    for i in mainclass_col:\n",
    "        if line[i]=='':   \n",
    "            break\n",
    "    \n",
    "        else:\n",
    "            try:            \n",
    "                if int(line[i]) in veh_class:\n",
    "                # 목표를 포착했다 freq를 1 늘리자\n",
    "                \n",
    "                    for j in range(0,len(veh_class)):\n",
    "                        if int(line[i])==freq.at[j,'class']:\n",
    "                            freq.at[j,'freq'] = freq.at[j,'freq']+1\n",
    "                            break\n",
    "                            # 볼일 다 봤으니 탈출\n",
    "                \n",
    "            except ValueError:\n",
    "                pass"
   ]
  },
  {
   "cell_type": "code",
   "execution_count": 11,
   "metadata": {
    "collapsed": true
   },
   "outputs": [],
   "source": [
    "zf_patent2 = zipfile.ZipFile('harvard_vehicle_patent2.zip') \n",
    "csv_patent2 = zf_patent2.open('harvard_vehicle_patent2.csv')\n",
    "csv_patent_reader2 = csv.reader(csv_patent2)\n",
    "csv_patent_reader2.next()\n",
    "\n",
    "for line in csv_patent_reader2:\n",
    "    for i in mainclass_col:\n",
    "        if line[i]=='':   \n",
    "            break\n",
    "    \n",
    "        else:\n",
    "            try:            \n",
    "                if int(line[i]) in veh_class:\n",
    "                # 목표를 포착했다 freq를 1 늘리자\n",
    "                \n",
    "                    for j in range(0,len(veh_class)):\n",
    "                        if int(line[i])==freq.at[j,'class']:\n",
    "                            freq.at[j,'freq'] = freq.at[j,'freq']+1\n",
    "                            break\n",
    "                            # 볼일 다 봤으니 탈출\n",
    "                \n",
    "            except ValueError:\n",
    "                pass\n",
    "\n",
    "freq.to_csv('veh_class_freq.csv',index=False)"
   ]
  },
  {
   "cell_type": "markdown",
   "metadata": {},
   "source": [
    "# Assignee list 만들기"
   ]
  }
 ],
 "metadata": {
  "anaconda-cloud": {},
  "kernelspec": {
   "display_name": "Python [conda root]",
   "language": "python",
   "name": "conda-root-py"
  },
  "language_info": {
   "codemirror_mode": {
    "name": "ipython",
    "version": 2
   },
   "file_extension": ".py",
   "mimetype": "text/x-python",
   "name": "python",
   "nbconvert_exporter": "python",
   "pygments_lexer": "ipython2",
   "version": "2.7.13"
  }
 },
 "nbformat": 4,
 "nbformat_minor": 1
}
