{
 "cells": [
  {
   "cell_type": "markdown",
   "metadata": {},
   "source": [
    "# class별 freq 계산\n",
    "기본 setting"
   ]
  },
  {
   "cell_type": "code",
   "execution_count": 5,
   "metadata": {
    "collapsed": false
   },
   "outputs": [],
   "source": [
    "import pandas as pd\n",
    "import zipfile\n",
    "import csv\n",
    "import os\n",
    "\n",
    "os.chdir(\"E:/patent\")\n",
    "\n",
    "zf_patent1 = zipfile.ZipFile('harvard_vehicle_patent1.zip') \n",
    "csv_patent1 = zf_patent1.open('harvard_vehicle_patent1.csv')\n",
    "csv_patent_reader1 = csv.reader(csv_patent1)\n",
    "\n",
    "header=csv_patent_reader1.next()\n",
    "mainclass_col = []\n",
    "\n",
    "for j in range(62457,63354):\n",
    "    if 'mainclass' in header[j]:   \n",
    "        mainclass_col.append(j)\n",
    "\n",
    "freq = pd.read_csv('veh_class_freq.csv')\n",
    "veh_class = freq['class'].tolist()\n",
    "veh_class = map(int,veh_class)"
   ]
  },
  {
   "cell_type": "markdown",
   "metadata": {},
   "source": [
    "counting 시작"
   ]
  },
  {
   "cell_type": "code",
   "execution_count": 9,
   "metadata": {
    "collapsed": true
   },
   "outputs": [],
   "source": [
    "for line in csv_patent_reader1:\n",
    "    for i in mainclass_col:\n",
    "        if line[i]=='':   \n",
    "            break\n",
    "    \n",
    "        else:\n",
    "            try:            \n",
    "                if int(line[i]) in veh_class:\n",
    "                # 목표를 포착했다 freq를 1 늘리자\n",
    "                \n",
    "                    for j in range(0,len(veh_class)):\n",
    "                        if int(line[i])==freq.at[j,'class']:\n",
    "                            freq.at[j,'freq'] = freq.at[j,'freq']+1\n",
    "                            break\n",
    "                            # 볼일 다 봤으니 탈출\n",
    "                \n",
    "            except ValueError:\n",
    "                pass"
   ]
  },
  {
   "cell_type": "code",
   "execution_count": 11,
   "metadata": {
    "collapsed": true
   },
   "outputs": [],
   "source": [
    "zf_patent2 = zipfile.ZipFile('harvard_vehicle_patent2.zip') \n",
    "csv_patent2 = zf_patent2.open('harvard_vehicle_patent2.csv')\n",
    "csv_patent_reader2 = csv.reader(csv_patent2)\n",
    "csv_patent_reader2.next()\n",
    "\n",
    "for line in csv_patent_reader2:\n",
    "    for i in mainclass_col:\n",
    "        if line[i]=='':   \n",
    "            break\n",
    "    \n",
    "        else:\n",
    "            try:            \n",
    "                if int(line[i]) in veh_class:\n",
    "                # 목표를 포착했다 freq를 1 늘리자\n",
    "                \n",
    "                    for j in range(0,len(veh_class)):\n",
    "                        if int(line[i])==freq.at[j,'class']:\n",
    "                            freq.at[j,'freq'] = freq.at[j,'freq']+1\n",
    "                            break\n",
    "                            # 볼일 다 봤으니 탈출\n",
    "                \n",
    "            except ValueError:\n",
    "                pass\n",
    "\n",
    "freq.to_csv('veh_class_freq.csv',index=False)"
   ]
  },
  {
   "cell_type": "markdown",
   "metadata": {},
   "source": [
    "# Assignee별 freq 계산"
   ]
  },
  {
   "cell_type": "markdown",
   "metadata": {},
   "source": [
    "## 1. assignee list 만들기\n",
    "기본 setting"
   ]
  },
  {
   "cell_type": "code",
   "execution_count": 7,
   "metadata": {
    "collapsed": false
   },
   "outputs": [],
   "source": [
    "import pandas as pd\n",
    "import zipfile\n",
    "import csv\n",
    "import os\n",
    "\n",
    "os.chdir(\"E:/patent\")\n",
    "\n",
    "zf_patent1 = zipfile.ZipFile('harvard_vehicle_patent1.zip') \n",
    "csv_patent1 = zf_patent1.open('harvard_vehicle_patent1.csv')\n",
    "csv_patent_reader1 = csv.reader(csv_patent1)\n",
    "\n",
    "header=csv_patent_reader1.next()\n",
    "assignee_col = []"
   ]
  },
  {
   "cell_type": "markdown",
   "metadata": {},
   "source": [
    "### Where is info about class?\n",
    "어떤 colummn이 assignee 정보를 담고 있는지 파악\n",
    "\n",
    "row 몇 개 value 보자\n",
    "\n",
    "19495 부터 assignee col 시작"
   ]
  },
  {
   "cell_type": "code",
   "execution_count": 8,
   "metadata": {
    "collapsed": false
   },
   "outputs": [
    {
     "name": "stdout",
     "output_type": "stream",
     "text": [
      "19495 assignee_id_0 dd84539d029e9c45a9de61bbb2954c6e\n",
      "19496 rawlocation_id_0 ||\n",
      "19497 type_0 nan\n",
      "19498 name_first_0 nan\n",
      "19499 name_last_0 nan\n",
      "19500 organization_0 ROBERT BOSCH GMBH\n",
      "19501 residence_0 nan\n",
      "19502 nationality_0 nan\n",
      "19503 sequence_0 0.0\n",
      "19504 uuid_1 DHQN\n",
      "19505 patent_id_1 4489382\n",
      "19506 assignee_id_1 dd84539d029e9c45a9de61bbb2954c6e\n",
      "19507 rawlocation_id_1 cupertino|ca|\n",
      "19508 type_1 3.0\n",
      "19509 name_first_1 nan\n",
      "19510 name_last_1 nan\n",
      "19511 organization_1 ROBERT BOSCH GMBH\n",
      "19512 residence_1 nan\n",
      "19513 nationality_1 nan\n",
      "19514 sequence_1 0.0\n",
      "19844 project_id 4489382\n",
      "19845 uuid_0 1099164\n",
      "19846 patent_id_0 4489382\n",
      "19847 inventor_id_0 3881567-1\n",
      "19848 rawlocation_id_0 oberriexingen||de\n",
      "19849 name_first_0 HEINZ\n",
      "19850 name_last_0 LEIBER\n",
      "19851 sequence_0 3\n",
      "19852 uuid_1 1098793\n",
      "19853 patent_id_1 4489382\n",
      "19854 inventor_id_1 3883184-2\n",
      "19855 rawlocation_id_1 ketsch||de\n",
      "19856 name_first_1 WOLFGANG\n",
      "19857 name_last_1 KORASIAK\n",
      "19858 sequence_1 2\n",
      "19859 uuid_2 1098794\n",
      "19860 patent_id_2 4489382\n",
      "19861 inventor_id_2 3883184-3\n",
      "19862 rawlocation_id_2 beilstein||de\n",
      "19863 name_first_2 WOLF DIETER\n",
      "19864 name_last_2 JONNER\n",
      "19865 sequence_2 1\n"
     ]
    }
   ],
   "source": [
    "row1 = csv_patent_reader1.next()\n",
    "for i in range(19495,20000):\n",
    "    if row1[i] != '':\n",
    "        print i, header[i], row1[i]"
   ]
  },
  {
   "cell_type": "code",
   "execution_count": 11,
   "metadata": {
    "collapsed": false
   },
   "outputs": [
    {
     "name": "stdout",
     "output_type": "stream",
     "text": [
      "19495 assignee_id_0 1b74a037b95447c7ce9deb8402022f66\n",
      "19496 rawlocation_id_0 murrayhill|nj|\n",
      "19497 type_0 2.0\n",
      "19498 name_first_0 nan\n",
      "19499 name_last_0 nan\n",
      "19500 organization_0 GENERAL ELECTRIC COMPANY\n",
      "19501 residence_0 nan\n",
      "19502 nationality_0 nan\n",
      "19503 sequence_0 0.0\n",
      "19504 uuid_1 630521\n",
      "19505 patent_id_1 4489385\n",
      "19506 assignee_id_1 1b74a037b95447c7ce9deb8402022f66\n",
      "19507 rawlocation_id_1 ||\n",
      "19508 type_1 nan\n",
      "19509 name_first_1 nan\n",
      "19510 name_last_1 nan\n",
      "19511 organization_1 GENERAL ELECTRIC COMPANY\n",
      "19512 residence_1 nan\n",
      "19513 nationality_1 nan\n",
      "19514 sequence_1 0.0\n",
      "19844 project_id 4489385\n",
      "19845 uuid_0 1098788\n",
      "19846 patent_id_0 4489385\n",
      "19847 inventor_id_0 3890500-3\n",
      "19848 rawlocation_id_0 schenectady|ny|us\n",
      "19849 name_first_0 CHARLES W\n",
      "19850 name_last_0 EICHELBERGER\n",
      "19851 sequence_0 2\n",
      "19852 uuid_1 1098787\n",
      "19853 patent_id_1 4489385\n",
      "19854 inventor_id_1 4167786-2\n",
      "19855 rawlocation_id_1 west warwick|ri|us\n",
      "19856 name_first_1 EDWARD B\n",
      "19857 name_last_1 MILLER\n",
      "19858 sequence_1 1\n"
     ]
    }
   ],
   "source": [
    "row2 = csv_patent_reader1.next()\n",
    "for i in range(19495,20000):\n",
    "    if row2[i] != '':\n",
    "        print i, header[i], row2[i]"
   ]
  },
  {
   "cell_type": "code",
   "execution_count": 64,
   "metadata": {
    "collapsed": false
   },
   "outputs": [
    {
     "name": "stdout",
     "output_type": "stream",
     "text": [
      "19495 assignee_id_0 a0fb2ae9b302a1cd65a882e52e665fdc\n",
      "19496 rawlocation_id_0 kyunggi-do||kr\n",
      "19497 type_0 2.0\n",
      "19498 name_first_0 nan\n",
      "19499 name_last_0 nan\n",
      "19500 organization_0 MAXTOR CORPORATION\n",
      "19501 residence_0 nan\n",
      "19502 nationality_0 nan\n",
      "19503 sequence_0 0.0\n",
      "19844 project_id 5491395\n",
      "19845 uuid_0 3131747\n",
      "19846 patent_id_0 5491395\n",
      "19847 inventor_id_0 5491395-4\n",
      "19848 rawlocation_id_0 longmont|co|us\n",
      "19849 name_first_0 JEFF\n",
      "19850 name_last_0 REH\n",
      "19851 sequence_0 3\n",
      "19852 uuid_1 3130214\n",
      "19853 patent_id_1 5491395\n",
      "19854 inventor_id_1 5466999-1\n",
      "19855 rawlocation_id_1 longmont|co|us\n",
      "19856 name_first_1 LARRY\n",
      "19857 name_last_1 HUTSELL\n",
      "19858 sequence_1 1\n",
      "19859 uuid_2 3130213\n",
      "19860 patent_id_2 5491395\n",
      "19861 inventor_id_2 5491395-2\n",
      "19862 rawlocation_id_2 longmont|co|us\n",
      "19863 name_first_2 GLENN\n",
      "19864 name_last_2 ALBERT\n",
      "19865 sequence_2 4\n",
      "19866 uuid_3 3130212\n",
      "19867 patent_id_3 5491395\n",
      "19868 inventor_id_3 5491395-1\n",
      "19869 rawlocation_id_3 longmont|co|us\n",
      "19870 name_first_3 CURT\n",
      "19871 name_last_3 BRUNER\n",
      "19872 sequence_3 2\n"
     ]
    }
   ],
   "source": [
    "row3 = csv_patent_reader1.next()\n",
    "for i in range(19495,20000):\n",
    "    if row3[i] != '':\n",
    "        print i, header[i], row3[i]"
   ]
  },
  {
   "cell_type": "markdown",
   "metadata": {},
   "source": [
    "### Problems\n",
    "1. assignee ID를 알아볼 수 없음\n",
    "\n",
    "2. assignee ID = organization?  \n",
    "Maybe, sample passes the test\n",
    "\n",
    "3. assignee0 = assingee1 & organization0 = organization1?:  \n",
    "mostly, but not necessarily  \n",
    "  \n",
    "4. assignee와 inventor의 관계? (# of assignee != # of inventor)"
   ]
  },
  {
   "cell_type": "code",
   "execution_count": 63,
   "metadata": {
    "collapsed": false
   },
   "outputs": [
    {
     "data": {
      "text/plain": [
       "0"
      ]
     },
     "execution_count": 63,
     "metadata": {},
     "output_type": "execute_result"
    }
   ],
   "source": [
    "# prob 2\n",
    "ass_list=[]\n",
    "org_list=[]\n",
    "for i in range(0,200000):\n",
    "    line=csv_patent_reader1.next()\n",
    "    ass_list.append(line[19495])\n",
    "    org_list.append(line[19500])\n",
    "\n",
    "df=pd.DataFrame({'assignee':ass_list, 'organization':org_list})\n",
    "df=df.drop_duplicates()\n",
    "dups=df.duplicated(subset='organization')\n",
    "sum(dups)"
   ]
  },
  {
   "cell_type": "code",
   "execution_count": 54,
   "metadata": {
    "collapsed": false
   },
   "outputs": [
    {
     "name": "stdout",
     "output_type": "stream",
     "text": [
      "35f85d6346a2374a68ece5a6286551ab /  / VARIABLE SPEECH CONTROL COMPANY (\"VSC\") / \n",
      "dfb1948da91c1cb278590cec9215e2ad /  / SOCIETE NATIONALE D'ETUDE ET DE CONSTRUCTION DE MOTEURS D'AVIATION \"S.N.E.C.M.A. / \n",
      "998 998 998\n"
     ]
    }
   ],
   "source": [
    "# prob 3\n",
    "\n",
    "check_ass=0\n",
    "check_org=0\n",
    "check_same=0\n",
    "for i in range(0,1000):\n",
    "    line=csv_patent_reader1.next()\n",
    "    if line[19495]==line[19506]:\n",
    "        check_ass=check_ass+1\n",
    "    if line[19500]==line[19511]:\n",
    "        check_org=check_org+1\n",
    "    if line[19495]==line[19506] and line[19500]==line[19511]:\n",
    "        check_same=check_same+1\n",
    "    if line[19495]!=line[19506] and line[19500]!=line[19511]:\n",
    "        print line[19495]+' / '+line[19506]+' / '+line[19500]+' / '+line[19511]\n",
    "\n",
    "print check_ass, check_org, check_same"
   ]
  },
  {
   "cell_type": "markdown",
   "metadata": {},
   "source": [
    "### assignee list 제작"
   ]
  },
  {
   "cell_type": "code",
   "execution_count": 9,
   "metadata": {
    "collapsed": true
   },
   "outputs": [],
   "source": [
    "assignee = []\n",
    "for line in csv_patent_reader1:\n",
    "    for i in ass_col:\n",
    "        if line[i]=='':\n",
    "            break\n",
    "            \n",
    "        else:\n",
    "            assignee.append(line[i])"
   ]
  }
 ],
 "metadata": {
  "anaconda-cloud": {},
  "kernelspec": {
   "display_name": "Python [conda root]",
   "language": "python",
   "name": "conda-root-py"
  },
  "language_info": {
   "codemirror_mode": {
    "name": "ipython",
    "version": 2
   },
   "file_extension": ".py",
   "mimetype": "text/x-python",
   "name": "python",
   "nbconvert_exporter": "python",
   "pygments_lexer": "ipython2",
   "version": "2.7.13"
  }
 },
 "nbformat": 4,
 "nbformat_minor": 1
}
