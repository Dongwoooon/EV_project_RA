{
 "cells": [
  {
   "cell_type": "markdown",
   "metadata": {},
   "source": [
    "# patent와 compustat merge"
   ]
  },
  {
   "cell_type": "markdown",
   "metadata": {},
   "source": [
    "### 할 일\n",
    "1. patent의 assignee name에서 plc, kft 제거\n",
    "2. patent와 compustat assignee name, year 매칭 성공률 확인\n",
    "3. assignee name, year 기준으로 matching"
   ]
  },
  {
   "cell_type": "markdown",
   "metadata": {},
   "source": [
    "### 1. patent의 assignee name에서 plc, kft 제거"
   ]
  },
  {
   "cell_type": "code",
   "execution_count": 1,
   "metadata": {
    "collapsed": true
   },
   "outputs": [],
   "source": [
    "import pandas as pd\n",
    "import os\n",
    "\n",
    "os.chdir(\"E:/patent\")"
   ]
  },
  {
   "cell_type": "code",
   "execution_count": 8,
   "metadata": {
    "collapsed": true
   },
   "outputs": [],
   "source": [
    "def noplc(s):\n",
    "    \n",
    "    rm=['inc','ltd','llc','pte','plc','kft']\n",
    "    for i in range(0,len(s)):\n",
    "        if s[-3:] in rm:\n",
    "            s=s[:-3]\n",
    "        else:\n",
    "            break\n",
    "\n",
    "    return s"
   ]
  },
  {
   "cell_type": "code",
   "execution_count": 6,
   "metadata": {
    "collapsed": false
   },
   "outputs": [
    {
     "name": "stderr",
     "output_type": "stream",
     "text": [
      "C:\\Users\\DW\\Anaconda2\\lib\\site-packages\\IPython\\core\\interactiveshell.py:2717: DtypeWarning: Columns (0) have mixed types. Specify dtype option on import or set low_memory=False.\n",
      "  interactivity=interactivity, compiler=compiler, result=result)\n"
     ]
    },
    {
     "data": {
      "text/plain": [
       "['patent_id', 'new_assignee', 'assignee']"
      ]
     },
     "execution_count": 6,
     "metadata": {},
     "output_type": "execute_result"
    }
   ],
   "source": [
    "df =  pd.read_csv('patents/pid_assignee.csv')\n",
    "list(df)"
   ]
  },
  {
   "cell_type": "code",
   "execution_count": 9,
   "metadata": {
    "collapsed": true
   },
   "outputs": [],
   "source": [
    "for i in range(0,len(df.index)):\n",
    "    s = str(df.iloc[i,1])\n",
    "    a = ['plc','kft']\n",
    "    \n",
    "    if s[-3:] in a:\n",
    "        df.iloc[i,1] = noplc(df.iloc[i,1])"
   ]
  },
  {
   "cell_type": "code",
   "execution_count": 11,
   "metadata": {
    "collapsed": false
   },
   "outputs": [],
   "source": [
    "df.to_csv('pid_assignee_2.csv',index=False)"
   ]
  },
  {
   "cell_type": "markdown",
   "metadata": {},
   "source": [
    "### 2. patent와 compustat assignee name 매칭 성공률 확인"
   ]
  },
  {
   "cell_type": "markdown",
   "metadata": {},
   "source": [
    "pid에 있는 new assignee list와 compustat의 new assignee list 비교"
   ]
  },
  {
   "cell_type": "code",
   "execution_count": 20,
   "metadata": {
    "collapsed": false
   },
   "outputs": [
    {
     "data": {
      "text/plain": [
       "119703"
      ]
     },
     "execution_count": 20,
     "metadata": {},
     "output_type": "execute_result"
    }
   ],
   "source": [
    "df = pd.read_csv('pid_assignee_date_deg.csv')\n",
    "pid = df['new_assignee']\n",
    "pid = pid.drop_duplicates().tolist()\n",
    "len(pid)"
   ]
  },
  {
   "cell_type": "code",
   "execution_count": 21,
   "metadata": {
    "collapsed": false
   },
   "outputs": [
    {
     "data": {
      "text/plain": [
       "['!j',\n",
       " '!maginethisrenovations',\n",
       " '&angstmsystemab',\n",
       " '&cokg',\n",
       " '&commatsecuritybroadbandcorp',\n",
       " '&commatyourcommand',\n",
       " '&ldquoalesa&rdquo&ldquolalliagilegeretsesapplications&rdquo',\n",
       " '&ldquodurable&rdquohunkejochheimcokg',\n",
       " '&oumlhlinsracingab',\n",
       " '&primebots']"
      ]
     },
     "execution_count": 21,
     "metadata": {},
     "output_type": "execute_result"
    }
   ],
   "source": [
    "pid.sort()\n",
    "pid[0:10]"
   ]
  },
  {
   "cell_type": "code",
   "execution_count": 12,
   "metadata": {
    "collapsed": false
   },
   "outputs": [
    {
     "data": {
      "text/plain": [
       "71098"
      ]
     },
     "execution_count": 12,
     "metadata": {},
     "output_type": "execute_result"
    }
   ],
   "source": [
    "df = pd.read_csv('compustat/compustat.csv')\n",
    "comp = df['new_assignee']\n",
    "comp = comp.drop_duplicates().tolist()\n",
    "len(comp)"
   ]
  },
  {
   "cell_type": "code",
   "execution_count": 16,
   "metadata": {
    "collapsed": false
   },
   "outputs": [
    {
     "data": {
      "text/plain": [
       "['01cyberatonsa',\n",
       " '1-800-attorney',\n",
       " '1-800-flowerscom',\n",
       " '1-800contacts',\n",
       " '1-page',\n",
       " '1000mercis',\n",
       " '1001opticalco',\n",
       " '1010printinggroup',\n",
       " '104corp',\n",
       " '10taclestudiosag']"
      ]
     },
     "execution_count": 16,
     "metadata": {},
     "output_type": "execute_result"
    }
   ],
   "source": [
    "comp[0:10]"
   ]
  },
  {
   "cell_type": "code",
   "execution_count": 22,
   "metadata": {
    "collapsed": true
   },
   "outputs": [],
   "source": [
    "del df"
   ]
  },
  {
   "cell_type": "code",
   "execution_count": 28,
   "metadata": {
    "collapsed": false
   },
   "outputs": [
    {
     "data": {
      "text/plain": [
       "4192"
      ]
     },
     "execution_count": 28,
     "metadata": {},
     "output_type": "execute_result"
    }
   ],
   "source": [
    "match = list(set(pid).intersection(comp))\n",
    "len(match)"
   ]
  },
  {
   "cell_type": "code",
   "execution_count": 29,
   "metadata": {
    "collapsed": false
   },
   "outputs": [
    {
     "data": {
      "text/plain": [
       "['sktelecomco',\n",
       " 'minoceramicco',\n",
       " 'daidoconcreteco',\n",
       " 'takamisawaelectricco',\n",
       " 'webmethods',\n",
       " 'tennesseevalleyauthority',\n",
       " 'softingag',\n",
       " 'nipponkatanco',\n",
       " 'newportnewsshipbuilding',\n",
       " 'iharachemicalindustryco']"
      ]
     },
     "execution_count": 29,
     "metadata": {},
     "output_type": "execute_result"
    }
   ],
   "source": [
    "match[0:10]"
   ]
  },
  {
   "cell_type": "code",
   "execution_count": 17,
   "metadata": {
    "collapsed": false
   },
   "outputs": [],
   "source": [
    "import csv\n",
    "\n",
    "with open('patent_comp_matched_list.csv', 'wb') as myfile:\n",
    "    wr = csv.writer(myfile, quoting=csv.QUOTE_ALL)\n",
    "    wr.writerow(ass)"
   ]
  },
  {
   "cell_type": "markdown",
   "metadata": {},
   "source": [
    "### 2-1. assignee + year matching 성공률 확인"
   ]
  },
  {
   "cell_type": "markdown",
   "metadata": {},
   "source": [
    "year까지 넣어서 얼마나 matching 가능한가 봐야지"
   ]
  },
  {
   "cell_type": "code",
   "execution_count": 3,
   "metadata": {
    "collapsed": false
   },
   "outputs": [
    {
     "data": {
      "text/plain": [
       "1485282"
      ]
     },
     "execution_count": 3,
     "metadata": {},
     "output_type": "execute_result"
    }
   ],
   "source": [
    "df = pd.read_csv('pid_assignee_date_deg.csv')\n",
    "pid = df[['patent_id','new_assignee','year']]\n",
    "len(pid)"
   ]
  },
  {
   "cell_type": "code",
   "execution_count": 7,
   "metadata": {
    "collapsed": false
   },
   "outputs": [
    {
     "data": {
      "text/plain": [
       "851180"
      ]
     },
     "execution_count": 7,
     "metadata": {},
     "output_type": "execute_result"
    }
   ],
   "source": [
    "df = pd.read_csv('compustat/compustat.csv')\n",
    "comp = df[['new_assignee','fyear','revt']]\n",
    "len(comp)"
   ]
  },
  {
   "cell_type": "code",
   "execution_count": 11,
   "metadata": {
    "collapsed": false
   },
   "outputs": [
    {
     "name": "stdout",
     "output_type": "stream",
     "text": [
      "<type 'numpy.float64'> <type 'numpy.float64'>\n"
     ]
    }
   ],
   "source": [
    "print type(pid.iloc[1,2]), type(comp.iloc[1,1])"
   ]
  },
  {
   "cell_type": "code",
   "execution_count": 12,
   "metadata": {
    "collapsed": false
   },
   "outputs": [
    {
     "data": {
      "text/plain": [
       "['new_assignee', 'year', 'revt']"
      ]
     },
     "execution_count": 12,
     "metadata": {},
     "output_type": "execute_result"
    }
   ],
   "source": [
    "del df\n",
    "comp.rename(columns={'fyear': 'year'}, inplace=True)\n",
    "list(comp)"
   ]
  },
  {
   "cell_type": "code",
   "execution_count": 13,
   "metadata": {
    "collapsed": false
   },
   "outputs": [
    {
     "data": {
      "text/plain": [
       "264559"
      ]
     },
     "execution_count": 13,
     "metadata": {},
     "output_type": "execute_result"
    }
   ],
   "source": [
    "match = pid.merge(comp, how='inner', on=['new_assignee','year'])\n",
    "len(match)"
   ]
  },
  {
   "cell_type": "code",
   "execution_count": 14,
   "metadata": {
    "collapsed": false,
    "scrolled": false
   },
   "outputs": [
    {
     "data": {
      "text/html": [
       "<div>\n",
       "<table border=\"1\" class=\"dataframe\">\n",
       "  <thead>\n",
       "    <tr style=\"text-align: right;\">\n",
       "      <th></th>\n",
       "      <th>patent_id</th>\n",
       "      <th>new_assignee</th>\n",
       "      <th>year</th>\n",
       "      <th>revt</th>\n",
       "    </tr>\n",
       "  </thead>\n",
       "  <tbody>\n",
       "    <tr>\n",
       "      <th>0</th>\n",
       "      <td>4763686</td>\n",
       "      <td>halliburtonco</td>\n",
       "      <td>1988.0</td>\n",
       "      <td>4825.7</td>\n",
       "    </tr>\n",
       "    <tr>\n",
       "      <th>1</th>\n",
       "      <td>4790341</td>\n",
       "      <td>halliburtonco</td>\n",
       "      <td>1988.0</td>\n",
       "      <td>4825.7</td>\n",
       "    </tr>\n",
       "    <tr>\n",
       "      <th>2</th>\n",
       "      <td>4791952</td>\n",
       "      <td>halliburtonco</td>\n",
       "      <td>1988.0</td>\n",
       "      <td>4825.7</td>\n",
       "    </tr>\n",
       "    <tr>\n",
       "      <th>3</th>\n",
       "      <td>4793411</td>\n",
       "      <td>halliburtonco</td>\n",
       "      <td>1988.0</td>\n",
       "      <td>4825.7</td>\n",
       "    </tr>\n",
       "    <tr>\n",
       "      <th>4</th>\n",
       "      <td>4817437</td>\n",
       "      <td>halliburtonco</td>\n",
       "      <td>1988.0</td>\n",
       "      <td>4825.7</td>\n",
       "    </tr>\n",
       "    <tr>\n",
       "      <th>5</th>\n",
       "      <td>4823594</td>\n",
       "      <td>halliburtonco</td>\n",
       "      <td>1988.0</td>\n",
       "      <td>4825.7</td>\n",
       "    </tr>\n",
       "    <tr>\n",
       "      <th>6</th>\n",
       "      <td>4829811</td>\n",
       "      <td>halliburtonco</td>\n",
       "      <td>1988.0</td>\n",
       "      <td>4825.7</td>\n",
       "    </tr>\n",
       "    <tr>\n",
       "      <th>7</th>\n",
       "      <td>4846769</td>\n",
       "      <td>halliburtonco</td>\n",
       "      <td>1988.0</td>\n",
       "      <td>4825.7</td>\n",
       "    </tr>\n",
       "    <tr>\n",
       "      <th>8</th>\n",
       "      <td>4848145</td>\n",
       "      <td>halliburtonco</td>\n",
       "      <td>1988.0</td>\n",
       "      <td>4825.7</td>\n",
       "    </tr>\n",
       "    <tr>\n",
       "      <th>9</th>\n",
       "      <td>4848461</td>\n",
       "      <td>halliburtonco</td>\n",
       "      <td>1988.0</td>\n",
       "      <td>4825.7</td>\n",
       "    </tr>\n",
       "  </tbody>\n",
       "</table>\n",
       "</div>"
      ],
      "text/plain": [
       "  patent_id   new_assignee    year    revt\n",
       "0   4763686  halliburtonco  1988.0  4825.7\n",
       "1   4790341  halliburtonco  1988.0  4825.7\n",
       "2   4791952  halliburtonco  1988.0  4825.7\n",
       "3   4793411  halliburtonco  1988.0  4825.7\n",
       "4   4817437  halliburtonco  1988.0  4825.7\n",
       "5   4823594  halliburtonco  1988.0  4825.7\n",
       "6   4829811  halliburtonco  1988.0  4825.7\n",
       "7   4846769  halliburtonco  1988.0  4825.7\n",
       "8   4848145  halliburtonco  1988.0  4825.7\n",
       "9   4848461  halliburtonco  1988.0  4825.7"
      ]
     },
     "execution_count": 14,
     "metadata": {},
     "output_type": "execute_result"
    }
   ],
   "source": [
    "match.iloc[0:10,]"
   ]
  },
  {
   "cell_type": "code",
   "execution_count": 18,
   "metadata": {
    "collapsed": true
   },
   "outputs": [],
   "source": [
    "match.to_csv('patent_comp_matched_sample.csv',index=False)"
   ]
  },
  {
   "cell_type": "code",
   "execution_count": 16,
   "metadata": {
    "collapsed": false
   },
   "outputs": [
    {
     "data": {
      "text/plain": [
       "3393"
      ]
     },
     "execution_count": 16,
     "metadata": {},
     "output_type": "execute_result"
    }
   ],
   "source": [
    "ass = match['new_assignee']\n",
    "ass = ass.drop_duplicates().tolist()\n",
    "len(ass)"
   ]
  },
  {
   "cell_type": "code",
   "execution_count": 17,
   "metadata": {
    "collapsed": false
   },
   "outputs": [],
   "source": [
    "import csv\n",
    "\n",
    "with open('patent_comp_matched_list.csv', 'wb') as myfile:\n",
    "    wr = csv.writer(myfile, quoting=csv.QUOTE_ALL)\n",
    "    wr.writerow(ass)"
   ]
  },
  {
   "cell_type": "markdown",
   "metadata": {},
   "source": [
    "__정리__\n",
    "- patent: 119703개 기업\n",
    "- compustat: 71098개 기업\n",
    "- matching: 3393개 기업   \n",
    "=> 전체 patent 기업 중 __2.8%__만 financial data 확보 가능 (그러나 financial data에도 missing 많아서 실제로는 더 줄어들 듯)\n",
    "  \n",
    "\n",
    "- patent: 1485282개\n",
    "- compustat: 851180개\n",
    "- matching: 264559개   \n",
    "=> 하지만 전체 observation 중에서는 __17.8%__ 정도 살릴 수 있음"
   ]
  },
  {
   "cell_type": "markdown",
   "metadata": {},
   "source": [
    "__문제__\n",
    "- 중간에 이름 바뀐 기업 추적 불가 (ex 구글의 경우 compustat에는 alphabet으로 나옴)  \n",
    "- 비상장사에 대한 추적 거의 불가  \n",
    "  \n",
    "__=> 어쩔 수 없다 그냥 가자__"
   ]
  },
  {
   "cell_type": "markdown",
   "metadata": {},
   "source": [
    "### 3. assignee name, year 기준으로 matching"
   ]
  },
  {
   "cell_type": "code",
   "execution_count": 2,
   "metadata": {
    "collapsed": false
   },
   "outputs": [
    {
     "name": "stderr",
     "output_type": "stream",
     "text": [
      "C:\\Users\\DW\\Anaconda2\\lib\\site-packages\\IPython\\core\\interactiveshell.py:2717: DtypeWarning: Columns (0) have mixed types. Specify dtype option on import or set low_memory=False.\n",
      "  interactivity=interactivity, compiler=compiler, result=result)\n"
     ]
    },
    {
     "name": "stdout",
     "output_type": "stream",
     "text": [
      "1485282 851180\n"
     ]
    }
   ],
   "source": [
    "pid = pd.read_csv('pid_assignee_date_deg.csv')\n",
    "comp = pd.read_csv('compustat/compustat.csv')\n",
    "print len(pid), len(comp)"
   ]
  },
  {
   "cell_type": "code",
   "execution_count": 3,
   "metadata": {
    "collapsed": false
   },
   "outputs": [
    {
     "data": {
      "text/plain": [
       "264559"
      ]
     },
     "execution_count": 3,
     "metadata": {},
     "output_type": "execute_result"
    }
   ],
   "source": [
    "comp.rename(columns={'fyear': 'year'}, inplace=True)\n",
    "match = pid.merge(comp, how='inner', on=['new_assignee','year'])\n",
    "len(match)"
   ]
  },
  {
   "cell_type": "code",
   "execution_count": 6,
   "metadata": {
    "collapsed": false,
    "scrolled": true
   },
   "outputs": [
    {
     "data": {
      "text/html": [
       "<div>\n",
       "<table border=\"1\" class=\"dataframe\">\n",
       "  <thead>\n",
       "    <tr style=\"text-align: right;\">\n",
       "      <th></th>\n",
       "      <th>patent_id</th>\n",
       "      <th>new_assignee</th>\n",
       "      <th>assignee</th>\n",
       "      <th>date</th>\n",
       "      <th>year</th>\n",
       "      <th>forward</th>\n",
       "      <th>backward</th>\n",
       "      <th>conm</th>\n",
       "      <th>conml</th>\n",
       "      <th>act</th>\n",
       "      <th>...</th>\n",
       "      <th>nicon</th>\n",
       "      <th>ninc</th>\n",
       "      <th>ninoc</th>\n",
       "      <th>ppegt</th>\n",
       "      <th>ppent</th>\n",
       "      <th>revt</th>\n",
       "      <th>teq</th>\n",
       "      <th>xlr</th>\n",
       "      <th>xrd</th>\n",
       "      <th>xstfws</th>\n",
       "    </tr>\n",
       "  </thead>\n",
       "  <tbody>\n",
       "    <tr>\n",
       "      <th>0</th>\n",
       "      <td>4763686</td>\n",
       "      <td>halliburtonco</td>\n",
       "      <td>HALLIBURTON CO.</td>\n",
       "      <td>1988-01-22</td>\n",
       "      <td>1988.0</td>\n",
       "      <td>0.0</td>\n",
       "      <td>39.0</td>\n",
       "      <td>HALLIBURTON CO</td>\n",
       "      <td>Halliburton Co</td>\n",
       "      <td>NaN</td>\n",
       "      <td>...</td>\n",
       "      <td>NaN</td>\n",
       "      <td>NaN</td>\n",
       "      <td>93.6</td>\n",
       "      <td>3283.3</td>\n",
       "      <td>964.4</td>\n",
       "      <td>4825.7</td>\n",
       "      <td>2107.2</td>\n",
       "      <td>2069.4</td>\n",
       "      <td>81.0</td>\n",
       "      <td>NaN</td>\n",
       "    </tr>\n",
       "    <tr>\n",
       "      <th>1</th>\n",
       "      <td>4790341</td>\n",
       "      <td>halliburtonco</td>\n",
       "      <td>HALLIBURTON CO.</td>\n",
       "      <td>1988-01-22</td>\n",
       "      <td>1988.0</td>\n",
       "      <td>1.0</td>\n",
       "      <td>38.0</td>\n",
       "      <td>HALLIBURTON CO</td>\n",
       "      <td>Halliburton Co</td>\n",
       "      <td>NaN</td>\n",
       "      <td>...</td>\n",
       "      <td>NaN</td>\n",
       "      <td>NaN</td>\n",
       "      <td>93.6</td>\n",
       "      <td>3283.3</td>\n",
       "      <td>964.4</td>\n",
       "      <td>4825.7</td>\n",
       "      <td>2107.2</td>\n",
       "      <td>2069.4</td>\n",
       "      <td>81.0</td>\n",
       "      <td>NaN</td>\n",
       "    </tr>\n",
       "    <tr>\n",
       "      <th>2</th>\n",
       "      <td>4791952</td>\n",
       "      <td>halliburtonco</td>\n",
       "      <td>HALLIBURTON CO.</td>\n",
       "      <td>1988-01-22</td>\n",
       "      <td>1988.0</td>\n",
       "      <td>0.0</td>\n",
       "      <td>36.0</td>\n",
       "      <td>HALLIBURTON CO</td>\n",
       "      <td>Halliburton Co</td>\n",
       "      <td>NaN</td>\n",
       "      <td>...</td>\n",
       "      <td>NaN</td>\n",
       "      <td>NaN</td>\n",
       "      <td>93.6</td>\n",
       "      <td>3283.3</td>\n",
       "      <td>964.4</td>\n",
       "      <td>4825.7</td>\n",
       "      <td>2107.2</td>\n",
       "      <td>2069.4</td>\n",
       "      <td>81.0</td>\n",
       "      <td>NaN</td>\n",
       "    </tr>\n",
       "    <tr>\n",
       "      <th>3</th>\n",
       "      <td>4793411</td>\n",
       "      <td>halliburtonco</td>\n",
       "      <td>HALLIBURTON CO.</td>\n",
       "      <td>1988-06-29</td>\n",
       "      <td>1988.0</td>\n",
       "      <td>3.0</td>\n",
       "      <td>17.0</td>\n",
       "      <td>HALLIBURTON CO</td>\n",
       "      <td>Halliburton Co</td>\n",
       "      <td>NaN</td>\n",
       "      <td>...</td>\n",
       "      <td>NaN</td>\n",
       "      <td>NaN</td>\n",
       "      <td>93.6</td>\n",
       "      <td>3283.3</td>\n",
       "      <td>964.4</td>\n",
       "      <td>4825.7</td>\n",
       "      <td>2107.2</td>\n",
       "      <td>2069.4</td>\n",
       "      <td>81.0</td>\n",
       "      <td>NaN</td>\n",
       "    </tr>\n",
       "    <tr>\n",
       "      <th>4</th>\n",
       "      <td>4817437</td>\n",
       "      <td>halliburtonco</td>\n",
       "      <td>HALLIBURTON CO.</td>\n",
       "      <td>1988-07-08</td>\n",
       "      <td>1988.0</td>\n",
       "      <td>2.0</td>\n",
       "      <td>3.0</td>\n",
       "      <td>HALLIBURTON CO</td>\n",
       "      <td>Halliburton Co</td>\n",
       "      <td>NaN</td>\n",
       "      <td>...</td>\n",
       "      <td>NaN</td>\n",
       "      <td>NaN</td>\n",
       "      <td>93.6</td>\n",
       "      <td>3283.3</td>\n",
       "      <td>964.4</td>\n",
       "      <td>4825.7</td>\n",
       "      <td>2107.2</td>\n",
       "      <td>2069.4</td>\n",
       "      <td>81.0</td>\n",
       "      <td>NaN</td>\n",
       "    </tr>\n",
       "    <tr>\n",
       "      <th>5</th>\n",
       "      <td>4823594</td>\n",
       "      <td>halliburtonco</td>\n",
       "      <td>HALLIBURTON CO.</td>\n",
       "      <td>1988-03-14</td>\n",
       "      <td>1988.0</td>\n",
       "      <td>24.0</td>\n",
       "      <td>15.0</td>\n",
       "      <td>HALLIBURTON CO</td>\n",
       "      <td>Halliburton Co</td>\n",
       "      <td>NaN</td>\n",
       "      <td>...</td>\n",
       "      <td>NaN</td>\n",
       "      <td>NaN</td>\n",
       "      <td>93.6</td>\n",
       "      <td>3283.3</td>\n",
       "      <td>964.4</td>\n",
       "      <td>4825.7</td>\n",
       "      <td>2107.2</td>\n",
       "      <td>2069.4</td>\n",
       "      <td>81.0</td>\n",
       "      <td>NaN</td>\n",
       "    </tr>\n",
       "    <tr>\n",
       "      <th>6</th>\n",
       "      <td>4829811</td>\n",
       "      <td>halliburtonco</td>\n",
       "      <td>HALLIBURTON CO.</td>\n",
       "      <td>1988-04-08</td>\n",
       "      <td>1988.0</td>\n",
       "      <td>7.0</td>\n",
       "      <td>6.0</td>\n",
       "      <td>HALLIBURTON CO</td>\n",
       "      <td>Halliburton Co</td>\n",
       "      <td>NaN</td>\n",
       "      <td>...</td>\n",
       "      <td>NaN</td>\n",
       "      <td>NaN</td>\n",
       "      <td>93.6</td>\n",
       "      <td>3283.3</td>\n",
       "      <td>964.4</td>\n",
       "      <td>4825.7</td>\n",
       "      <td>2107.2</td>\n",
       "      <td>2069.4</td>\n",
       "      <td>81.0</td>\n",
       "      <td>NaN</td>\n",
       "    </tr>\n",
       "    <tr>\n",
       "      <th>7</th>\n",
       "      <td>4846769</td>\n",
       "      <td>halliburtonco</td>\n",
       "      <td>HALLIBURTON CO.</td>\n",
       "      <td>1988-02-10</td>\n",
       "      <td>1988.0</td>\n",
       "      <td>1.0</td>\n",
       "      <td>8.0</td>\n",
       "      <td>HALLIBURTON CO</td>\n",
       "      <td>Halliburton Co</td>\n",
       "      <td>NaN</td>\n",
       "      <td>...</td>\n",
       "      <td>NaN</td>\n",
       "      <td>NaN</td>\n",
       "      <td>93.6</td>\n",
       "      <td>3283.3</td>\n",
       "      <td>964.4</td>\n",
       "      <td>4825.7</td>\n",
       "      <td>2107.2</td>\n",
       "      <td>2069.4</td>\n",
       "      <td>81.0</td>\n",
       "      <td>NaN</td>\n",
       "    </tr>\n",
       "    <tr>\n",
       "      <th>8</th>\n",
       "      <td>4848145</td>\n",
       "      <td>halliburtonco</td>\n",
       "      <td>HALLIBURTON CO.</td>\n",
       "      <td>1988-09-21</td>\n",
       "      <td>1988.0</td>\n",
       "      <td>22.0</td>\n",
       "      <td>10.0</td>\n",
       "      <td>HALLIBURTON CO</td>\n",
       "      <td>Halliburton Co</td>\n",
       "      <td>NaN</td>\n",
       "      <td>...</td>\n",
       "      <td>NaN</td>\n",
       "      <td>NaN</td>\n",
       "      <td>93.6</td>\n",
       "      <td>3283.3</td>\n",
       "      <td>964.4</td>\n",
       "      <td>4825.7</td>\n",
       "      <td>2107.2</td>\n",
       "      <td>2069.4</td>\n",
       "      <td>81.0</td>\n",
       "      <td>NaN</td>\n",
       "    </tr>\n",
       "    <tr>\n",
       "      <th>9</th>\n",
       "      <td>4848461</td>\n",
       "      <td>halliburtonco</td>\n",
       "      <td>HALLIBURTON CO.</td>\n",
       "      <td>1988-06-24</td>\n",
       "      <td>1988.0</td>\n",
       "      <td>7.0</td>\n",
       "      <td>6.0</td>\n",
       "      <td>HALLIBURTON CO</td>\n",
       "      <td>Halliburton Co</td>\n",
       "      <td>NaN</td>\n",
       "      <td>...</td>\n",
       "      <td>NaN</td>\n",
       "      <td>NaN</td>\n",
       "      <td>93.6</td>\n",
       "      <td>3283.3</td>\n",
       "      <td>964.4</td>\n",
       "      <td>4825.7</td>\n",
       "      <td>2107.2</td>\n",
       "      <td>2069.4</td>\n",
       "      <td>81.0</td>\n",
       "      <td>NaN</td>\n",
       "    </tr>\n",
       "  </tbody>\n",
       "</table>\n",
       "<p>10 rows × 38 columns</p>\n",
       "</div>"
      ],
      "text/plain": [
       "  patent_id   new_assignee         assignee        date    year  forward  \\\n",
       "0   4763686  halliburtonco  HALLIBURTON CO.  1988-01-22  1988.0      0.0   \n",
       "1   4790341  halliburtonco  HALLIBURTON CO.  1988-01-22  1988.0      1.0   \n",
       "2   4791952  halliburtonco  HALLIBURTON CO.  1988-01-22  1988.0      0.0   \n",
       "3   4793411  halliburtonco  HALLIBURTON CO.  1988-06-29  1988.0      3.0   \n",
       "4   4817437  halliburtonco  HALLIBURTON CO.  1988-07-08  1988.0      2.0   \n",
       "5   4823594  halliburtonco  HALLIBURTON CO.  1988-03-14  1988.0     24.0   \n",
       "6   4829811  halliburtonco  HALLIBURTON CO.  1988-04-08  1988.0      7.0   \n",
       "7   4846769  halliburtonco  HALLIBURTON CO.  1988-02-10  1988.0      1.0   \n",
       "8   4848145  halliburtonco  HALLIBURTON CO.  1988-09-21  1988.0     22.0   \n",
       "9   4848461  halliburtonco  HALLIBURTON CO.  1988-06-24  1988.0      7.0   \n",
       "\n",
       "   backward            conm           conml  act  ...    nicon ninc ninoc  \\\n",
       "0      39.0  HALLIBURTON CO  Halliburton Co  NaN  ...      NaN  NaN  93.6   \n",
       "1      38.0  HALLIBURTON CO  Halliburton Co  NaN  ...      NaN  NaN  93.6   \n",
       "2      36.0  HALLIBURTON CO  Halliburton Co  NaN  ...      NaN  NaN  93.6   \n",
       "3      17.0  HALLIBURTON CO  Halliburton Co  NaN  ...      NaN  NaN  93.6   \n",
       "4       3.0  HALLIBURTON CO  Halliburton Co  NaN  ...      NaN  NaN  93.6   \n",
       "5      15.0  HALLIBURTON CO  Halliburton Co  NaN  ...      NaN  NaN  93.6   \n",
       "6       6.0  HALLIBURTON CO  Halliburton Co  NaN  ...      NaN  NaN  93.6   \n",
       "7       8.0  HALLIBURTON CO  Halliburton Co  NaN  ...      NaN  NaN  93.6   \n",
       "8      10.0  HALLIBURTON CO  Halliburton Co  NaN  ...      NaN  NaN  93.6   \n",
       "9       6.0  HALLIBURTON CO  Halliburton Co  NaN  ...      NaN  NaN  93.6   \n",
       "\n",
       "    ppegt  ppent    revt     teq     xlr   xrd xstfws  \n",
       "0  3283.3  964.4  4825.7  2107.2  2069.4  81.0    NaN  \n",
       "1  3283.3  964.4  4825.7  2107.2  2069.4  81.0    NaN  \n",
       "2  3283.3  964.4  4825.7  2107.2  2069.4  81.0    NaN  \n",
       "3  3283.3  964.4  4825.7  2107.2  2069.4  81.0    NaN  \n",
       "4  3283.3  964.4  4825.7  2107.2  2069.4  81.0    NaN  \n",
       "5  3283.3  964.4  4825.7  2107.2  2069.4  81.0    NaN  \n",
       "6  3283.3  964.4  4825.7  2107.2  2069.4  81.0    NaN  \n",
       "7  3283.3  964.4  4825.7  2107.2  2069.4  81.0    NaN  \n",
       "8  3283.3  964.4  4825.7  2107.2  2069.4  81.0    NaN  \n",
       "9  3283.3  964.4  4825.7  2107.2  2069.4  81.0    NaN  \n",
       "\n",
       "[10 rows x 38 columns]"
      ]
     },
     "execution_count": 6,
     "metadata": {},
     "output_type": "execute_result"
    }
   ],
   "source": [
    "match.iloc[0:10,]"
   ]
  },
  {
   "cell_type": "code",
   "execution_count": 7,
   "metadata": {
    "collapsed": true
   },
   "outputs": [],
   "source": [
    "match.to_csv('patent_compustat.csv',index=False)"
   ]
  },
  {
   "cell_type": "markdown",
   "metadata": {},
   "source": [
    "__assignee, year 기준 sorting은 excel로 마무리__"
   ]
  }
 ],
 "metadata": {
  "anaconda-cloud": {},
  "kernelspec": {
   "display_name": "Python [conda root]",
   "language": "python",
   "name": "conda-root-py"
  },
  "language_info": {
   "codemirror_mode": {
    "name": "ipython",
    "version": 2
   },
   "file_extension": ".py",
   "mimetype": "text/x-python",
   "name": "python",
   "nbconvert_exporter": "python",
   "pygments_lexer": "ipython2",
   "version": "2.7.13"
  }
 },
 "nbformat": 4,
 "nbformat_minor": 1
}
