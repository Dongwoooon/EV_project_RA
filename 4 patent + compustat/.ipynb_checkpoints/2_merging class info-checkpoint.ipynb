{
 "cells": [
  {
   "cell_type": "markdown",
   "metadata": {},
   "source": [
    "# class 정보 추출\n",
    "\n",
    "전체 patent의 class 정보 중, compustat 있는 patent(264559개)의 class 정보만 추출"
   ]
  },
  {
   "cell_type": "code",
   "execution_count": 2,
   "metadata": {
    "collapsed": true
   },
   "outputs": [],
   "source": [
    "import pandas as pd\n",
    "import os\n",
    "import csv\n",
    "\n",
    "os.chdir(\"E:/patent\")"
   ]
  },
  {
   "cell_type": "code",
   "execution_count": 3,
   "metadata": {},
   "outputs": [
    {
     "name": "stdout",
     "output_type": "stream",
     "text": [
      "264559 ['new_assignee', 'year', 'patent_id', 'revt']\n"
     ]
    }
   ],
   "source": [
    "df=pd.read_csv('patent_comp_matched_sample.csv')\n",
    "print len(df), list(df)"
   ]
  },
  {
   "cell_type": "markdown",
   "metadata": {},
   "source": [
    "__연결, 별도 정보가 모두 있는 경우가 있어서 중복 발생!! 나중에 처리 필요__"
   ]
  },
  {
   "cell_type": "code",
   "execution_count": 24,
   "metadata": {},
   "outputs": [
    {
     "name": "stdout",
     "output_type": "stream",
     "text": [
      "216820 ['4763686', '4769798', '4773881', '4774697', '4776217']\n"
     ]
    }
   ],
   "source": [
    "pid = df['patent_id'].drop_duplicates().tolist()\n",
    "pid.sort()\n",
    "print len(pid), pid[0:5]"
   ]
  },
  {
   "cell_type": "code",
   "execution_count": 6,
   "metadata": {},
   "outputs": [
    {
     "data": {
      "text/plain": [
       "str"
      ]
     },
     "execution_count": 6,
     "metadata": {},
     "output_type": "execute_result"
    }
   ],
   "source": [
    "type(pid[1])"
   ]
  },
  {
   "cell_type": "code",
   "execution_count": 25,
   "metadata": {
    "collapsed": true
   },
   "outputs": [],
   "source": [
    "csv_patent1 = open('patents/veh_pid_class_processed.csv')\n",
    "csv_patent_reader1 = csv.reader(csv_patent1)\n",
    "header=csv_patent_reader1.next()"
   ]
  },
  {
   "cell_type": "code",
   "execution_count": 13,
   "metadata": {},
   "outputs": [
    {
     "name": "stdout",
     "output_type": "stream",
     "text": [
      "362 ['row', 'patent_id', 'mainclass_id_0', 'subclass_id_0', 'mainclass_id_1']\n"
     ]
    }
   ],
   "source": [
    "print len(header), header[0:5]"
   ]
  },
  {
   "cell_type": "code",
   "execution_count": 26,
   "metadata": {},
   "outputs": [],
   "source": [
    "with open('patent_compustat_class.csv','wb') as f:\n",
    "    f_writer = csv.writer(f,quoting=csv.QUOTE_ALL)\n",
    "    f_writer.writerow(header)\n",
    "    \n",
    "    for line in csv_patent_reader1:\n",
    "        if line[1]==pid[0]:\n",
    "            f_writer.writerow(line)\n",
    "            del pid[0]\n",
    "            if len(pid)==0:\n",
    "                break"
   ]
  }
 ],
 "metadata": {
  "anaconda-cloud": {},
  "kernelspec": {
   "display_name": "Python 2",
   "language": "python",
   "name": "python2"
  },
  "language_info": {
   "codemirror_mode": {
    "name": "ipython",
    "version": 2
   },
   "file_extension": ".py",
   "mimetype": "text/x-python",
   "name": "python",
   "nbconvert_exporter": "python",
   "pygments_lexer": "ipython2",
   "version": "2.7.13"
  }
 },
 "nbformat": 4,
 "nbformat_minor": 1
}
