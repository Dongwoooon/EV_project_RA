{
 "cells": [
  {
   "cell_type": "markdown",
   "metadata": {},
   "source": [
    "# Patent class exploration\n",
    "\n",
    "정말 전기차와 관련있는 Patent selection 필요  \n",
    "1. 21만개 patent가 속한 class (main & sub)들 찾기\n",
    "2. class들 description 확인\n",
    "3. description 바탕으로 class selection\n",
    "4. selected class 바탕으로 patent selection"
   ]
  },
  {
   "cell_type": "markdown",
   "metadata": {},
   "source": [
    "### 1. 21만개 patent가 속한 class 찾기"
   ]
  },
  {
   "cell_type": "code",
   "execution_count": 1,
   "metadata": {
    "collapsed": true
   },
   "outputs": [],
   "source": [
    "import pandas as pd\n",
    "import os\n",
    "import csv\n",
    "\n",
    "os.chdir(\"E:/patent\")"
   ]
  },
  {
   "cell_type": "code",
   "execution_count": 2,
   "metadata": {
    "collapsed": false,
    "scrolled": true
   },
   "outputs": [],
   "source": [
    "df = pd.read_csv('all_patent/veh_class.csv')\n",
    "header=df['class'].tolist()"
   ]
  },
  {
   "cell_type": "code",
   "execution_count": 3,
   "metadata": {
    "collapsed": false
   },
   "outputs": [
    {
     "data": {
      "text/plain": [
       "long"
      ]
     },
     "execution_count": 3,
     "metadata": {},
     "output_type": "execute_result"
    }
   ],
   "source": [
    "type(header[0])"
   ]
  },
  {
   "cell_type": "code",
   "execution_count": 4,
   "metadata": {
    "collapsed": false,
    "scrolled": true
   },
   "outputs": [
    {
     "data": {
      "text/plain": [
       "[44,\n",
       " 70,\n",
       " 73,\n",
       " 74,\n",
       " 123,\n",
       " 152,\n",
       " 173,\n",
       " 180,\n",
       " 188,\n",
       " 191,\n",
       " 192,\n",
       " 248,\n",
       " 278,\n",
       " 280,\n",
       " 293,\n",
       " 294,\n",
       " 296,\n",
       " 297,\n",
       " 298,\n",
       " 301,\n",
       " 303,\n",
       " 305,\n",
       " 307,\n",
       " 310,\n",
       " 315,\n",
       " 318,\n",
       " 320,\n",
       " 322,\n",
       " 323,\n",
       " 324,\n",
       " 326,\n",
       " 327,\n",
       " 340,\n",
       " 341,\n",
       " 346,\n",
       " 361,\n",
       " 363,\n",
       " 368,\n",
       " 370,\n",
       " 375,\n",
       " 377,\n",
       " 388,\n",
       " 403,\n",
       " 429,\n",
       " 439,\n",
       " 474,\n",
       " 476,\n",
       " 477,\n",
       " 492,\n",
       " 700,\n",
       " 701,\n",
       " 702,\n",
       " 706,\n",
       " 707,\n",
       " 709,\n",
       " 710,\n",
       " 711,\n",
       " 712,\n",
       " 713,\n",
       " 714,\n",
       " 718,\n",
       " 719,\n",
       " 726,\n",
       " 901,\n",
       " 903]"
      ]
     },
     "execution_count": 4,
     "metadata": {},
     "output_type": "execute_result"
    }
   ],
   "source": [
    "header=map(int,header)\n",
    "header"
   ]
  },
  {
   "cell_type": "code",
   "execution_count": 5,
   "metadata": {
    "collapsed": false,
    "scrolled": true
   },
   "outputs": [
    {
     "data": {
      "text/plain": [
       "{44: [],\n",
       " 70: [],\n",
       " 73: [],\n",
       " 74: [],\n",
       " 123: [],\n",
       " 152: [],\n",
       " 173: [],\n",
       " 180: [],\n",
       " 188: [],\n",
       " 191: [],\n",
       " 192: [],\n",
       " 248: [],\n",
       " 278: [],\n",
       " 280: [],\n",
       " 293: [],\n",
       " 294: [],\n",
       " 296: [],\n",
       " 297: [],\n",
       " 298: [],\n",
       " 301: [],\n",
       " 303: [],\n",
       " 305: [],\n",
       " 307: [],\n",
       " 310: [],\n",
       " 315: [],\n",
       " 318: [],\n",
       " 320: [],\n",
       " 322: [],\n",
       " 323: [],\n",
       " 324: [],\n",
       " 326: [],\n",
       " 327: [],\n",
       " 340: [],\n",
       " 341: [],\n",
       " 346: [],\n",
       " 361: [],\n",
       " 363: [],\n",
       " 368: [],\n",
       " 370: [],\n",
       " 375: [],\n",
       " 377: [],\n",
       " 388: [],\n",
       " 403: [],\n",
       " 429: [],\n",
       " 439: [],\n",
       " 474: [],\n",
       " 476: [],\n",
       " 477: [],\n",
       " 492: [],\n",
       " 700: [],\n",
       " 701: [],\n",
       " 702: [],\n",
       " 706: [],\n",
       " 707: [],\n",
       " 709: [],\n",
       " 710: [],\n",
       " 711: [],\n",
       " 712: [],\n",
       " 713: [],\n",
       " 714: [],\n",
       " 718: [],\n",
       " 719: [],\n",
       " 726: [],\n",
       " 901: [],\n",
       " 903: []}"
      ]
     },
     "execution_count": 5,
     "metadata": {},
     "output_type": "execute_result"
    }
   ],
   "source": [
    "d = [[] for x in xrange(len(header))]\n",
    "df = dict(zip(header, d))\n",
    "df"
   ]
  },
  {
   "cell_type": "code",
   "execution_count": 6,
   "metadata": {
    "collapsed": false
   },
   "outputs": [],
   "source": [
    "cls= csv.reader(open('patent_compustat_class.csv', 'rb'))\n",
    "row0 = cls.next()"
   ]
  },
  {
   "cell_type": "markdown",
   "metadata": {},
   "source": [
    "__2가지 문제__    \n",
    "원인: class: patent 1개에 여러개의 class\n",
    "1. veh_class가 아닌 class: pass  \n",
    " 1.1 class가 string (ValueError)  \n",
    " 1.2 class가 int (KeyError)\n",
    "2. NA: break하고 다음 patent로 넘어감"
   ]
  },
  {
   "cell_type": "code",
   "execution_count": 7,
   "metadata": {
    "collapsed": false
   },
   "outputs": [],
   "source": [
    "for line in cls:\n",
    "    line = line[1:]\n",
    "    for i in range(0,len(line)/2):\n",
    "        if line[2*i]=='':\n",
    "            break\n",
    "        \n",
    "        else:\n",
    "            try:\n",
    "                try:\n",
    "                    m=int(line[2*i])\n",
    "                    df[m].append(line[2*i+1])\n",
    "                    \n",
    "                except ValueError:\n",
    "                    pass\n",
    "\n",
    "            except KeyError:\n",
    "                pass\n",
    "        \n",
    "for key in df.keys():\n",
    "    df[key]=list(set(df[key]))"
   ]
  },
  {
   "cell_type": "code",
   "execution_count": 8,
   "metadata": {
    "collapsed": false
   },
   "outputs": [
    {
     "data": {
      "text/plain": [
       "22114"
      ]
     },
     "execution_count": 8,
     "metadata": {},
     "output_type": "execute_result"
    }
   ],
   "source": [
    "a=0\n",
    "for key in df.keys():\n",
    "    a=a+len(df[key])\n",
    "a"
   ]
  },
  {
   "cell_type": "code",
   "execution_count": 11,
   "metadata": {
    "collapsed": true
   },
   "outputs": [],
   "source": [
    "import itertools\n",
    "with open(\"classlist.csv\", \"wb\") as outfile:\n",
    "    writer = csv.writer(outfile)\n",
    "    writer.writerow(df.keys())\n",
    "    writer.writerows(itertools.izip_longest(*df.values()))"
   ]
  },
  {
   "cell_type": "code",
   "execution_count": 14,
   "metadata": {
    "collapsed": false,
    "scrolled": true
   },
   "outputs": [
    {
     "data": {
      "text/plain": [
       "['44',\n",
       " '70',\n",
       " '73',\n",
       " '74',\n",
       " '123',\n",
       " '152',\n",
       " '173',\n",
       " '180',\n",
       " '188',\n",
       " '191',\n",
       " '192',\n",
       " '248',\n",
       " '278',\n",
       " '280',\n",
       " '293',\n",
       " '294',\n",
       " '296',\n",
       " '297',\n",
       " '298',\n",
       " '301',\n",
       " '303',\n",
       " '305',\n",
       " '307',\n",
       " '310',\n",
       " '315',\n",
       " '318',\n",
       " '320',\n",
       " '322',\n",
       " '323',\n",
       " '324',\n",
       " '326',\n",
       " '327',\n",
       " '340',\n",
       " '341',\n",
       " '346',\n",
       " '361',\n",
       " '363',\n",
       " '368',\n",
       " '370',\n",
       " '375',\n",
       " '377',\n",
       " '388',\n",
       " '403',\n",
       " '429',\n",
       " '439',\n",
       " '474',\n",
       " '476',\n",
       " '477',\n",
       " '492',\n",
       " '700',\n",
       " '701',\n",
       " '702',\n",
       " '706',\n",
       " '707',\n",
       " '709',\n",
       " '710',\n",
       " '711',\n",
       " '712',\n",
       " '713',\n",
       " '714',\n",
       " '718',\n",
       " '719',\n",
       " '726',\n",
       " '901',\n",
       " '903']"
      ]
     },
     "execution_count": 14,
     "metadata": {},
     "output_type": "execute_result"
    }
   ],
   "source": [
    "df = pd.read_csv('classlist.csv')\n",
    "cols = list(df)\n",
    "cols = map(int,cols)\n",
    "cols.sort()\n",
    "cols = map(str,cols)\n",
    "cols"
   ]
  },
  {
   "cell_type": "code",
   "execution_count": 15,
   "metadata": {
    "collapsed": true
   },
   "outputs": [],
   "source": [
    "df=df[cols]\n",
    "df.to_csv('classlist.csv',index=False)"
   ]
  }
 ],
 "metadata": {
  "anaconda-cloud": {},
  "kernelspec": {
   "display_name": "Python [conda root]",
   "language": "python",
   "name": "conda-root-py"
  },
  "language_info": {
   "codemirror_mode": {
    "name": "ipython",
    "version": 2
   },
   "file_extension": ".py",
   "mimetype": "text/x-python",
   "name": "python",
   "nbconvert_exporter": "python",
   "pygments_lexer": "ipython2",
   "version": "2.7.13"
  }
 },
 "nbformat": 4,
 "nbformat_minor": 1
}
