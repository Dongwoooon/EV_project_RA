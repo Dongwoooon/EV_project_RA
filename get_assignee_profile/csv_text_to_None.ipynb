{
 "cells": [
  {
   "cell_type": "markdown",
   "metadata": {},
   "source": [
    "### 왜 새로 csv 만들면 size가 넘치는가...\n",
    "같은 row 수의 원본 vs 같은 row수의 생성 csv 비교"
   ]
  },
  {
   "cell_type": "code",
   "execution_count": 1,
   "metadata": {
    "collapsed": false
   },
   "outputs": [],
   "source": [
    "import pandas as pd\n",
    "import zipfile\n",
    "import csv\n",
    "\n",
    "zf_patent1 = zipfile.ZipFile('J:/data/patent/harvard_dataset_final_merged_output_1.zip') \n",
    "csv_patent1 = zf_patent1.open('harvard_dataset_final_merged_output_1.csv')\n",
    "csv_patent_reader1 = csv.reader(csv_patent1)\n",
    "\n",
    "header = csv_patent_reader1.next()\n",
    "mainclass_col = []\n",
    "\n",
    "for j in range(62457,63354):\n",
    "    if 'mainclass' in header[j]:   #보고 main class로 바꿀수도\n",
    "        mainclass_col.append(j)\n",
    "        \n",
    "veh_class = [70,180,191,278,280,293,296,297,298,301,303,307,320,340,429,477,701,903]\n",
    "myfile1 = open(\"harvard_vehicle_patent1.csv\", 'wb')\n",
    "myfile_writer1 = csv.writer(myfile1,quoting=csv.QUOTE_ALL)\n",
    "myfile_writer1.writerow(header)\n",
    "\n",
    "for a in range(0,5000):\n",
    "    line = csv_patent_reader1.next()\n",
    "    for i in mainclass_col:\n",
    "        try:\n",
    "            if line[i] != '' and int(line[i]) in veh_class:\n",
    "                myfile_writer1.writerow(line)\n",
    "        except ValueError:\n",
    "            pass\n",
    "       \n",
    "myfile1.close()"
   ]
  },
  {
   "cell_type": "code",
   "execution_count": 3,
   "metadata": {
    "collapsed": false
   },
   "outputs": [
    {
     "name": "stdout",
     "output_type": "stream",
     "text": [
      "612\n"
     ]
    }
   ],
   "source": [
    "csv_patent1 = open('J:/data/patent/harvard_vehicle_patent_temp.csv','rb')\n",
    "veh_reader=csv.reader(csv_patent1)\n",
    "\n",
    "n_row=0\n",
    "for line in veh_reader:\n",
    "    n_row = n_row+1\n",
    "\n",
    "print n_row"
   ]
  },
  {
   "cell_type": "markdown",
   "metadata": {},
   "source": [
    "612개 row 짜리 만들었더니 111MB csv 탄생\n",
    "\n",
    "그렇다면 원본에서 612개 row 만들면 크기가 얼마나 될까?"
   ]
  },
  {
   "cell_type": "code",
   "execution_count": 7,
   "metadata": {
    "collapsed": false
   },
   "outputs": [
    {
     "name": "stdout",
     "output_type": "stream",
     "text": [
      "612\n"
     ]
    }
   ],
   "source": [
    "zf_patent = zipfile.ZipFile('J:/data/patent/harvard_dataset_final_merged_output_1.zip') \n",
    "csv_patent = zf_patent.open('harvard_dataset_final_merged_output_1.csv')\n",
    "csv_reader=csv.reader(csv_patent)\n",
    "\n",
    "myfile = open(\"harvard_vehicle_patent_org1.csv\", 'wb')\n",
    "myfile_writer = csv.writer(myfile,quoting=csv.QUOTE_ALL)\n",
    "\n",
    "n_row=0\n",
    "for a in range(0,612):\n",
    "    line = csv_reader.next()\n",
    "    myfile_writer.writerow(line)\n",
    "    n_row = n_row+1\n",
    "                    \n",
    "myfile.close()\n",
    "print n_row"
   ]
  },
  {
   "cell_type": "markdown",
   "metadata": {},
   "source": [
    "어라 그래도 111MB csv 나오네\n",
    "\n",
    "원본에 row 도대체 몇개여"
   ]
  },
  {
   "cell_type": "code",
   "execution_count": 8,
   "metadata": {
    "collapsed": false
   },
   "outputs": [
    {
     "name": "stdout",
     "output_type": "stream",
     "text": [
      "2635732\n"
     ]
    }
   ],
   "source": [
    "zf_patent = zipfile.ZipFile('J:/data/patent/harvard_dataset_final_merged_output_1.zip') \n",
    "csv_patent = zf_patent.open('harvard_dataset_final_merged_output_1.csv')\n",
    "csv_reader=csv.reader(csv_patent)\n",
    "\n",
    "n_row=0\n",
    "for line in csv_reader:\n",
    "    n_row = n_row+1\n",
    "\n",
    "print n_row"
   ]
  },
  {
   "cell_type": "markdown",
   "metadata": {},
   "source": [
    "### 아마 공백 자리에 ''이 들어간건 아닐까? (null이 아니라 string)\n",
    "공백 넣어서 test 파일 만들어보자 "
   ]
  },
  {
   "cell_type": "code",
   "execution_count": 22,
   "metadata": {
    "collapsed": true
   },
   "outputs": [],
   "source": [
    "import pandas as pd\n",
    "import zipfile\n",
    "import csv\n",
    "\n",
    "csv_patent1=open('J:/data/patent/qq.csv','rb')\n",
    "csv_patent_reader1 = csv.reader(csv_patent1)\n",
    "header = csv_patent_reader1.next()\n",
    "class_col = [0,1]\n",
    "\n",
    "myfile = open(\"test.csv\", 'wb')\n",
    "myfile_writer = csv.writer(myfile,quoting=csv.QUOTE_ALL)\n",
    "myfile_writer.writerow(header)\n",
    "veh_class = [180,187]\n",
    "\n",
    "for line in csv_patent_reader1:\n",
    "    for i in class_col:\n",
    "        try:\n",
    "            if int(line[i]) in veh_class:\n",
    "                myfile_writer.writerow(line)\n",
    "        except ValueError:\n",
    "            pass\n",
    "       \n",
    "myfile.close()"
   ]
  },
  {
   "cell_type": "code",
   "execution_count": 34,
   "metadata": {
    "collapsed": false
   },
   "outputs": [
    {
     "name": "stdout",
     "output_type": "stream",
     "text": [
      "['180', 'xw', 'a', 'a', 'a', '', 'a', '', 'a', 'a'] ['180', 'xw', 'a', 'a', 'a', '', 'a', '', 'a', 'a']\n"
     ]
    }
   ],
   "source": [
    "org = open('J:/data/patent/qq.csv','rb')\n",
    "test = open('J:/data/patent/test.csv','rb')\n",
    "\n",
    "org_reader = csv.reader(org)\n",
    "test_reader = csv.reader(test)\n",
    "\n",
    "org_reader.next()\n",
    "test_reader.next()\n",
    "\n",
    "orgrow = org_reader.next()\n",
    "testrow = test_reader.next()\n",
    "\n",
    "print orgrow, testrow"
   ]
  },
  {
   "cell_type": "code",
   "execution_count": 35,
   "metadata": {
    "collapsed": false
   },
   "outputs": [
    {
     "name": "stdout",
     "output_type": "stream",
     "text": [
      "\n",
      "\n",
      "<type 'str'> <type 'str'>\n",
      "True\n"
     ]
    }
   ],
   "source": [
    "a = orgrow[5]\n",
    "b= testrow[5]\n",
    "print a\n",
    "print b\n",
    "print type(a), type(b)\n",
    "print a==b"
   ]
  },
  {
   "cell_type": "code",
   "execution_count": 18,
   "metadata": {
    "collapsed": false
   },
   "outputs": [
    {
     "data": {
      "text/plain": [
       "False"
      ]
     },
     "execution_count": 18,
     "metadata": {},
     "output_type": "execute_result"
    }
   ],
   "source": [
    "a is None"
   ]
  },
  {
   "cell_type": "markdown",
   "metadata": {},
   "source": [
    "Test 결과 공백은 none이 아니라 str로 인식 -> 그렇다면 원래 csv file로 간단하게 해보자"
   ]
  },
  {
   "cell_type": "code",
   "execution_count": 23,
   "metadata": {
    "collapsed": true
   },
   "outputs": [],
   "source": [
    "import pandas as pd\n",
    "import zipfile\n",
    "import csv\n",
    "\n",
    "zf_patent1 = zipfile.ZipFile('J:/data/patent/harvard_dataset_final_merged_output_1.zip') \n",
    "csv_patent1 = zf_patent1.open('harvard_dataset_final_merged_output_1.csv')\n",
    "\n",
    "csv_patent_reader1 = csv.reader(csv_patent1)\n",
    "csv_patent_reader1.next()\n",
    "row1 = csv_patent_reader1.next()"
   ]
  },
  {
   "cell_type": "code",
   "execution_count": 26,
   "metadata": {
    "collapsed": false
   },
   "outputs": [
    {
     "name": "stdout",
     "output_type": "stream",
     "text": [
      "0\n",
      "3858241\n",
      "3858241\n",
      "NaN\n",
      "\n",
      "\n",
      "\n",
      "\n"
     ]
    }
   ],
   "source": [
    "for i in range (0,8):\n",
    "    print row1[i]"
   ]
  },
  {
   "cell_type": "code",
   "execution_count": 28,
   "metadata": {
    "collapsed": false
   },
   "outputs": [
    {
     "name": "stdout",
     "output_type": "stream",
     "text": [
      " \n",
      "<type 'str'> <type 'str'>\n",
      "True\n"
     ]
    }
   ],
   "source": [
    "a=row1[4]\n",
    "b=row1[5]\n",
    "print a, b\n",
    "print type(a), type(b)\n",
    "print a==b"
   ]
  },
  {
   "cell_type": "code",
   "execution_count": 29,
   "metadata": {
    "collapsed": false
   },
   "outputs": [
    {
     "name": "stdout",
     "output_type": "stream",
     "text": [
      "None\n",
      "<type 'NoneType'>\n"
     ]
    }
   ],
   "source": [
    "a=None\n",
    "print a\n",
    "print type(a)"
   ]
  },
  {
   "cell_type": "markdown",
   "metadata": {},
   "source": [
    "여기도 마찬가지로 공백은 None이 아니라 str로 인식 ㅠㅠ 그렇다면 공백을 none으로 변경 시 파일 사이즈가 줄어들까?\n",
    "### empty string을 None으로 바꾸기\n",
    "일단 test부터"
   ]
  },
  {
   "cell_type": "code",
   "execution_count": 44,
   "metadata": {
    "collapsed": false
   },
   "outputs": [
    {
     "name": "stdout",
     "output_type": "stream",
     "text": [
      "['180', 'xw', 'a', 'a', 'a', None, 'a', None, 'a', 'a']\n",
      "['182', '187', 'c', 'c', None, 'c', 'c', 'c', 'c', 'c']\n",
      "['186', '180', 'g', 'g', 'g', 'g', None, 'g', None, None]\n",
      "['187', '181', 'h', 'h', None, 'h', 'h', 'h', 'h', None]\n",
      "['180', '185', 'l', 'l', 'l', 'l', 'l', None, 'l', 'l']\n",
      "['182', '187', 'n', 'n', 'n', 'n', 'n', None, 'n', 'n']\n",
      "['186', '180', 'r', 'r', None, 'r', None, 'r', None, None]\n",
      "['180', '185', 'w', 'w', None, None, 'w', None, 'w', 'w']\n"
     ]
    }
   ],
   "source": [
    "import pandas as pd\n",
    "import zipfile\n",
    "import csv\n",
    "\n",
    "csv_patent1=open('J:/data/patent/qq.csv','rb')\n",
    "csv_patent_reader1 = csv.reader(csv_patent1)\n",
    "header = csv_patent_reader1.next()\n",
    "class_col = [0,1]\n",
    "\n",
    "myfile = open(\"test1.csv\", 'wb')\n",
    "myfile_writer = csv.writer(myfile)    \n",
    "myfile_writer.writerow(header)\n",
    "veh_class = [180,187]\n",
    "\n",
    "for line in csv_patent_reader1:\n",
    "    for j in range(0,len(line)):\n",
    "        if line[j]=='':\n",
    "            line[j]=None\n",
    "        \n",
    "    for i in class_col:\n",
    "        try:\n",
    "            if int(line[i]) in veh_class:\n",
    "                print line\n",
    "                myfile_writer.writerow(line)\n",
    "        except ValueError:\n",
    "            pass\n",
    "        except TypeError:\n",
    "            pass\n",
    "       \n",
    "myfile.close()"
   ]
  },
  {
   "cell_type": "code",
   "execution_count": 45,
   "metadata": {
    "collapsed": false
   },
   "outputs": [
    {
     "name": "stdout",
     "output_type": "stream",
     "text": [
      "['head1', 'head2', 'head3', 'head4', 'head5', 'head6', 'head7', 'head8', 'head9', 'head10']\n",
      "['180', 'xw', 'a', 'a', 'a', '', 'a', '', 'a', 'a']\n",
      "['182', '187', 'c', 'c', '', 'c', 'c', 'c', 'c', 'c']\n",
      "['186', '180', 'g', 'g', 'g', 'g', '', 'g', '', '']\n",
      "['187', '181', 'h', 'h', '', 'h', 'h', 'h', 'h', '']\n",
      "['180', '185', 'l', 'l', 'l', 'l', 'l', '', 'l', 'l']\n",
      "['182', '187', 'n', 'n', 'n', 'n', 'n', '', 'n', 'n']\n",
      "['186', '180', 'r', 'r', '', 'r', '', 'r', '', '']\n",
      "['180', '185', 'w', 'w', '', '', 'w', '', 'w', 'w']\n"
     ]
    }
   ],
   "source": [
    "test1 = open('J:/data/patent/test1.csv','rb')\n",
    "\n",
    "test1_reader = csv.reader(test1)\n",
    "\n",
    "for line in test1_reader:\n",
    "    print line"
   ]
  },
  {
   "cell_type": "code",
   "execution_count": 53,
   "metadata": {
    "collapsed": false
   },
   "outputs": [
    {
     "name": "stdout",
     "output_type": "stream",
     "text": [
      "\n",
      "<type 'str'>\n"
     ]
    }
   ],
   "source": [
    "test1 = open('J:/data/patent/test1.csv','rb')\n",
    "test1_reader = csv.reader(test1)\n",
    "\n",
    "test1_reader.next()\n",
    "row1=test1_reader.next()\n",
    "print row1[5]\n",
    "print type(row1[5])"
   ]
  },
  {
   "cell_type": "code",
   "execution_count": 31,
   "metadata": {
    "collapsed": false
   },
   "outputs": [
    {
     "name": "stdout",
     "output_type": "stream",
     "text": [
      "612\n"
     ]
    }
   ],
   "source": [
    "zf_patent = zipfile.ZipFile('J:/data/patent/harvard_dataset_final_merged_output_1.zip') \n",
    "csv_patent = zf_patent.open('harvard_dataset_final_merged_output_1.csv')\n",
    "csv_reader=csv.reader(csv_patent)\n",
    "\n",
    "myfile = open(\"harvard_vehicle_patent_org2.csv\", 'wb')\n",
    "myfile_writer = csv.writer(myfile,quoting=csv.QUOTE_ALL)\n",
    "\n",
    "n_row=0\n",
    "for a in range(0,612):\n",
    "    line = csv_reader.next()\n",
    "    for i in range (0, len(line)):\n",
    "        if line[i]=='':\n",
    "            line[i]=None   \n",
    "    myfile_writer.writerow(line)\n",
    "    n_row = n_row+1\n",
    "                    \n",
    "myfile.close()\n",
    "print n_row"
   ]
  },
  {
   "cell_type": "code",
   "execution_count": 33,
   "metadata": {
    "collapsed": false
   },
   "outputs": [
    {
     "name": "stdout",
     "output_type": "stream",
     "text": [
      " \n",
      "<type 'str'> <type 'str'>\n",
      "True\n"
     ]
    }
   ],
   "source": [
    "org = open('J:/data/patent/harvard_vehicle_patent_org1.csv','rb')\n",
    "test = open('J:/data/patent/harvard_vehicle_patent_org2.csv','rb')\n",
    "\n",
    "org_reader = csv.reader(org)\n",
    "test_reader = csv.reader(test)\n",
    "\n",
    "org_reader.next()\n",
    "test_reader.next()\n",
    "\n",
    "orgrow1 = org_reader.next()\n",
    "testrow1 = test_reader.next()\n",
    " \n",
    "a=orgrow1[10]\n",
    "b=testrow1[10]\n",
    "print a, b\n",
    "print type(a), type(b)\n",
    "print a==b"
   ]
  },
  {
   "cell_type": "markdown",
   "metadata": {},
   "source": [
    "##  원래 안 바뀌는 거라고 합니다... ㅆㅃ"
   ]
  }
 ],
 "metadata": {
  "anaconda-cloud": {},
  "kernelspec": {
   "display_name": "Python [conda root]",
   "language": "python",
   "name": "conda-root-py"
  },
  "language_info": {
   "codemirror_mode": {
    "name": "ipython",
    "version": 2
   },
   "file_extension": ".py",
   "mimetype": "text/x-python",
   "name": "python",
   "nbconvert_exporter": "python",
   "pygments_lexer": "ipython2",
   "version": "2.7.13"
  }
 },
 "nbformat": 4,
 "nbformat_minor": 1
}
