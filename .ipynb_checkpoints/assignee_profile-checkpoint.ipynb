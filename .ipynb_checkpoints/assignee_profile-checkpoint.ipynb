{
 "cells": [
  {
   "cell_type": "markdown",
   "metadata": {},
   "source": [
    "# Assignee의 profile 만들어보자  \n",
    "\n",
    "### 1. assignee별 investment 정보 만들기 "
   ]
  },
  {
   "cell_type": "code",
   "execution_count": 1,
   "metadata": {
    "collapsed": true
   },
   "outputs": [],
   "source": [
    "import pandas as pd\n",
    "import zipfile\n",
    "import csv\n",
    "import os\n",
    "\n",
    "os.chdir(\"E:/patent\")\n",
    "df = pd.read_csv('veh_firm_assignee_amt_date.csv')"
   ]
  },
  {
   "cell_type": "code",
   "execution_count": 2,
   "metadata": {
    "collapsed": false
   },
   "outputs": [],
   "source": [
    "amt_col=df.groupby('assignee')['amount'].sum()\n",
    "cnt_col=df.groupby('assignee').size()\n",
    "freq=pd.concat([amt_col, cnt_col], axis=1).reset_index()\n",
    "freq.columns = ['assignee', 'amount','count']\n",
    "freq.to_csv('veh_assignee_investment_info.csv',index=False)"
   ]
  },
  {
   "cell_type": "markdown",
   "metadata": {},
   "source": [
    "### 2. assignee 이름 정리"
   ]
  },
  {
   "cell_type": "code",
   "execution_count": 3,
   "metadata": {
    "collapsed": true
   },
   "outputs": [],
   "source": [
    "def nameprocessing(s):\n",
    "    s = str(s)\n",
    "    \n",
    "    s = s.replace(\".\",\"\")\n",
    "    s = s.replace(\",\",\"\")    \n",
    "    s = s.replace(\";\",\"\")\n",
    "    s = ''.join(s.split()).lower()\n",
    "    \n",
    "    s = s.replace(\"incorporated\",\"inc\")\n",
    "    s = s.replace(\"limited\",\"ltd\")\n",
    "    s = s.replace(\"gmbh\",\"\")\n",
    "    \n",
    "    rm=['inc','ltd','llc','pte']\n",
    "    for i in range(0,len(s)):\n",
    "        if s[-3:] in rm:\n",
    "            s=s[:-3]\n",
    "        else:\n",
    "            break\n",
    "\n",
    "    return s"
   ]
  },
  {
   "cell_type": "code",
   "execution_count": 4,
   "metadata": {
    "collapsed": false
   },
   "outputs": [
    {
     "data": {
      "text/plain": [
       "amount                           90.3\n",
       "assignee               Singer Company\n",
       "date                       1987-10-29\n",
       "firm            Bilzerian Partners Lp\n",
       "new_assignee                         \n",
       "Name: 0, dtype: object"
      ]
     },
     "execution_count": 4,
     "metadata": {},
     "output_type": "execute_result"
    }
   ],
   "source": [
    "df['new_assignee']=''\n",
    "df.iloc[0,:]"
   ]
  },
  {
   "cell_type": "code",
   "execution_count": 5,
   "metadata": {
    "collapsed": true
   },
   "outputs": [],
   "source": [
    "for i in range(0,len(df.index)):\n",
    "    df.iloc[i,4]=nameprocessing(df.iloc[i,1])\n",
    "    \n",
    "df.to_csv('veh_investment_assignee_info.csv',index=False)"
   ]
  },
  {
   "cell_type": "code",
   "execution_count": 7,
   "metadata": {
    "collapsed": true
   },
   "outputs": [],
   "source": [
    "amt_col=df.groupby('new_assignee')['amount'].sum()\n",
    "cnt_col=df.groupby('new_assignee').size()\n",
    "freq=pd.concat([amt_col, cnt_col], axis=1).reset_index()\n",
    "freq.columns = ['new_assignee', 'amount','count']\n",
    "freq.to_csv('veh_new_assignee_investment_info.csv',index=False)"
   ]
  },
  {
   "cell_type": "markdown",
   "metadata": {},
   "source": [
    "### 3. assignee의 patent info + investment info"
   ]
  },
  {
   "cell_type": "code",
   "execution_count": 16,
   "metadata": {
    "collapsed": false
   },
   "outputs": [],
   "source": [
    "pt = pd.read_csv('veh_new_assignee_patent_freq.csv')\n",
    "inv = pd.read_csv('veh_new_assignee_investment_info.csv')"
   ]
  },
  {
   "cell_type": "code",
   "execution_count": 19,
   "metadata": {
    "collapsed": false
   },
   "outputs": [],
   "source": [
    "profile = pt.merge(inv,how='outer',on='new_assignee',sort=True)\n",
    "profile.to_csv('veh_new_assingee_profile.csv',index=False)"
   ]
  },
  {
   "cell_type": "code",
   "execution_count": 29,
   "metadata": {
    "collapsed": false
   },
   "outputs": [
    {
     "name": "stdout",
     "output_type": "stream",
     "text": [
      "757 abc-naco\n",
      "1173 accutestcorporation\n",
      "1286 acmegeneralcorporation\n",
      "1599 adamation\n",
      "2023 advancedenergydynamics\n",
      "2390 adventsolar\n",
      "2662 aetnaindustries\n",
      "2673 afapolytekbv\n",
      "2706 afgindustries\n",
      "3053 aiisystems\n",
      "3169 aircast\n",
      "3195 airdata\n",
      "3866 aldenself-transitsystemscorporation\n",
      "3948 alexionpharmaceuticals\n",
      "3975 alfalavalab\n",
      "4572 alteksystems\n",
      "4659 altron\n",
      "5048 americanlockersecuritysystems\n",
      "5102 americanpacemakercorporation\n",
      "5448 amrep\n",
      "5514 amtrol\n",
      "5755 andritzag\n",
      "5863 annarborbalercompany\n",
      "5950 antelopeoiltool&mfgco\n",
      "6301 appliedenergyproducts\n",
      "6307 appliedfiberoptics\n",
      "6922 aristechacrylics\n",
      "6974 ark\n",
      "7172 artadvancedresearchtechnologies\n",
      "7289 arxxbuildingproducts\n",
      "7998 atex\n",
      "8171 atmoscorporation\n",
      "8605 autechcorporation\n",
      "8651 autobytel\n",
      "8784 automaticbarcontrols\n",
      "9343 awecoappliancesystems&cokg\n",
      "9844 baldwinelectronics\n",
      "11009 benchmarkstorageinnovations\n",
      "11082 benningtonmarine\n",
      "11715 biocept\n",
      "11849 bioprofile\n",
      "12287 blueshifttechnologies\n",
      "12319 bluhomes\n",
      "12454 boatechnology\n",
      "12995 braemarcomputerdevices\n",
      "13264 bridon\n",
      "13311 brightstarindustries\n",
      "13370 bristolcorporation\n",
      "13463 brleeindustries\n",
      "14084 burkeindustries\n",
      "14129 burrisindustries\n",
      "14182 bussag\n",
      "14191 butlerautomatic\n",
      "14495 cadecsystems\n",
      "14626 californiacomputerproducts\n",
      "14797 cambridgetelecommunications\n",
      "15262 cardiokinetix\n",
      "16061 cellectriconab\n",
      "16064 celleration\n",
      "16146 censtorcorporation\n",
      "16745 chargepointtechnology\n",
      "17018 chestel\n",
      "18046 clearmedical\n",
      "18222 closuremedicalcorporation\n",
      "18304 cmicorporation\n",
      "18364 cnr\n",
      "18372 cnsystemsmedizintechnik\n",
      "18508 coeur\n",
      "18583 coherexmedical\n",
      "18637 colenationalcorporation\n",
      "18650 colinmedicaltechnologycorporation\n",
      "18694 collinsindustries\n",
      "18736 colorguardcorporation\n",
      "18796 columbusautopartscompany\n",
      "18905 comfortproducts\n",
      "19055 commterm\n",
      "19088 communicationscomponentscorporation\n",
      "19408 compumotorcorporation\n",
      "19729 confluentsurgical\n",
      "19800 connexuscorporation\n",
      "20023 contextweb\n",
      "20234 controlnetworkscorporation\n",
      "20270 convercorporation\n",
      "20604 corners\n",
      "20716 cosmedgroup\n",
      "20759 cottrell\n",
      "20984 craryindustries\n",
      "21095 creatvmicrotech\n",
      "21503 csp\n",
      "21524 cta\n",
      "21721 custombuildingproducts\n",
      "22249 daigcorporation\n",
      "22361 daisymanufacturingco\n",
      "22583 danskminkpapira/s\n",
      "22877 datavision\n",
      "23082 dbs\n",
      "23682 denelcor\n",
      "23981 detwilercorporation\n",
      "24281 diamondinnovations\n",
      "24849 dispensingcontainerscorp\n",
      "24880 distributedcontrolsystems\n",
      "24895 ditechnetworks\n",
      "24996 dmasystemscorporation\n",
      "25081 documation\n",
      "26063 duracellinternational\n",
      "26090 durangosystems\n",
      "26261 dynamiccompliance\n",
      "26764 eaton-williamsgroup\n",
      "26875 ecalcorp\n",
      "27044 econicscorporation\n",
      "27124 edax\n",
      "27513 eif\n",
      "27727 eldexlaboratories\n",
      "28161 electroprint\n",
      "29076 enerco\n",
      "29106 energy\n",
      "29832 epsco\n",
      "30281 essexinternational\n",
      "31488 fafco\n",
      "31815 faultfinders\n",
      "31915 fdi\n",
      "31970 federalcartridgecorporation\n",
      "32292 fiberindustries\n",
      "32594 firingcircuits\n",
      "33118 flowgene\n",
      "33498 formicacorp\n",
      "33511 formtek\n",
      "33713 fourstarcorporation\n",
      "33752 foxhead\n",
      "33788 fracturetechnology\n",
      "34306 fruitoftheloom\n",
      "34767 fundexgames\n",
      "35715 genacobiomedicalproducts\n",
      "35728 gendaq\n",
      "36200 geomet\n",
      "36202 geometexploration\n",
      "36734 giochipreziosispa\n",
      "36956 globalcrossing\n",
      "37371 goldmedal\n",
      "37507 gopro\n",
      "38105 gridcraft\n",
      "38226 groupefordia\n",
      "38725 h2geninnovations\n",
      "38825 hagueinternational\n",
      "38924 hallmarktechnologies\n",
      "39177 hanoveraccessories\n",
      "39809 heartport\n",
      "40070 hemosphere\n",
      "40635 highstoytechnologicalcorporation\n",
      "41506 homeproductsinternational\n",
      "42417 humphreys\n",
      "42658 hydratoolsinternational\n",
      "42761 hydroxylsystems\n",
      "43183 iconaircraft\n",
      "43215 icotcorporation\n",
      "43498 ifcosystems\n",
      "43821 imasco\n",
      "43831 imbacspa\n",
      "43983 impressgroupbv\n",
      "44696 informationinternational\n",
      "44837 ingramcorporation\n",
      "44963 innodesk\n",
      "45673 instrumentdevelopmentcorp\n",
      "45701 insulair\n",
      "45730 inteccorporation\n",
      "45741 integ\n",
      "45842 integratedproductionservices\n",
      "46361 interfacesolutions\n",
      "46417 interlubesystems\n",
      "46655 internationalimagingmaterials\n",
      "46682 internationalmedicalcorporation\n",
      "47025 intrapace\n",
      "47196 inventumwelt-undverfahrenstechnikag\n",
      "48289 jaeyoungsolutecco\n",
      "50673 karcherfloorcare\n",
      "50746 karproducts\n",
      "50780 kasperinstruments\n",
      "51602 kilocorporation\n",
      "51670 kineticconcepts\n",
      "51749 kingsburymachinetoolcorporation\n",
      "52862 kosancrisplanta/s\n",
      "53516 kyphon\n",
      "54580 leesonelectriccorporation\n",
      "55597 lineardynamics\n",
      "56157 locustelecommunications\n",
      "56221 logisticon\n",
      "56480 loveshawcorporation\n",
      "56533 lrc\n",
      "56712 luckylitter\n",
      "57222 machineintelligencecorporation\n",
      "57639 magnusoncomputersystems\n",
      "57645 magpulindustriescorp\n",
      "57797 maldenmillsindustries\n",
      "57850 man\n",
      "57913 mandomcorporation\n",
      "57960 manitousystems\n",
      "58060 mantisvision\n",
      "58128 mappharmaceuticals\n",
      "58284 marical\n",
      "58476 marshall&ilsleycorporation\n",
      "58483 marshallelectronics\n",
      "58898 mathisinstruments\n",
      "59659 mdwood\n",
      "59941 medicaldevelopmentcorporation\n",
      "60014 medingo\n",
      "60019 mediplastab\n",
      "60069 medtekcorporation\n",
      "60138 megasystems\n",
      "60139 megatapecorporation\n",
      "60168 megtecsystems\n",
      "60364 menticeab\n",
      "60471 meridianmedicaltechnologies\n",
      "60697 metalbellowscorporation\n",
      "60780 metara\n",
      "60813 metco\n",
      "60867 metrabiosystems\n",
      "60933 metropolitancircuits\n",
      "61151 michebag\n",
      "62219 miraclecorpofaustralia\n",
      "62947 mobiusmicrosystems\n",
      "63010 modiconcorporation\n",
      "63095 mold-masters\n",
      "63153 mollindustries\n",
      "63253 monogramindustries\n",
      "63310 montblancindustriab\n",
      "63327 montevideotechnology\n",
      "63579 moss\n",
      "64391 mvisum\n",
      "64780 nanoterra\n",
      "64849 nascentric\n",
      "65101 nationalsealcompany\n",
      "65298 navidynecorporation\n",
      "65414 ndsatcom\n",
      "65771 nergecosa\n",
      "66110 neurosco\n",
      "66221 newenglandbusinessservice\n",
      "66282 newlineproducts\n",
      "67450 nobelplastiques\n",
      "67766 normthompsonoutfitters\n",
      "67830 northamericanrefractoriesco\n",
      "67911 northmanholdings\n",
      "68013 nostersystemab\n",
      "68040 novabrikinternational\n",
      "68229 npc\n",
      "69339 omac\n",
      "69687 ontraxcorporation\n",
      "69845 opticalbiopsytechnologies\n",
      "69983 optronicsinternational\n",
      "70073 orbitaltechnologies\n",
      "70105 orchidbiosciences\n",
      "70480 osumoilsandscorp\n",
      "70964 pacifichandycutter\n",
      "71502 parispackaging\n",
      "71614 particletechnology\n",
      "72332 pentronindustries\n",
      "72401 perennialenergy\n",
      "72576 persci\n",
      "73337 piexonag\n",
      "73394 pillarcorporation\n",
      "73409 pilosiospa\n",
      "73740 plasco\n",
      "73769 plast-o-maticvalves\n",
      "73892 plesseyperipheralsystems\n",
      "74035 pods\n",
      "74375 portlandsoftware\n",
      "74484 powellindustries\n",
      "75460 processcomputersystems\n",
      "75486 procomacspa\n",
      "75659 progressiveinternationalcorp\n",
      "75885 proteinsimple\n",
      "75918 protocolcomputers\n",
      "76399 qantasairways\n",
      "76500 qpass\n",
      "76622 qualityassuredenterprises\n",
      "77131 radcoindustries\n",
      "78008 rectorsealcorp\n",
      "78219 regenesisbiomedical\n",
      "78629 republicgeothermal\n",
      "78807 retailmenot\n",
      "79209 richtoninternationalcorporation\n",
      "79433 riskdatacorporation\n",
      "79716 robertsconsolidatedindustries\n",
      "79885 rocklandsystemscorporation\n",
      "80503 royalindustries\n",
      "80678 rubicormedical\n",
      "80726 rugdoctorlp\n",
      "81088 sacmembraneproductscorporation\n",
      "81106 sae\n",
      "81153 safeboatsinternational\n",
      "81358 saiagspa\n",
      "81436 sakaimedicalco\n",
      "81468 salfordfarmmachinery\n",
      "81955 santek\n",
      "82237 satiety\n",
      "82334 saviomacchinetessilispa\n",
      "82540 schaeferequipment\n",
      "82885 schwabsafeco\n",
      "83212 seabedgeophysicalas\n",
      "83715 selectech\n",
      "83807 semicon\n",
      "84663 sharonsteelcorporation\n",
      "86828 smartfurniture\n",
      "86838 smartlight\n",
      "87117 snapwarecorporation\n",
      "87759 solarenergysystems\n",
      "87795 solatubeinternational\n",
      "87810 solenagroup\n",
      "87897 soloenergycorporation\n",
      "88544 spacestructuresinternationalcorp\n",
      "88672 specializedtech\n",
      "88739 spectrametrics\n",
      "88766 spectroanalyticalinstruments\n",
      "88819 speechtechnologycorporation\n",
      "88948 spinalconcepts\n",
      "88954 spindustries\n",
      "89204 squaretrade\n",
      "89450 standun\n",
      "89817 steigertractor\n",
      "89871 stemindustries\n",
      "89917 sterix\n",
      "90049 stimsonitecorporation\n",
      "90486 stresstelcorporation\n",
      "91245 superiorhighwallminers\n",
      "91474 sustainx\n",
      "93090 teamtechnologies\n",
      "93414 techpackinternational\n",
      "93559 tegrity\n",
      "94484 terraillon\n",
      "94512 terthermalretrievalsystems\n",
      "94813 thalamuselectronics\n",
      "96461 thinfilmelectronicsasa\n",
      "96741 thresholdtechnology\n",
      "97085 tippmannpneumatics\n",
      "97788 tosetzco\n",
      "98742 trayco\n",
      "98918 triadsystemscorporation\n",
      "98926 trianglebiomedicalsciences\n",
      "99096 trina\n",
      "99366 truetempersports\n",
      "99771 turbonetics\n",
      "100028 tympaniumcorporation\n",
      "100333 ultraprocorporation\n",
      "100529 unifix\n",
      "100780 unitedhealthgroup\n",
      "100820 unitedpetgroup\n",
      "101912 usringbinderlp\n",
      "102502 varelinternational\n",
      "102586 vascularcontrolsystems\n",
      "102818 velomedix\n",
      "103204 verutektechnologies\n",
      "103278 viabizzunosrl\n",
      "103407 victorplastics\n",
      "103992 vixenmotorcompany\n",
      "104730 wain-roy\n",
      "105054 watersassociates\n",
      "105117 waughcontrolscorporation\n",
      "105441 weicocorporation\n",
      "107072 worldwidesemiconductormanufacturingcorp\n",
      "107194 wulfsbergelectronics\n",
      "107464 xillixtechnologiescorp\n",
      "107515 xolution\n",
      "107520 xonics\n",
      "107642 xynetics\n",
      "108501 zeferoperations\n",
      "108790 zikonixcorporation\n",
      "108820 zionsbancorporation\n",
      "108927 zoniccorporation\n"
     ]
    }
   ],
   "source": [
    "n=0\n",
    "for i in range(0,len(profile.index)):\n",
    "    if pd.isnull(profile.iloc[i,1])==True:\n",
    "        print i, profile.iloc[i,0]\n",
    "        n=n+1"
   ]
  },
  {
   "cell_type": "code",
   "execution_count": 30,
   "metadata": {
    "collapsed": false
   },
   "outputs": [
    {
     "data": {
      "text/plain": [
       "367"
      ]
     },
     "execution_count": 30,
     "metadata": {},
     "output_type": "execute_result"
    }
   ],
   "source": [
    "n"
   ]
  },
  {
   "cell_type": "markdown",
   "metadata": {},
   "source": [
    "하 ㅆㅃ... 왜 0이 아닌거냐 데이터에 문제가 있나 봄"
   ]
  },
  {
   "cell_type": "markdown",
   "metadata": {},
   "source": [
    "### 4. 문제 파악"
   ]
  },
  {
   "cell_type": "markdown",
   "metadata": {},
   "source": [
    "### 애초에 매칭이 잘못 되었나?  ** - yes..**  \n",
    "그렇다면 **첫 15000개 matching 결과**를 함 보자"
   ]
  },
  {
   "cell_type": "code",
   "execution_count": null,
   "metadata": {
    "collapsed": true
   },
   "outputs": [],
   "source": [
    "#basic settings\n",
    "import pandas as pd\n",
    "import zipfile\n",
    "import csv\n",
    "import os\n",
    "\n",
    "os.chdir(\"E:/patent\")\n",
    "\n",
    "zf_patent1 = zipfile.ZipFile('all_patent/thomson_harvard_matched.zip') \n",
    "csv_patent1 = zf_patent1.open('thomson_harvard_matched.csv')\n",
    "csv_patent_reader1 = csv.reader(csv_patent1)\n",
    "header = csv_patent_reader1.next()"
   ]
  },
  {
   "cell_type": "code",
   "execution_count": null,
   "metadata": {
    "collapsed": true
   },
   "outputs": [],
   "source": [
    "row = pd.read_csv('veh_row.csv')\n",
    "veh_row = row.iloc[:,0].tolist()\n",
    "veh_row = map(int,veh_row)"
   ]
  },
  {
   "cell_type": "code",
   "execution_count": null,
   "metadata": {
    "collapsed": true
   },
   "outputs": [],
   "source": [
    "del veh_row[15000:]\n",
    "n=0\n",
    "\n",
    "with open('veh_investment_temp.csv','wb') as myfile:\n",
    "    myfile_writer = csv.writer(myfile,quoting=csv.QUOTE_ALL)\n",
    "    myfile_writer.writerow(header)\n",
    "    for line in csv_patent_reader1:\n",
    "        if n == veh_row[0]:\n",
    "            myfile_writer.writerow(line)                    \n",
    "            del veh_row[0]\n",
    "            if len(veh_row) == 0:\n",
    "                break\n",
    "            n=n+1\n",
    "        else:\n",
    "            n=n+1"
   ]
  },
  {
   "cell_type": "code",
   "execution_count": 1,
   "metadata": {
    "collapsed": true
   },
   "outputs": [],
   "source": [
    "import pandas as pd\n",
    "import zipfile\n",
    "import csv\n",
    "import os\n",
    "\n",
    "os.chdir(\"E:/patent\")"
   ]
  },
  {
   "cell_type": "code",
   "execution_count": 2,
   "metadata": {
    "collapsed": true
   },
   "outputs": [],
   "source": [
    "zf_patent1 = zipfile.ZipFile('harvard_vehicle_patent1.zip') \n",
    "csv_patent1 = zf_patent1.open('harvard_vehicle_patent1.csv')\n",
    "csv_patent_reader1 = csv.reader(csv_patent1)\n",
    "header1 = csv_patent_reader1.next()\n",
    "\n",
    "csv_patent2 =open('veh_investment_temp.csv')\n",
    "csv_patent_reader2 = csv.reader(csv_patent2)\n",
    "header2 = csv_patent_reader2.next()"
   ]
  },
  {
   "cell_type": "code",
   "execution_count": 4,
   "metadata": {
    "collapsed": false
   },
   "outputs": [],
   "source": [
    "row=[]\n",
    "company = []\n",
    "\n",
    "for i in range (0,200):\n",
    "    line=csv_patent_reader2.next()\n",
    "    if line[12] != \"\":\n",
    "        company.append(line[12])\n",
    "        row.append(i)"
   ]
  },
  {
   "cell_type": "code",
   "execution_count": 6,
   "metadata": {
    "collapsed": false
   },
   "outputs": [
    {
     "data": {
      "text/plain": [
       "['Singer Company', 'Wulfsberg Electronics, Inc.']"
      ]
     },
     "execution_count": 6,
     "metadata": {},
     "output_type": "execute_result"
    }
   ],
   "source": [
    "company"
   ]
  },
  {
   "cell_type": "code",
   "execution_count": 7,
   "metadata": {
    "collapsed": false
   },
   "outputs": [
    {
     "data": {
      "text/plain": [
       "'LUMMUS CREST INC.'"
      ]
     },
     "execution_count": 7,
     "metadata": {},
     "output_type": "execute_result"
    }
   ],
   "source": [
    "for i in range (0,195):\n",
    "    csv_patent_reader1.next()\n",
    "\n",
    "line = csv_patent_reader1.next()\n",
    "line[19500]"
   ]
  },
  {
   "cell_type": "markdown",
   "metadata": {},
   "source": [
    "완전 match 실패네... 애초에 매칭이 잘못 되었다"
   ]
  },
  {
   "cell_type": "markdown",
   "metadata": {},
   "source": [
    "완전 이상한거네... 어디서 잘못 된걸까? 일단  \n",
    "**1. veh_row 잘못됨**  \n",
    "**2. veh_patent 파일도 체크 필요**"
   ]
  },
  {
   "cell_type": "markdown",
   "metadata": {},
   "source": [
    "### 4-1. veh_row 체크"
   ]
  },
  {
   "cell_type": "markdown",
   "metadata": {},
   "source": [
    "veh_row 써서 10개만 뽑고 원본이랑 비교해보자"
   ]
  },
  {
   "cell_type": "code",
   "execution_count": 7,
   "metadata": {
    "collapsed": true
   },
   "outputs": [],
   "source": [
    "row = pd.read_csv('veh_row.csv')\n",
    "veh_row = row.iloc[:,0].tolist()\n",
    "veh_row = map(int,veh_row)"
   ]
  },
  {
   "cell_type": "code",
   "execution_count": 135,
   "metadata": {
    "collapsed": true
   },
   "outputs": [],
   "source": [
    "zf_patent1 = zipfile.ZipFile('all_patent/harvard_dataset_final_merged_output_1.zip') \n",
    "csv_patent1 = zf_patent1.open('harvard_dataset_final_merged_output_1.csv')\n",
    "csv_patent_reader1 = csv.reader(csv_patent1)\n",
    "header = csv_patent_reader1.next()\n",
    "\n",
    "del veh_row[10:]\n",
    "mainclass_col = []\n",
    "for j in range(62457,63354):\n",
    "    if 'mainclass' in header[j]:   \n",
    "        mainclass_col.append(j)"
   ]
  },
  {
   "cell_type": "code",
   "execution_count": 136,
   "metadata": {
    "collapsed": false
   },
   "outputs": [
    {
     "data": {
      "text/plain": [
       "[15, 25, 26, 39, 46, 48, 66, 67, 68, 79]"
      ]
     },
     "execution_count": 136,
     "metadata": {},
     "output_type": "execute_result"
    }
   ],
   "source": [
    "veh_row"
   ]
  },
  {
   "cell_type": "code",
   "execution_count": 137,
   "metadata": {
    "collapsed": false
   },
   "outputs": [],
   "source": [
    "n=0\n",
    "real_ass = []\n",
    "real_class = []\n",
    "real_pid = []\n",
    "\n",
    "for line in csv_patent_reader1: \n",
    "    if n == veh_row[0]:\n",
    "        real_ass.append(line[19500])\n",
    "        real_pid.append(line[19494])\n",
    "        class_tmp=[]\n",
    "        for i in mainclass_col:\n",
    "            if line[i]=='':\n",
    "                    break\n",
    "            \n",
    "            else:\n",
    "                class_tmp.append(line[i])\n",
    "        real_class.append(class_tmp)\n",
    "        del veh_row[0]\n",
    "        if len(veh_row)==0:\n",
    "            break\n",
    "        else:\n",
    "            n=n+1\n",
    "    else:\n",
    "        n=n+1\n",
    "        \n",
    "df = pd.DataFrame({'pid':real_pid,'assignee':real_ass,'class':real_class})"
   ]
  },
  {
   "cell_type": "code",
   "execution_count": 138,
   "metadata": {
    "collapsed": false,
    "scrolled": true
   },
   "outputs": [
    {
     "data": {
      "text/html": [
       "<div>\n",
       "<table border=\"1\" class=\"dataframe\">\n",
       "  <thead>\n",
       "    <tr style=\"text-align: right;\">\n",
       "      <th></th>\n",
       "      <th>assignee</th>\n",
       "      <th>class</th>\n",
       "      <th>pid</th>\n",
       "    </tr>\n",
       "  </thead>\n",
       "  <tbody>\n",
       "    <tr>\n",
       "      <th>0</th>\n",
       "      <td>nan</td>\n",
       "      <td>[5, 297]</td>\n",
       "      <td>3858256</td>\n",
       "    </tr>\n",
       "    <tr>\n",
       "      <th>1</th>\n",
       "      <td>WINZELER STAMPING COMPANY</td>\n",
       "      <td>[15, 403, 15]</td>\n",
       "      <td>3858266</td>\n",
       "    </tr>\n",
       "    <tr>\n",
       "      <th>2</th>\n",
       "      <td>nan</td>\n",
       "      <td>[294, 15, 15]</td>\n",
       "      <td>3858267</td>\n",
       "    </tr>\n",
       "    <tr>\n",
       "      <th>3</th>\n",
       "      <td>I. D. ENGINEERING, INC.</td>\n",
       "      <td>[24, 24, 70, 24]</td>\n",
       "      <td>3858280</td>\n",
       "    </tr>\n",
       "    <tr>\n",
       "      <th>4</th>\n",
       "      <td>nan</td>\n",
       "      <td>[492, 101]</td>\n",
       "      <td>3858287</td>\n",
       "    </tr>\n",
       "    <tr>\n",
       "      <th>5</th>\n",
       "      <td>CROSS COMPANY</td>\n",
       "      <td>[324]</td>\n",
       "      <td>3858289</td>\n",
       "    </tr>\n",
       "    <tr>\n",
       "      <th>6</th>\n",
       "      <td>MATSUSHITA ELECTRIC INDUSTRIAL CO., LTD.</td>\n",
       "      <td>[29, 361, 369, 29, 381, 307]</td>\n",
       "      <td>3858307</td>\n",
       "    </tr>\n",
       "    <tr>\n",
       "      <th>7</th>\n",
       "      <td>BENDIX CORPORATION(NOW ALLIED-SIGNAL INC.)</td>\n",
       "      <td>[310, 148, 310, 29, 148, 419, 29, 310]</td>\n",
       "      <td>3858308</td>\n",
       "    </tr>\n",
       "    <tr>\n",
       "      <th>8</th>\n",
       "      <td>JECO CO., LTD.</td>\n",
       "      <td>[310, 29, 310]</td>\n",
       "      <td>3858309</td>\n",
       "    </tr>\n",
       "    <tr>\n",
       "      <th>9</th>\n",
       "      <td>nan</td>\n",
       "      <td>[30, 2, 30, 294, D7]</td>\n",
       "      <td>3858320</td>\n",
       "    </tr>\n",
       "  </tbody>\n",
       "</table>\n",
       "</div>"
      ],
      "text/plain": [
       "                                     assignee  \\\n",
       "0                                         nan   \n",
       "1                   WINZELER STAMPING COMPANY   \n",
       "2                                         nan   \n",
       "3                     I. D. ENGINEERING, INC.   \n",
       "4                                         nan   \n",
       "5                               CROSS COMPANY   \n",
       "6    MATSUSHITA ELECTRIC INDUSTRIAL CO., LTD.   \n",
       "7  BENDIX CORPORATION(NOW ALLIED-SIGNAL INC.)   \n",
       "8                              JECO CO., LTD.   \n",
       "9                                         nan   \n",
       "\n",
       "                                    class      pid  \n",
       "0                                [5, 297]  3858256  \n",
       "1                           [15, 403, 15]  3858266  \n",
       "2                           [294, 15, 15]  3858267  \n",
       "3                        [24, 24, 70, 24]  3858280  \n",
       "4                              [492, 101]  3858287  \n",
       "5                                   [324]  3858289  \n",
       "6            [29, 361, 369, 29, 381, 307]  3858307  \n",
       "7  [310, 148, 310, 29, 148, 419, 29, 310]  3858308  \n",
       "8                          [310, 29, 310]  3858309  \n",
       "9                    [30, 2, 30, 294, D7]  3858320  "
      ]
     },
     "execution_count": 138,
     "metadata": {},
     "output_type": "execute_result"
    }
   ],
   "source": [
    "df"
   ]
  },
  {
   "cell_type": "markdown",
   "metadata": {},
   "source": [
    "**어라?? 다 맞네??**  \n",
    "=> veh_row 혹시 누락 한 건 없나?  \n",
    "or  veh_patent가 틀림?!!!"
   ]
  },
  {
   "cell_type": "markdown",
   "metadata": {},
   "source": [
    "### 4-2. veh_patent 파일 체크"
   ]
  },
  {
   "cell_type": "code",
   "execution_count": 167,
   "metadata": {
    "collapsed": false,
    "scrolled": true
   },
   "outputs": [
    {
     "data": {
      "text/html": [
       "<div>\n",
       "<table border=\"1\" class=\"dataframe\">\n",
       "  <thead>\n",
       "    <tr style=\"text-align: right;\">\n",
       "      <th></th>\n",
       "      <th>assignee</th>\n",
       "      <th>class</th>\n",
       "      <th>pid</th>\n",
       "    </tr>\n",
       "  </thead>\n",
       "  <tbody>\n",
       "    <tr>\n",
       "      <th>0</th>\n",
       "      <td>ROBERT BOSCH GMBH</td>\n",
       "      <td>701</td>\n",
       "      <td>4489382</td>\n",
       "    </tr>\n",
       "    <tr>\n",
       "      <th>1</th>\n",
       "      <td>RCA CORPORATION</td>\n",
       "      <td>701</td>\n",
       "      <td>4489383</td>\n",
       "    </tr>\n",
       "    <tr>\n",
       "      <th>2</th>\n",
       "      <td>MCGRAW-EDISON COMPANY</td>\n",
       "      <td>340</td>\n",
       "      <td>4489384</td>\n",
       "    </tr>\n",
       "    <tr>\n",
       "      <th>3</th>\n",
       "      <td>GENERAL ELECTRIC COMPANY</td>\n",
       "      <td>700</td>\n",
       "      <td>4489385</td>\n",
       "    </tr>\n",
       "    <tr>\n",
       "      <th>4</th>\n",
       "      <td>AT&amp;T CORP.</td>\n",
       "      <td>700</td>\n",
       "      <td>4489386</td>\n",
       "    </tr>\n",
       "    <tr>\n",
       "      <th>5</th>\n",
       "      <td>nan</td>\n",
       "      <td>709</td>\n",
       "      <td>4489387</td>\n",
       "    </tr>\n",
       "    <tr>\n",
       "      <th>6</th>\n",
       "      <td>HARRIS CORP.</td>\n",
       "      <td>708</td>\n",
       "      <td>4489389</td>\n",
       "    </tr>\n",
       "    <tr>\n",
       "      <th>7</th>\n",
       "      <td>nan</td>\n",
       "      <td>375</td>\n",
       "      <td>4489392</td>\n",
       "    </tr>\n",
       "    <tr>\n",
       "      <th>8</th>\n",
       "      <td>ZENITH ELECTRONICS CORPORATION</td>\n",
       "      <td>713</td>\n",
       "      <td>4489394</td>\n",
       "    </tr>\n",
       "    <tr>\n",
       "      <th>9</th>\n",
       "      <td>TOSHIBA CORPORATION</td>\n",
       "      <td>712</td>\n",
       "      <td>4489395</td>\n",
       "    </tr>\n",
       "    <tr>\n",
       "      <th>10</th>\n",
       "      <td>UNISYS CORPORATION</td>\n",
       "      <td>712</td>\n",
       "      <td>4489397</td>\n",
       "    </tr>\n",
       "    <tr>\n",
       "      <th>11</th>\n",
       "      <td>INTERNATIONAL BUSINESS MACHINES CORPORATION</td>\n",
       "      <td>714</td>\n",
       "      <td>4489403</td>\n",
       "    </tr>\n",
       "    <tr>\n",
       "      <th>12</th>\n",
       "      <td>BBC BROWN, BOVERI &amp; COMPANY, LIMITED</td>\n",
       "      <td>370</td>\n",
       "      <td>4489411</td>\n",
       "    </tr>\n",
       "    <tr>\n",
       "      <th>13</th>\n",
       "      <td>COMPAGNIE INDUSTRIELLE DES TELECOMMUNICATIONS ...</td>\n",
       "      <td>370</td>\n",
       "      <td>4489412</td>\n",
       "    </tr>\n",
       "    <tr>\n",
       "      <th>14</th>\n",
       "      <td>M/A-COM DCC, INC.</td>\n",
       "      <td>370</td>\n",
       "      <td>4489413</td>\n",
       "    </tr>\n",
       "    <tr>\n",
       "      <th>15</th>\n",
       "      <td>HAL COMPUTERS LIMITED</td>\n",
       "      <td>714</td>\n",
       "      <td>4489414</td>\n",
       "    </tr>\n",
       "    <tr>\n",
       "      <th>16</th>\n",
       "      <td>GENERAL ELECTRIC COMPANY</td>\n",
       "      <td>372</td>\n",
       "      <td>4489415</td>\n",
       "    </tr>\n",
       "    <tr>\n",
       "      <th>17</th>\n",
       "      <td>RIXON, INCORPORATED</td>\n",
       "      <td>375</td>\n",
       "      <td>4489416</td>\n",
       "    </tr>\n",
       "    <tr>\n",
       "      <th>18</th>\n",
       "      <td>INTERNATIONAL BUSINESS MACHINES CORPORATION</td>\n",
       "      <td>327</td>\n",
       "      <td>4489417</td>\n",
       "    </tr>\n",
       "    <tr>\n",
       "      <th>19</th>\n",
       "      <td>AT&amp;T CORP.</td>\n",
       "      <td>375</td>\n",
       "      <td>4489418</td>\n",
       "    </tr>\n",
       "  </tbody>\n",
       "</table>\n",
       "</div>"
      ],
      "text/plain": [
       "                                             assignee class      pid\n",
       "0                                   ROBERT BOSCH GMBH   701  4489382\n",
       "1                                     RCA CORPORATION   701  4489383\n",
       "2                               MCGRAW-EDISON COMPANY   340  4489384\n",
       "3                            GENERAL ELECTRIC COMPANY   700  4489385\n",
       "4                                          AT&T CORP.   700  4489386\n",
       "5                                                 nan   709  4489387\n",
       "6                                        HARRIS CORP.   708  4489389\n",
       "7                                                 nan   375  4489392\n",
       "8                      ZENITH ELECTRONICS CORPORATION   713  4489394\n",
       "9                                 TOSHIBA CORPORATION   712  4489395\n",
       "10                                 UNISYS CORPORATION   712  4489397\n",
       "11        INTERNATIONAL BUSINESS MACHINES CORPORATION   714  4489403\n",
       "12               BBC BROWN, BOVERI & COMPANY, LIMITED   370  4489411\n",
       "13  COMPAGNIE INDUSTRIELLE DES TELECOMMUNICATIONS ...   370  4489412\n",
       "14                                  M/A-COM DCC, INC.   370  4489413\n",
       "15                              HAL COMPUTERS LIMITED   714  4489414\n",
       "16                           GENERAL ELECTRIC COMPANY   372  4489415\n",
       "17                                RIXON, INCORPORATED   375  4489416\n",
       "18        INTERNATIONAL BUSINESS MACHINES CORPORATION   327  4489417\n",
       "19                                         AT&T CORP.   375  4489418"
      ]
     },
     "execution_count": 167,
     "metadata": {},
     "output_type": "execute_result"
    }
   ],
   "source": [
    "csv_patent1 = open('harvard_vehicle_patent1.csv')\n",
    "csv_patent_reader1 = csv.reader(csv_patent1)\n",
    "header = csv_patent_reader1.next()\n",
    "veh_pid=[]\n",
    "veh_ass=[]\n",
    "veh_class=[]\n",
    "\n",
    "for i in range(0,20):\n",
    "    line=csv_patent_reader1.next()\n",
    "    veh_ass.append(line[19500])\n",
    "    veh_class.append(line[62457])\n",
    "    veh_pid.append(line[19494])\n",
    "    \n",
    "df = pd.DataFrame({'pid':veh_pid,'assignee':veh_ass,'class':veh_class})\n",
    "df"
   ]
  },
  {
   "cell_type": "markdown",
   "metadata": {},
   "source": [
    "Bosch가 1빠따 맞음?? 진짜?? 첫 백만 번동안 class 맞는 게 하나도 없어? **1빠따만 체크**해보자  \n",
    "아까 veh_row에서 WINZELER STAMPING COMPANY가 제일 처음이었으니 함 보자"
   ]
  },
  {
   "cell_type": "code",
   "execution_count": 139,
   "metadata": {
    "collapsed": true
   },
   "outputs": [],
   "source": [
    "zf_patent1 = zipfile.ZipFile('all_patent/harvard_dataset_final_merged_output_1.zip') \n",
    "csv_patent1 = zf_patent1.open('harvard_dataset_final_merged_output_1.csv')\n",
    "csv_patent_reader1 = csv.reader(csv_patent1)\n",
    "header = csv_patent_reader1.next()"
   ]
  },
  {
   "cell_type": "code",
   "execution_count": 140,
   "metadata": {
    "collapsed": true
   },
   "outputs": [],
   "source": [
    "classinfo = pd.read_csv('veh_class.csv')\n",
    "veh_class = classinfo['class'].tolist()\n",
    "veh_class = map(int,veh_class)"
   ]
  },
  {
   "cell_type": "code",
   "execution_count": 141,
   "metadata": {
    "collapsed": false
   },
   "outputs": [
    {
     "name": "stdout",
     "output_type": "stream",
     "text": [
      "3858256 nan 297\n"
     ]
    }
   ],
   "source": [
    "n=0\n",
    "while n==0:\n",
    "    line=csv_patent_reader1.next()\n",
    "    for i in mainclass_col:\n",
    "        if line[i]=='':\n",
    "                break\n",
    "\n",
    "        else:\n",
    "            try:\n",
    "                if int(line[i]) in veh_class:\n",
    "                    print line[19494], line[19500], line[i]\n",
    "                    n=n+1\n",
    "                    break\n",
    "\n",
    "            except ValueError:\n",
    "                pass"
   ]
  },
  {
   "cell_type": "markdown",
   "metadata": {},
   "source": [
    "뭐야 veh_row가 맞고 veh_patent 데이터가 틀렸잖아...  \n",
    "그럼 **Bosch 근처 20개는 맞나?** 확인해야지"
   ]
  },
  {
   "cell_type": "code",
   "execution_count": 168,
   "metadata": {
    "collapsed": false
   },
   "outputs": [],
   "source": [
    "bosch=df['pid'].tolist()\n",
    "bosch = map(int,bosch)"
   ]
  },
  {
   "cell_type": "code",
   "execution_count": 169,
   "metadata": {
    "collapsed": false
   },
   "outputs": [
    {
     "data": {
      "text/plain": [
       "4489383"
      ]
     },
     "execution_count": 169,
     "metadata": {},
     "output_type": "execute_result"
    }
   ],
   "source": [
    "bosch[1]"
   ]
  },
  {
   "cell_type": "code",
   "execution_count": 171,
   "metadata": {
    "collapsed": false,
    "scrolled": true
   },
   "outputs": [
    {
     "data": {
      "text/html": [
       "<div>\n",
       "<table border=\"1\" class=\"dataframe\">\n",
       "  <thead>\n",
       "    <tr style=\"text-align: right;\">\n",
       "      <th></th>\n",
       "      <th>assignee</th>\n",
       "      <th>class</th>\n",
       "      <th>pid</th>\n",
       "    </tr>\n",
       "  </thead>\n",
       "  <tbody>\n",
       "    <tr>\n",
       "      <th>0</th>\n",
       "      <td>ROBERT BOSCH GMBH</td>\n",
       "      <td>701</td>\n",
       "      <td>4489382</td>\n",
       "    </tr>\n",
       "    <tr>\n",
       "      <th>1</th>\n",
       "      <td>RCA CORPORATION</td>\n",
       "      <td>701</td>\n",
       "      <td>4489383</td>\n",
       "    </tr>\n",
       "    <tr>\n",
       "      <th>2</th>\n",
       "      <td>MCGRAW-EDISON COMPANY</td>\n",
       "      <td>340</td>\n",
       "      <td>4489384</td>\n",
       "    </tr>\n",
       "    <tr>\n",
       "      <th>3</th>\n",
       "      <td>GENERAL ELECTRIC COMPANY</td>\n",
       "      <td>700</td>\n",
       "      <td>4489385</td>\n",
       "    </tr>\n",
       "    <tr>\n",
       "      <th>4</th>\n",
       "      <td>AT&amp;T CORP.</td>\n",
       "      <td>700</td>\n",
       "      <td>4489386</td>\n",
       "    </tr>\n",
       "    <tr>\n",
       "      <th>5</th>\n",
       "      <td>nan</td>\n",
       "      <td>709</td>\n",
       "      <td>4489387</td>\n",
       "    </tr>\n",
       "    <tr>\n",
       "      <th>6</th>\n",
       "      <td>HARRIS CORP.</td>\n",
       "      <td>708</td>\n",
       "      <td>4489389</td>\n",
       "    </tr>\n",
       "    <tr>\n",
       "      <th>7</th>\n",
       "      <td>nan</td>\n",
       "      <td>375</td>\n",
       "      <td>4489392</td>\n",
       "    </tr>\n",
       "    <tr>\n",
       "      <th>8</th>\n",
       "      <td>ZENITH ELECTRONICS CORPORATION</td>\n",
       "      <td>713</td>\n",
       "      <td>4489394</td>\n",
       "    </tr>\n",
       "    <tr>\n",
       "      <th>9</th>\n",
       "      <td>TOSHIBA CORPORATION</td>\n",
       "      <td>712</td>\n",
       "      <td>4489395</td>\n",
       "    </tr>\n",
       "    <tr>\n",
       "      <th>10</th>\n",
       "      <td>UNISYS CORPORATION</td>\n",
       "      <td>712</td>\n",
       "      <td>4489397</td>\n",
       "    </tr>\n",
       "    <tr>\n",
       "      <th>11</th>\n",
       "      <td>INTERNATIONAL BUSINESS MACHINES CORPORATION</td>\n",
       "      <td>714</td>\n",
       "      <td>4489403</td>\n",
       "    </tr>\n",
       "    <tr>\n",
       "      <th>12</th>\n",
       "      <td>BBC BROWN, BOVERI &amp; COMPANY, LIMITED</td>\n",
       "      <td>370</td>\n",
       "      <td>4489411</td>\n",
       "    </tr>\n",
       "    <tr>\n",
       "      <th>13</th>\n",
       "      <td>COMPAGNIE INDUSTRIELLE DES TELECOMMUNICATIONS ...</td>\n",
       "      <td>370</td>\n",
       "      <td>4489412</td>\n",
       "    </tr>\n",
       "    <tr>\n",
       "      <th>14</th>\n",
       "      <td>M/A-COM DCC, INC.</td>\n",
       "      <td>370</td>\n",
       "      <td>4489413</td>\n",
       "    </tr>\n",
       "    <tr>\n",
       "      <th>15</th>\n",
       "      <td>HAL COMPUTERS LIMITED</td>\n",
       "      <td>714</td>\n",
       "      <td>4489414</td>\n",
       "    </tr>\n",
       "    <tr>\n",
       "      <th>16</th>\n",
       "      <td>GENERAL ELECTRIC COMPANY</td>\n",
       "      <td>372</td>\n",
       "      <td>4489415</td>\n",
       "    </tr>\n",
       "    <tr>\n",
       "      <th>17</th>\n",
       "      <td>RIXON, INCORPORATED</td>\n",
       "      <td>375</td>\n",
       "      <td>4489416</td>\n",
       "    </tr>\n",
       "    <tr>\n",
       "      <th>18</th>\n",
       "      <td>INTERNATIONAL BUSINESS MACHINES CORPORATION</td>\n",
       "      <td>327</td>\n",
       "      <td>4489417</td>\n",
       "    </tr>\n",
       "    <tr>\n",
       "      <th>19</th>\n",
       "      <td>AT&amp;T CORP.</td>\n",
       "      <td>375</td>\n",
       "      <td>4489418</td>\n",
       "    </tr>\n",
       "  </tbody>\n",
       "</table>\n",
       "</div>"
      ],
      "text/plain": [
       "                                             assignee class      pid\n",
       "0                                   ROBERT BOSCH GMBH   701  4489382\n",
       "1                                     RCA CORPORATION   701  4489383\n",
       "2                               MCGRAW-EDISON COMPANY   340  4489384\n",
       "3                            GENERAL ELECTRIC COMPANY   700  4489385\n",
       "4                                          AT&T CORP.   700  4489386\n",
       "5                                                 nan   709  4489387\n",
       "6                                        HARRIS CORP.   708  4489389\n",
       "7                                                 nan   375  4489392\n",
       "8                      ZENITH ELECTRONICS CORPORATION   713  4489394\n",
       "9                                 TOSHIBA CORPORATION   712  4489395\n",
       "10                                 UNISYS CORPORATION   712  4489397\n",
       "11        INTERNATIONAL BUSINESS MACHINES CORPORATION   714  4489403\n",
       "12               BBC BROWN, BOVERI & COMPANY, LIMITED   370  4489411\n",
       "13  COMPAGNIE INDUSTRIELLE DES TELECOMMUNICATIONS ...   370  4489412\n",
       "14                                  M/A-COM DCC, INC.   370  4489413\n",
       "15                              HAL COMPUTERS LIMITED   714  4489414\n",
       "16                           GENERAL ELECTRIC COMPANY   372  4489415\n",
       "17                                RIXON, INCORPORATED   375  4489416\n",
       "18        INTERNATIONAL BUSINESS MACHINES CORPORATION   327  4489417\n",
       "19                                         AT&T CORP.   375  4489418"
      ]
     },
     "execution_count": 171,
     "metadata": {},
     "output_type": "execute_result"
    }
   ],
   "source": [
    "zf_patent1 = zipfile.ZipFile('all_patent/harvard_dataset_final_merged_output_1.zip') \n",
    "csv_patent1 = zf_patent1.open('harvard_dataset_final_merged_output_1.csv')\n",
    "csv_patent_reader1 = csv.reader(csv_patent1)\n",
    "header = csv_patent_reader1.next()\n",
    "\n",
    "veh_pid=[]\n",
    "veh_ass=[]\n",
    "veh_class=[]\n",
    "\n",
    "n=0\n",
    "for line in csv_patent_reader1:\n",
    "    try:\n",
    "        if int(line[19494]) == bosch[0]:\n",
    "            veh_ass.append(line[19500])\n",
    "            veh_pid.append(line[19494])\n",
    "            veh_class.append(line[62457])\n",
    "            del bosch[0]\n",
    "            if len(bosch)==0:\n",
    "                break\n",
    "            else:\n",
    "                n=n+1\n",
    "        else:\n",
    "            n=n+1\n",
    "    except ValueError:\n",
    "        pass\n",
    "        \n",
    "df = pd.DataFrame({'pid':veh_pid,'assignee':veh_ass,'class':veh_class})\n",
    "df"
   ]
  },
  {
   "cell_type": "markdown",
   "metadata": {},
   "source": [
    "뭐야 왜 Bosch 전에 약 60만개 쏙 빠진거지?? 하... 새로 추가해서 파일 만들자"
   ]
  },
  {
   "cell_type": "markdown",
   "metadata": {},
   "source": [
    "### 5. vehicle patent 1 다시 만들기\n",
    "기존 파일 (전체 파일, veh_pid_assignee)에 Bocsh 이전 부분 추가"
   ]
  },
  {
   "cell_type": "markdown",
   "metadata": {},
   "source": [
    "### 5.1 전체 파일 수정"
   ]
  },
  {
   "cell_type": "code",
   "execution_count": 1,
   "metadata": {
    "collapsed": true
   },
   "outputs": [],
   "source": [
    "import pandas as pd\n",
    "import zipfile\n",
    "import csv\n",
    "import os\n",
    "\n",
    "os.chdir(\"E:/patent\")\n",
    "\n",
    "zf_patent1 = zipfile.ZipFile('all_patent/harvard_dataset_final_merged_output_1.zip') \n",
    "csv_patent1 = zf_patent1.open('harvard_dataset_final_merged_output_1.csv')\n",
    "csv_patent_reader1 = csv.reader(csv_patent1)\n",
    "\n",
    "header = csv_patent_reader1.next()\n",
    "mainclass_col = []\n",
    "\n",
    "for j in range(62457,63354):\n",
    "    if 'mainclass' in header[j]:   \n",
    "        mainclass_col.append(j)\n",
    "\n",
    "classinfo = pd.read_csv('veh_class.csv')\n",
    "veh_class = classinfo['class'].tolist()\n",
    "veh_class = map(int,veh_class)"
   ]
  },
  {
   "cell_type": "code",
   "execution_count": 5,
   "metadata": {
    "collapsed": true
   },
   "outputs": [],
   "source": [
    "with open('harvard_vehicle_patent1.csv','ab') as myfile:\n",
    "    myfile_writer = csv.writer(myfile,quoting=csv.QUOTE_ALL)\n",
    "    myfile_writer.writerow(header)\n",
    "    for line in csv_patent_reader1:\n",
    "        try:\n",
    "            if int(line[19494]) == 4489382:\n",
    "                break\n",
    "            else:\n",
    "                for i in mainclass_col:\n",
    "                    if line[i]=='':\n",
    "                            break\n",
    "\n",
    "                    else:\n",
    "                        try:            \n",
    "                            if int(line[i]) in veh_class:\n",
    "                                myfile_writer.writerow(line)\n",
    "                                break\n",
    "\n",
    "                        except ValueError:\n",
    "                            pass \n",
    "                        \n",
    "        except ValueError:\n",
    "            pass"
   ]
  },
  {
   "cell_type": "markdown",
   "metadata": {},
   "source": [
    "### 5.2 veh_pid_assignee 및 freq 다시 계산  \n",
    "물론 다시 돌려도 되지만, 시간 아까우니   \n",
    "1. 새로 파일 하나(veh_pid_assignee_temp) 만들어서  \n",
    "2. veh_pid_assignee 위에 붙이기  \n",
    "3. new_assignee_freq_temp 만들기\n",
    "4. new_assignee_freq와 new_assignee_freq_temp 합치기 (sum)"
   ]
  },
  {
   "cell_type": "markdown",
   "metadata": {},
   "source": [
    "### 5.2.1, 5.2.2 veh_pid_assignee 새로 만들기"
   ]
  },
  {
   "cell_type": "markdown",
   "metadata": {},
   "source": [
    "다 필요 없어 애초에 잘못해서 **새로 돌려야 함**\n",
    "patent_id 만들 때 line[0] 썼음  \n",
    "그런데 line[0]은 **row index**... 임  \n",
    "veh_row도 뻘짓. 지금 veh_pid_assignee에 pid로 나와있는게 veh_row  "
   ]
  },
  {
   "cell_type": "markdown",
   "metadata": {},
   "source": [
    "### 5.2.3 new_assignee_freq_temp 만들기  \n",
    "이건 그대로 돌리면 너무 오래 걸림 (48시간의 기억...)  \n",
    "새로 추가한 녀석들만 freq 구해서 더하자"
   ]
  },
  {
   "cell_type": "markdown",
   "metadata": {
    "collapsed": true
   },
   "source": [
    "498336번쨰 row, private / 3858256 / 15   \n",
    "641189번째 row. INTERNATIONAL BUSINESS MACHINES CORPORATION / 4489379 / 630515  \n",
    "1번째, row ROBERT BOSCH GMBH / 4489382 / 630518\n",
    "\n",
    "pid or row 기준 정렬만 하자  \n",
    "bosch 이전, 새로 추가한 row는 걍 엑셀로 뽑음"
   ]
  },
  {
   "cell_type": "code",
   "execution_count": 3,
   "metadata": {
    "collapsed": false
   },
   "outputs": [
    {
     "name": "stderr",
     "output_type": "stream",
     "text": [
      "C:\\Users\\DW\\Anaconda2\\lib\\site-packages\\IPython\\core\\interactiveshell.py:2717: DtypeWarning: Columns (1) have mixed types. Specify dtype option on import or set low_memory=False.\n",
      "  interactivity=interactivity, compiler=compiler, result=result)\n",
      "C:\\Users\\DW\\Anaconda2\\lib\\site-packages\\ipykernel\\__main__.py:2: FutureWarning: sort(columns=....) is deprecated, use sort_values(by=.....)\n",
      "  from ipykernel import kernelapp as app\n"
     ]
    }
   ],
   "source": [
    "df = pd.read_csv('veh_pid_assignee.csv')\n",
    "df = df.sort('row')"
   ]
  },
  {
   "cell_type": "code",
   "execution_count": 6,
   "metadata": {
    "collapsed": false
   },
   "outputs": [],
   "source": [
    "df.to_csv('veh_pid_assignee.csv',index=False)"
   ]
  },
  {
   "cell_type": "code",
   "execution_count": 5,
   "metadata": {
    "collapsed": true
   },
   "outputs": [],
   "source": [
    "df = pd.read_csv('veh_pid_assignee_temp.csv')\n",
    "df['new_assignee']=''"
   ]
  },
  {
   "cell_type": "code",
   "execution_count": 6,
   "metadata": {
    "collapsed": false
   },
   "outputs": [
    {
     "data": {
      "text/html": [
       "<div>\n",
       "<table border=\"1\" class=\"dataframe\">\n",
       "  <thead>\n",
       "    <tr style=\"text-align: right;\">\n",
       "      <th></th>\n",
       "      <th>assignee</th>\n",
       "      <th>patent_id</th>\n",
       "      <th>row</th>\n",
       "      <th>new_assignee</th>\n",
       "    </tr>\n",
       "  </thead>\n",
       "  <tbody>\n",
       "    <tr>\n",
       "      <th>0</th>\n",
       "      <td>private</td>\n",
       "      <td>3858256</td>\n",
       "      <td>15</td>\n",
       "      <td></td>\n",
       "    </tr>\n",
       "    <tr>\n",
       "      <th>1</th>\n",
       "      <td>WINZELER STAMPING COMPANY</td>\n",
       "      <td>3858266</td>\n",
       "      <td>25</td>\n",
       "      <td></td>\n",
       "    </tr>\n",
       "    <tr>\n",
       "      <th>2</th>\n",
       "      <td>private</td>\n",
       "      <td>3858267</td>\n",
       "      <td>26</td>\n",
       "      <td></td>\n",
       "    </tr>\n",
       "    <tr>\n",
       "      <th>3</th>\n",
       "      <td>I. D. ENGINEERING, INC.</td>\n",
       "      <td>3858280</td>\n",
       "      <td>39</td>\n",
       "      <td></td>\n",
       "    </tr>\n",
       "    <tr>\n",
       "      <th>4</th>\n",
       "      <td>private</td>\n",
       "      <td>3858287</td>\n",
       "      <td>46</td>\n",
       "      <td></td>\n",
       "    </tr>\n",
       "  </tbody>\n",
       "</table>\n",
       "</div>"
      ],
      "text/plain": [
       "                    assignee  patent_id  row new_assignee\n",
       "0                    private    3858256   15             \n",
       "1  WINZELER STAMPING COMPANY    3858266   25             \n",
       "2                    private    3858267   26             \n",
       "3    I. D. ENGINEERING, INC.    3858280   39             \n",
       "4                    private    3858287   46             "
      ]
     },
     "execution_count": 6,
     "metadata": {},
     "output_type": "execute_result"
    }
   ],
   "source": [
    "df.iloc[0:5,]"
   ]
  },
  {
   "cell_type": "code",
   "execution_count": 4,
   "metadata": {
    "collapsed": true
   },
   "outputs": [],
   "source": [
    "def nameprocessing(s):\n",
    "    s = str(s)\n",
    "    \n",
    "    s = s.replace(\".\",\"\")\n",
    "    s = s.replace(\",\",\"\")    \n",
    "    s = s.replace(\";\",\"\")\n",
    "    s = ''.join(s.split()).lower()\n",
    "    \n",
    "    s = s.replace(\"incorporated\",\"inc\")\n",
    "    s = s.replace(\"limited\",\"ltd\")\n",
    "    s = s.replace(\"gmbh\",\"\")\n",
    "    \n",
    "    rm=['inc','ltd','llc','pte']\n",
    "    for i in range(0,len(s)):\n",
    "        if s[-3:] in rm:\n",
    "            s=s[:-3]\n",
    "        else:\n",
    "            break\n",
    "\n",
    "    return s"
   ]
  },
  {
   "cell_type": "code",
   "execution_count": 7,
   "metadata": {
    "collapsed": true
   },
   "outputs": [],
   "source": [
    "for i in range(0,len(df.index)):\n",
    "    df.iloc[i,3]=nameprocessing(df.iloc[i,0])\n",
    "    \n",
    "df.to_csv('veh_pid_new_assignee_temp.csv',index=False)\n",
    "freq=df.groupby(['new_assignee']).size().reset_index().rename(columns={'0':'count'})\n",
    "freq.columns = ['new_assignee','freq']\n",
    "freq.to_csv('veh_new_assignee_patent_freq_temp.csv',index=False)"
   ]
  },
  {
   "cell_type": "markdown",
   "metadata": {},
   "source": [
    "### 5.2.4 new_assignee_freq와 new_assignee_freq_temp 합치기 (sum)  \n",
    "그냥 파일 합치는건 엑셀로 완료  \n",
    "다시 assignee 별로 groupby만 하면 끝"
   ]
  },
  {
   "cell_type": "code",
   "execution_count": 8,
   "metadata": {
    "collapsed": false
   },
   "outputs": [
    {
     "data": {
      "text/html": [
       "<div>\n",
       "<table border=\"1\" class=\"dataframe\">\n",
       "  <thead>\n",
       "    <tr style=\"text-align: right;\">\n",
       "      <th></th>\n",
       "      <th>new_assignee</th>\n",
       "      <th>freq</th>\n",
       "    </tr>\n",
       "  </thead>\n",
       "  <tbody>\n",
       "    <tr>\n",
       "      <th>0</th>\n",
       "      <td>1pindustriachimicaperl'arredamentospa</td>\n",
       "      <td>1.0</td>\n",
       "    </tr>\n",
       "    <tr>\n",
       "      <th>1</th>\n",
       "      <td>1stnationalbank</td>\n",
       "      <td>1.0</td>\n",
       "    </tr>\n",
       "    <tr>\n",
       "      <th>2</th>\n",
       "      <td>21stcenturyproducts</td>\n",
       "      <td>1.0</td>\n",
       "    </tr>\n",
       "    <tr>\n",
       "      <th>3</th>\n",
       "      <td>2500corporation</td>\n",
       "      <td>2.0</td>\n",
       "    </tr>\n",
       "    <tr>\n",
       "      <th>4</th>\n",
       "      <td>3comcorporation</td>\n",
       "      <td>1.0</td>\n",
       "    </tr>\n",
       "  </tbody>\n",
       "</table>\n",
       "</div>"
      ],
      "text/plain": [
       "                            new_assignee  freq\n",
       "0  1pindustriachimicaperl'arredamentospa   1.0\n",
       "1                        1stnationalbank   1.0\n",
       "2                    21stcenturyproducts   1.0\n",
       "3                        2500corporation   2.0\n",
       "4                        3comcorporation   1.0"
      ]
     },
     "execution_count": 8,
     "metadata": {},
     "output_type": "execute_result"
    }
   ],
   "source": [
    "df = pd.read_csv('veh_new_assignee_patent_freq.csv')\n",
    "df.iloc[0:5,]"
   ]
  },
  {
   "cell_type": "code",
   "execution_count": 9,
   "metadata": {
    "collapsed": false
   },
   "outputs": [
    {
     "data": {
      "text/plain": [
       "125641"
      ]
     },
     "execution_count": 9,
     "metadata": {},
     "output_type": "execute_result"
    }
   ],
   "source": [
    "len(df.index)"
   ]
  },
  {
   "cell_type": "code",
   "execution_count": 10,
   "metadata": {
    "collapsed": false
   },
   "outputs": [
    {
     "data": {
      "text/plain": [
       "119794"
      ]
     },
     "execution_count": 10,
     "metadata": {},
     "output_type": "execute_result"
    }
   ],
   "source": [
    "freq=df.groupby(['new_assignee']).size().reset_index().rename(columns={'0':'count'})\n",
    "freq.columns = ['new_assignee','freq']\n",
    "len(freq.index)"
   ]
  },
  {
   "cell_type": "code",
   "execution_count": 11,
   "metadata": {
    "collapsed": true
   },
   "outputs": [],
   "source": [
    "freq.to_csv('veh_new_assignee_patent_freq.csv',index=False)"
   ]
  },
  {
   "cell_type": "markdown",
   "metadata": {},
   "source": [
    "### 6 assignee profile 다시 만들기 -> invest도 다시 만들어 오자 ^^"
   ]
  },
  {
   "cell_type": "code",
   "execution_count": 8,
   "metadata": {
    "collapsed": false
   },
   "outputs": [],
   "source": [
    "pt = pd.read_csv('veh_new_assignee_patent_freq.csv')\n",
    "inv = pd.read_csv('veh_new_assignee_investment_info.csv')"
   ]
  },
  {
   "cell_type": "code",
   "execution_count": 10,
   "metadata": {
    "collapsed": false
   },
   "outputs": [],
   "source": [
    "profile = pt.merge(inv,how='outer',on='new_assignee',sort=True)"
   ]
  },
  {
   "cell_type": "code",
   "execution_count": 12,
   "metadata": {
    "collapsed": false
   },
   "outputs": [
    {
     "data": {
      "text/plain": [
       "0"
      ]
     },
     "execution_count": 12,
     "metadata": {},
     "output_type": "execute_result"
    }
   ],
   "source": [
    "n=0\n",
    "for i in range(0,len(profile.index)):\n",
    "    if pd.isnull(profile.iloc[i,1])==True:\n",
    "        print i, profile.iloc[i,0]\n",
    "        n=n+1\n",
    "\n",
    "n"
   ]
  },
  {
   "cell_type": "code",
   "execution_count": 13,
   "metadata": {
    "collapsed": true
   },
   "outputs": [],
   "source": [
    "profile.to_csv('veh_new_assingee_profile.csv',index=False)"
   ]
  }
 ],
 "metadata": {
  "anaconda-cloud": {},
  "kernelspec": {
   "display_name": "Python [conda root]",
   "language": "python",
   "name": "conda-root-py"
  },
  "language_info": {
   "codemirror_mode": {
    "name": "ipython",
    "version": 2
   },
   "file_extension": ".py",
   "mimetype": "text/x-python",
   "name": "python",
   "nbconvert_exporter": "python",
   "pygments_lexer": "ipython2",
   "version": "2.7.13"
  }
 },
 "nbformat": 4,
 "nbformat_minor": 1
}
