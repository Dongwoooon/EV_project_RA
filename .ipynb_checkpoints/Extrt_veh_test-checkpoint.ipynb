{
 "cells": [
  {
   "cell_type": "markdown",
   "metadata": {},
   "source": [
    "# 원하는 Class만 추출\n",
    "### main code"
   ]
  },
  {
   "cell_type": "code",
   "execution_count": 8,
   "metadata": {
    "collapsed": false,
    "scrolled": true
   },
   "outputs": [],
   "source": [
    "import pandas as pd\n",
    "import zipfile\n",
    "import csv\n",
    "\n",
    "csv_patent1=open('J:/data/patent/qq.csv','rb')\n",
    "csv_patent_reader1 = csv.reader(csv_patent1)\n",
    "header = csv_patent_reader1.next()\n",
    "class_col = [0,1]\n",
    "\n",
    "myfile = open(\"test.csv\", 'wb')\n",
    "myfile_writer = csv.writer(myfile,quoting=csv.QUOTE_ALL)\n",
    "myfile_writer.writerow(header)\n",
    "veh_class = [180,187]\n",
    "\n",
    "for line in csv_patent_reader1:\n",
    "    for i in class_col:\n",
    "        if line[i]=='':\n",
    "            break\n",
    "            \n",
    "        else:\n",
    "            try:            \n",
    "                if int(line[i]) in veh_class:\n",
    "                    myfile_writer.writerow(line)\n",
    "                    break\n",
    "                \n",
    "            except ValueError:\n",
    "                pass            \n",
    "       \n",
    "myfile.close()"
   ]
  },
  {
   "cell_type": "markdown",
   "metadata": {},
   "source": [
    "### veh_class csv에서 추출하기\n",
    "class list 손으로 입력하지 말고 파일에서 받아오자"
   ]
  },
  {
   "cell_type": "code",
   "execution_count": 7,
   "metadata": {
    "collapsed": false
   },
   "outputs": [
    {
     "data": {
      "text/plain": [
       "long"
      ]
     },
     "execution_count": 7,
     "metadata": {},
     "output_type": "execute_result"
    }
   ],
   "source": [
    "import pandas as pd\n",
    "classinfo=pd.read_csv('J:/data/patent/veh_class.csv')\n",
    "veh_class=classinfo['class'].tolist()\n",
    "type(veh_class[2])"
   ]
  },
  {
   "cell_type": "code",
   "execution_count": 3,
   "metadata": {
    "collapsed": false
   },
   "outputs": [
    {
     "data": {
      "text/plain": [
       "int"
      ]
     },
     "execution_count": 3,
     "metadata": {},
     "output_type": "execute_result"
    }
   ],
   "source": [
    "# Long으로 나오면 int로 바꿔주지 뭐\n",
    "veh_class = map(int,veh_class)\n",
    "type(veh_class[2])"
   ]
  },
  {
   "cell_type": "markdown",
   "metadata": {},
   "source": [
    "### class n = \"\"일 때, class i (i>n) = \"\" 확인\n",
    "그래야 for 좀 더 효율적으로 돌리지 (\"\"만나면 바로 break)"
   ]
  },
  {
   "cell_type": "code",
   "execution_count": 1,
   "metadata": {
    "collapsed": true
   },
   "outputs": [],
   "source": [
    "###사전작업\n",
    "\n",
    "import pandas as pd\n",
    "import zipfile\n",
    "import csv\n",
    "\n",
    "zf_patent1 = zipfile.ZipFile('E:/patent/all_patent/harvard_dataset_final_merged_output_1.zip') \n",
    "csv_patent1 = zf_patent1.open('harvard_dataset_final_merged_output_1.csv')\n",
    "csv_patent_reader1 = csv.reader(csv_patent1)\n",
    "\n",
    "header = csv_patent_reader1.next()\n",
    "mainclass_col = []\n",
    "\n",
    "for j in range(62457,63354):\n",
    "    if 'mainclass' in header[j]:   \n",
    "        mainclass_col.append(j)\n",
    "        \n",
    "classinfo = pd.read_csv('E:/patent/veh_class.csv')\n",
    "veh_class = classinfo['class'].tolist()\n",
    "veh_class = map(int,veh_class)"
   ]
  },
  {
   "cell_type": "markdown",
   "metadata": {},
   "source": [
    "100000개 정도만 check 해보자"
   ]
  },
  {
   "cell_type": "code",
   "execution_count": 8,
   "metadata": {
    "collapsed": false
   },
   "outputs": [
    {
     "data": {
      "text/plain": [
       "0"
      ]
     },
     "execution_count": 8,
     "metadata": {},
     "output_type": "execute_result"
    }
   ],
   "source": [
    "er=0\n",
    "for a in range(0,100000):\n",
    "    line = csv_patent_reader1.next()\n",
    "    classlist=[]\n",
    "    for i in mainclass_col:\n",
    "        classlist.append(line[i])\n",
    "    for j in range(0,len(classlist)):\n",
    "        if classlist[j]=='':\n",
    "            for k in range(j,len(classlist)):\n",
    "                if classlist[k]!='':\n",
    "                    er=er+1\n",
    "                    break\n",
    "            break\n",
    "er"
   ]
  },
  {
   "cell_type": "markdown",
   "metadata": {},
   "source": [
    "개꿀~ ㅎㅎㅎ 이거 쓴다"
   ]
  },
  {
   "cell_type": "markdown",
   "metadata": {},
   "source": [
    "# Class별 freq 계산 "
   ]
  },
  {
   "cell_type": "code",
   "execution_count": 72,
   "metadata": {
    "collapsed": false
   },
   "outputs": [],
   "source": [
    "# Basic Settings\n",
    "import pandas as pd\n",
    "import zipfile\n",
    "import csv\n",
    "\n",
    "csv_patent1=open('J:/data/patent/qq.csv','rb')\n",
    "csv_patent_reader1 = csv.reader(csv_patent1)\n",
    "csv_patent_reader1.next()\n",
    "\n",
    "class_col = [0,1]\n",
    "veh_class = [180,187]\n",
    "freq = pd.read_csv('J:/data/patent/qq_freq.csv')"
   ]
  },
  {
   "cell_type": "code",
   "execution_count": 73,
   "metadata": {
    "collapsed": false
   },
   "outputs": [
    {
     "data": {
      "text/html": [
       "<div>\n",
       "<table border=\"1\" class=\"dataframe\">\n",
       "  <thead>\n",
       "    <tr style=\"text-align: right;\">\n",
       "      <th></th>\n",
       "      <th>class</th>\n",
       "      <th>freq</th>\n",
       "    </tr>\n",
       "  </thead>\n",
       "  <tbody>\n",
       "    <tr>\n",
       "      <th>0</th>\n",
       "      <td>180</td>\n",
       "      <td>0</td>\n",
       "    </tr>\n",
       "    <tr>\n",
       "      <th>1</th>\n",
       "      <td>187</td>\n",
       "      <td>0</td>\n",
       "    </tr>\n",
       "  </tbody>\n",
       "</table>\n",
       "</div>"
      ],
      "text/plain": [
       "   class  freq\n",
       "0    180     0\n",
       "1    187     0"
      ]
     },
     "execution_count": 73,
     "metadata": {},
     "output_type": "execute_result"
    }
   ],
   "source": [
    "freq  "
   ]
  },
  {
   "cell_type": "code",
   "execution_count": 74,
   "metadata": {
    "collapsed": false
   },
   "outputs": [],
   "source": [
    "for line in csv_patent_reader1:\n",
    "    for i in class_col:\n",
    "    # 공백 시 line 탈출\n",
    "        if line[i]=='':   \n",
    "            break\n",
    "    \n",
    "        else:\n",
    "            try:            \n",
    "                if int(line[i]) in veh_class:\n",
    "                # 목표를 포착했다 freq를 1 늘리자\n",
    "                \n",
    "                    for j in range(0,len(veh_class)):\n",
    "                        if int(line[i])==freq.at[j,'class']:\n",
    "                            freq.at[j,'freq'] = freq.at[j,'freq']+1\n",
    "                            break\n",
    "                            # 볼일 다 봤으니 탈출\n",
    "                \n",
    "            except ValueError:\n",
    "                pass"
   ]
  },
  {
   "cell_type": "code",
   "execution_count": 76,
   "metadata": {
    "collapsed": false
   },
   "outputs": [],
   "source": [
    "freq\n",
    "freq.to_csv('J:/data/patent/qq_freq.csv',index=False)"
   ]
  }
 ],
 "metadata": {
  "anaconda-cloud": {},
  "kernelspec": {
   "display_name": "Python [conda root]",
   "language": "python",
   "name": "conda-root-py"
  },
  "language_info": {
   "codemirror_mode": {
    "name": "ipython",
    "version": 2
   },
   "file_extension": ".py",
   "mimetype": "text/x-python",
   "name": "python",
   "nbconvert_exporter": "python",
   "pygments_lexer": "ipython2",
   "version": "2.7.13"
  }
 },
 "nbformat": 4,
 "nbformat_minor": 1
}
