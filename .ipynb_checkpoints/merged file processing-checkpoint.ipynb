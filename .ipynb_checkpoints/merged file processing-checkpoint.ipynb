{
 "cells": [
  {
   "cell_type": "markdown",
   "metadata": {},
   "source": [
    "# merge한 파일 정리하기"
   ]
  },
  {
   "cell_type": "markdown",
   "metadata": {},
   "source": [
    "### 정리의 필요성\n",
    "1. invest dummy=1인 친구들 NA=0 처리 시, type이 string인 변수들은 0처리 불가\n",
    "2. 그런 변수들은 company 고유 정보를 담고 있음 (country, state, founded-year, age)\n",
    "3. company 고유 정보는 그대로 살려두자 \n",
    "4. NI 정보가 NICON, NINC, NINOC에 흩어져있음 \n",
    "  \n",
    "  \n",
    "__결론__   \n",
    "thomson과 merge, invest dummy=1이지만 funding은 못 받았을 때,\n",
    "1. funding 관련 변수: 0\n",
    "2. compnay 관련 변수: 그대로 유지, age는 계산\n",
    "3. NI 관련 변수 하나로 통합 (NI)"
   ]
  },
  {
   "cell_type": "markdown",
   "metadata": {},
   "source": [
    "### invest dummy=1인 친구들 처리"
   ]
  },
  {
   "cell_type": "code",
   "execution_count": 2,
   "metadata": {
    "collapsed": true
   },
   "outputs": [],
   "source": [
    "import pandas as pd\n",
    "import os\n",
    "\n",
    "os.chdir(\"E:/patent\")"
   ]
  },
  {
   "cell_type": "markdown",
   "metadata": {},
   "source": [
    "사전에 excel로 __invest_dummy(desc), new_assignee, assignee_country(desc)로 정렬__  \n",
    "__invest_dummy=1: 37569개__"
   ]
  },
  {
   "cell_type": "code",
   "execution_count": 11,
   "metadata": {
    "collapsed": false
   },
   "outputs": [
    {
     "name": "stdout",
     "output_type": "stream",
     "text": [
      "187 38\n"
     ]
    }
   ],
   "source": [
    "df = pd.read_csv('patent_compustat_thomson.csv')\n",
    "print list(df).index('invested_dummy'), list(df).index('assignee_country')"
   ]
  },
  {
   "cell_type": "code",
   "execution_count": 12,
   "metadata": {
    "collapsed": false
   },
   "outputs": [
    {
     "name": "stdout",
     "output_type": "stream",
     "text": [
      "1 0\n"
     ]
    }
   ],
   "source": [
    "print df.iloc[37568,187], df.iloc[37569,187]"
   ]
  },
  {
   "cell_type": "code",
   "execution_count": 13,
   "metadata": {
    "collapsed": false
   },
   "outputs": [
    {
     "data": {
      "text/plain": [
       "assignee_country         True\n",
       "assignee_founded_year    True\n",
       "assignee_state           True\n",
       "assignee_age_year        True\n",
       "assignee_age_month       True\n",
       "assignee_firm_dist       True\n",
       "Name: 2, dtype: bool"
      ]
     },
     "execution_count": 13,
     "metadata": {},
     "output_type": "execute_result"
    }
   ],
   "source": [
    "pd.isnull(df.iloc[2,38:44])"
   ]
  },
  {
   "cell_type": "code",
   "execution_count": 14,
   "metadata": {
    "collapsed": false
   },
   "outputs": [],
   "source": [
    "# year는 int처리\n",
    "for i in range(0,37569):\n",
    "    if df.iloc[i,1]==df.iloc[i+1,1] and pd.isnull(df.iloc[i+1,38]):\n",
    "        try:\n",
    "            df.iloc[i,39] = int(df.iloc[i,39])\n",
    "            df.iloc[i+1,38:41] = df.iloc[i,38:41]\n",
    "            df.iloc[i+1,41] = int(df.iloc[i,0]-df.iloc[i,39])\n",
    "            df.iloc[i+1,42] = df.iloc[i+1,41]*12\n",
    "        except ValueError:\n",
    "            pass"
   ]
  },
  {
   "cell_type": "code",
   "execution_count": 15,
   "metadata": {
    "collapsed": true
   },
   "outputs": [],
   "source": [
    "df.to_csv('merged.csv',index=False)"
   ]
  },
  {
   "cell_type": "markdown",
   "metadata": {},
   "source": [
    "### NI 하나로 통합\n",
    "\n",
    "NICON: non-US의 NI (연결)  \n",
    "NINC: non-US의 NI (별도)  \n",
    "NINOC: US의 NI (연결)  \n",
    "  \n",
    "연결과 별도 동시 존재할 때, 연결 기준으로 통합  \n",
    "__ =>  NINC < NICON__ for non-US company"
   ]
  },
  {
   "cell_type": "markdown",
   "metadata": {},
   "source": [
    "사전에 excel로 __consol, ninoc__ 기준으로 정렬,  \n",
    "consol=c: 216322개  \n",
    "consol=c, ninoc!=NA: 123849개  "
   ]
  },
  {
   "cell_type": "code",
   "execution_count": 24,
   "metadata": {
    "collapsed": false,
    "scrolled": true
   },
   "outputs": [
    {
     "name": "stdout",
     "output_type": "stream",
     "text": [
      "11 28\n"
     ]
    }
   ],
   "source": [
    "df = pd.read_csv('merged.csv')\n",
    "print list(df).index('consol'), list(df).index('nicon')"
   ]
  },
  {
   "cell_type": "markdown",
   "metadata": {},
   "source": [
    "nicon = 28, ninc = 29, ninoc = 30"
   ]
  },
  {
   "cell_type": "code",
   "execution_count": 25,
   "metadata": {
    "collapsed": false
   },
   "outputs": [
    {
     "name": "stdout",
     "output_type": "stream",
     "text": [
      "C N\n"
     ]
    }
   ],
   "source": [
    "print df.iloc[216321,11], df.iloc[216322,11]"
   ]
  },
  {
   "cell_type": "code",
   "execution_count": 26,
   "metadata": {
    "collapsed": false
   },
   "outputs": [
    {
     "name": "stdout",
     "output_type": "stream",
     "text": [
      "41733.0 nan\n"
     ]
    }
   ],
   "source": [
    "print df.iloc[123848,30], df.iloc[123849,30]"
   ]
  },
  {
   "cell_type": "code",
   "execution_count": 27,
   "metadata": {
    "collapsed": false
   },
   "outputs": [
    {
     "data": {
      "text/plain": [
       "188"
      ]
     },
     "execution_count": 27,
     "metadata": {},
     "output_type": "execute_result"
    }
   ],
   "source": [
    "import numpy as np\n",
    "df['ni']=np.nan\n",
    "list(df).index('ni')"
   ]
  },
  {
   "cell_type": "code",
   "execution_count": 28,
   "metadata": {
    "collapsed": true
   },
   "outputs": [],
   "source": [
    "for i in range(0,len(df)):\n",
    "    if i<123849:\n",
    "        df.iloc[i,188] = df.iloc[i,30]\n",
    "    \n",
    "    elif i>123848 and i<216322:\n",
    "        df.iloc[i,188] = df.iloc[i,28]\n",
    "        \n",
    "    else:\n",
    "        df.iloc[i,188] = df.iloc[i,29]"
   ]
  },
  {
   "cell_type": "code",
   "execution_count": 29,
   "metadata": {
    "collapsed": true
   },
   "outputs": [],
   "source": [
    "df.to_csv('merged_final.csv',index=False)"
   ]
  }
 ],
 "metadata": {
  "anaconda-cloud": {},
  "kernelspec": {
   "display_name": "Python [conda root]",
   "language": "python",
   "name": "conda-root-py"
  },
  "language_info": {
   "codemirror_mode": {
    "name": "ipython",
    "version": 2
   },
   "file_extension": ".py",
   "mimetype": "text/x-python",
   "name": "python",
   "nbconvert_exporter": "python",
   "pygments_lexer": "ipython2",
   "version": "2.7.13"
  }
 },
 "nbformat": 4,
 "nbformat_minor": 1
}
