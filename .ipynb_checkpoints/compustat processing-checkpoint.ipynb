{
 "cells": [
  {
   "cell_type": "markdown",
   "metadata": {},
   "source": [
    "# Compustat data 전처리\n",
    "\n",
    "1. globla, US 합치기\n",
    "2. 기업 이름 처리\n",
    "3. 모든 연도 합치기"
   ]
  },
  {
   "cell_type": "markdown",
   "metadata": {},
   "source": [
    "### 1. global, US 합치기"
   ]
  },
  {
   "cell_type": "code",
   "execution_count": 1,
   "metadata": {
    "collapsed": true
   },
   "outputs": [],
   "source": [
    "import pandas as pd\n",
    "import os\n",
    "\n",
    "os.chdir(\"E:/patent/compustat\")"
   ]
  },
  {
   "cell_type": "code",
   "execution_count": 28,
   "metadata": {
    "collapsed": false
   },
   "outputs": [],
   "source": [
    "df80 = pd.read_csv('global_80s.csv')\n",
    "df80u = pd.read_csv('us_80s.csv')"
   ]
  },
  {
   "cell_type": "code",
   "execution_count": 29,
   "metadata": {
    "collapsed": false,
    "scrolled": true
   },
   "outputs": [
    {
     "data": {
      "text/plain": [
       "['act',\n",
       " 'at',\n",
       " 'conm',\n",
       " 'conml',\n",
       " 'consol',\n",
       " 'datadate',\n",
       " 'ebit',\n",
       " 'emp',\n",
       " 'fatb',\n",
       " 'fate',\n",
       " 'fatl',\n",
       " 'fatp',\n",
       " 'fic',\n",
       " 'fopo',\n",
       " 'fsrco',\n",
       " 'fsrcopo',\n",
       " 'fsrcopt',\n",
       " 'fsrct',\n",
       " 'fuseo',\n",
       " 'fuset',\n",
       " 'fyear',\n",
       " 'gvkey',\n",
       " 'nicon',\n",
       " 'ninc',\n",
       " 'ninoc',\n",
       " 'ppegt',\n",
       " 'ppent',\n",
       " 'revt',\n",
       " 'teq',\n",
       " 'xlr',\n",
       " 'xrd',\n",
       " 'xstfws']"
      ]
     },
     "execution_count": 29,
     "metadata": {},
     "output_type": "execute_result"
    }
   ],
   "source": [
    "df = df80.append(df80u)\n",
    "list(df)"
   ]
  },
  {
   "cell_type": "code",
   "execution_count": 30,
   "metadata": {
    "collapsed": false
   },
   "outputs": [
    {
     "name": "stdout",
     "output_type": "stream",
     "text": [
      "28847 10125 18722 28847\n"
     ]
    }
   ],
   "source": [
    "print len(df), len(df80), len(df80u), len(df80)+len(df80u)"
   ]
  },
  {
   "cell_type": "code",
   "execution_count": 31,
   "metadata": {
    "collapsed": true
   },
   "outputs": [],
   "source": [
    "df.to_csv('80s.csv',index=False)"
   ]
  },
  {
   "cell_type": "code",
   "execution_count": 32,
   "metadata": {
    "collapsed": true
   },
   "outputs": [],
   "source": [
    "del df80, df80u"
   ]
  },
  {
   "cell_type": "code",
   "execution_count": 33,
   "metadata": {
    "collapsed": false
   },
   "outputs": [],
   "source": [
    "df90 = pd.read_csv('global_90s.csv')\n",
    "df90u = pd.read_csv('us_90s.csv')"
   ]
  },
  {
   "cell_type": "code",
   "execution_count": 34,
   "metadata": {
    "collapsed": false,
    "scrolled": true
   },
   "outputs": [
    {
     "name": "stdout",
     "output_type": "stream",
     "text": [
      "238454 122429 116025 238454\n"
     ]
    }
   ],
   "source": [
    "df = df90.append(df90u)\n",
    "print len(df), len(df90), len(df90u), len(df90)+len(df90u)"
   ]
  },
  {
   "cell_type": "code",
   "execution_count": 35,
   "metadata": {
    "collapsed": true
   },
   "outputs": [],
   "source": [
    "df.to_csv('90s.csv',index=False)"
   ]
  },
  {
   "cell_type": "code",
   "execution_count": 36,
   "metadata": {
    "collapsed": true
   },
   "outputs": [],
   "source": [
    "del df90, df90u"
   ]
  },
  {
   "cell_type": "code",
   "execution_count": 37,
   "metadata": {
    "collapsed": false
   },
   "outputs": [
    {
     "name": "stdout",
     "output_type": "stream",
     "text": [
      "401136 292035 109101 401136\n"
     ]
    }
   ],
   "source": [
    "df00 = pd.read_csv('global_00s.csv')\n",
    "df00u = pd.read_csv('us_00s.csv')\n",
    "\n",
    "df = df00.append(df00u)\n",
    "print len(df), len(df00), len(df00u), len(df00)+len(df00u)"
   ]
  },
  {
   "cell_type": "code",
   "execution_count": 38,
   "metadata": {
    "collapsed": true
   },
   "outputs": [],
   "source": [
    "df.to_csv('00s.csv',index=False)\n",
    "del df00, df00u"
   ]
  },
  {
   "cell_type": "code",
   "execution_count": 39,
   "metadata": {
    "collapsed": false
   },
   "outputs": [
    {
     "name": "stdout",
     "output_type": "stream",
     "text": [
      "182743 140393 42350 182743\n"
     ]
    }
   ],
   "source": [
    "df10 = pd.read_csv('global_10s.csv')\n",
    "df10u = pd.read_csv('us_10s.csv')\n",
    "\n",
    "df = df10.append(df10u)\n",
    "print len(df), len(df10), len(df10u), len(df10)+len(df10u)"
   ]
  },
  {
   "cell_type": "code",
   "execution_count": 40,
   "metadata": {
    "collapsed": true
   },
   "outputs": [],
   "source": [
    "df.to_csv('10s.csv',index=False)\n",
    "del df10, df10u"
   ]
  },
  {
   "cell_type": "markdown",
   "metadata": {},
   "source": [
    "### 2. 기업 이름 처리"
   ]
  },
  {
   "cell_type": "markdown",
   "metadata": {},
   "source": [
    "__plc, kft까지 처리 필요!__"
   ]
  },
  {
   "cell_type": "code",
   "execution_count": 2,
   "metadata": {
    "collapsed": true
   },
   "outputs": [],
   "source": [
    "def nameprocessing(s):\n",
    "    s = str(s)\n",
    "    \n",
    "    s = s.replace(\".\",\"\")\n",
    "    s = s.replace(\",\",\"\")    \n",
    "    s = s.replace(\";\",\"\")\n",
    "    s = ''.join(s.split()).lower()\n",
    "    \n",
    "    s = s.replace(\"incorporated\",\"inc\")\n",
    "    s = s.replace(\"limited\",\"ltd\")\n",
    "    s = s.replace(\"gmbh\",\"\")\n",
    "    \n",
    "    rm=['inc','ltd','llc','pte','plc','kft']\n",
    "    for i in range(0,len(s)):\n",
    "        if s[-3:] in rm:\n",
    "            s=s[:-3]\n",
    "        else:\n",
    "            break\n",
    "\n",
    "    return s"
   ]
  },
  {
   "cell_type": "code",
   "execution_count": 14,
   "metadata": {
    "collapsed": false,
    "scrolled": true
   },
   "outputs": [
    {
     "data": {
      "text/plain": [
       "['conm', 'conml', 'act', 'at', 'consol']"
      ]
     },
     "execution_count": 14,
     "metadata": {},
     "output_type": "execute_result"
    }
   ],
   "source": [
    "df = pd.read_csv('80s.csv')\n",
    "list(df)[0:5]"
   ]
  },
  {
   "cell_type": "code",
   "execution_count": 15,
   "metadata": {
    "collapsed": false
   },
   "outputs": [
    {
     "data": {
      "text/plain": [
       "33"
      ]
     },
     "execution_count": 15,
     "metadata": {},
     "output_type": "execute_result"
    }
   ],
   "source": [
    "df['new_assignee']=''\n",
    "len(list(df))"
   ]
  },
  {
   "cell_type": "code",
   "execution_count": 16,
   "metadata": {
    "collapsed": false
   },
   "outputs": [],
   "source": [
    "for i in range(0,len(df.index)):\n",
    "    df.iloc[i,32]=nameprocessing(df.iloc[i,0])"
   ]
  },
  {
   "cell_type": "code",
   "execution_count": 4,
   "metadata": {
    "collapsed": false
   },
   "outputs": [
    {
     "data": {
      "text/plain": [
       "['new_assignee', 'conm', 'conml']"
      ]
     },
     "execution_count": 4,
     "metadata": {},
     "output_type": "execute_result"
    }
   ],
   "source": [
    "cols = df.columns.tolist()\n",
    "cols = cols[-1:] + cols[:-1]\n",
    "df2 = df[cols]\n",
    "list(df2)[0:3]"
   ]
  },
  {
   "cell_type": "code",
   "execution_count": 18,
   "metadata": {
    "collapsed": false
   },
   "outputs": [],
   "source": [
    "df2.to_csv('80s_fin.csv',index=False)"
   ]
  },
  {
   "cell_type": "code",
   "execution_count": 19,
   "metadata": {
    "collapsed": true
   },
   "outputs": [],
   "source": [
    "del df2"
   ]
  },
  {
   "cell_type": "code",
   "execution_count": 20,
   "metadata": {
    "collapsed": false
   },
   "outputs": [
    {
     "data": {
      "text/plain": [
       "33"
      ]
     },
     "execution_count": 20,
     "metadata": {},
     "output_type": "execute_result"
    }
   ],
   "source": [
    "df = pd.read_csv('90s.csv')\n",
    "df['new_assignee']=''\n",
    "len(list(df))"
   ]
  },
  {
   "cell_type": "code",
   "execution_count": 21,
   "metadata": {
    "collapsed": false
   },
   "outputs": [
    {
     "data": {
      "text/plain": [
       "['new_assignee', 'conm', 'conml']"
      ]
     },
     "execution_count": 21,
     "metadata": {},
     "output_type": "execute_result"
    }
   ],
   "source": [
    "for i in range(0,len(df.index)):\n",
    "    df.iloc[i,32]=nameprocessing(df.iloc[i,0])\n",
    "df2 = df[cols]\n",
    "list(df2)[0:3]"
   ]
  },
  {
   "cell_type": "code",
   "execution_count": 22,
   "metadata": {
    "collapsed": true
   },
   "outputs": [],
   "source": [
    "df2.to_csv('90s_fin.csv',index=False)\n",
    "del df2"
   ]
  },
  {
   "cell_type": "code",
   "execution_count": 3,
   "metadata": {
    "collapsed": false
   },
   "outputs": [
    {
     "ename": "NameError",
     "evalue": "name 'cols' is not defined",
     "output_type": "error",
     "traceback": [
      "\u001b[0;31m---------------------------------------------------------------------------\u001b[0m",
      "\u001b[0;31mNameError\u001b[0m                                 Traceback (most recent call last)",
      "\u001b[0;32m<ipython-input-3-1eac17626ed1>\u001b[0m in \u001b[0;36m<module>\u001b[0;34m()\u001b[0m\n\u001b[1;32m      4\u001b[0m \u001b[1;32mfor\u001b[0m \u001b[0mi\u001b[0m \u001b[1;32min\u001b[0m \u001b[0mrange\u001b[0m\u001b[1;33m(\u001b[0m\u001b[1;36m0\u001b[0m\u001b[1;33m,\u001b[0m\u001b[0mlen\u001b[0m\u001b[1;33m(\u001b[0m\u001b[0mdf\u001b[0m\u001b[1;33m.\u001b[0m\u001b[0mindex\u001b[0m\u001b[1;33m)\u001b[0m\u001b[1;33m)\u001b[0m\u001b[1;33m:\u001b[0m\u001b[1;33m\u001b[0m\u001b[0m\n\u001b[1;32m      5\u001b[0m     \u001b[0mdf\u001b[0m\u001b[1;33m.\u001b[0m\u001b[0miloc\u001b[0m\u001b[1;33m[\u001b[0m\u001b[0mi\u001b[0m\u001b[1;33m,\u001b[0m\u001b[1;36m32\u001b[0m\u001b[1;33m]\u001b[0m\u001b[1;33m=\u001b[0m\u001b[0mnameprocessing\u001b[0m\u001b[1;33m(\u001b[0m\u001b[0mdf\u001b[0m\u001b[1;33m.\u001b[0m\u001b[0miloc\u001b[0m\u001b[1;33m[\u001b[0m\u001b[0mi\u001b[0m\u001b[1;33m,\u001b[0m\u001b[1;36m0\u001b[0m\u001b[1;33m]\u001b[0m\u001b[1;33m)\u001b[0m\u001b[1;33m\u001b[0m\u001b[0m\n\u001b[0;32m----> 6\u001b[0;31m \u001b[0mdf2\u001b[0m \u001b[1;33m=\u001b[0m \u001b[0mdf\u001b[0m\u001b[1;33m[\u001b[0m\u001b[0mcols\u001b[0m\u001b[1;33m]\u001b[0m\u001b[1;33m\u001b[0m\u001b[0m\n\u001b[0m\u001b[1;32m      7\u001b[0m \u001b[0mlist\u001b[0m\u001b[1;33m(\u001b[0m\u001b[0mdf2\u001b[0m\u001b[1;33m)\u001b[0m\u001b[1;33m[\u001b[0m\u001b[1;36m0\u001b[0m\u001b[1;33m:\u001b[0m\u001b[1;36m3\u001b[0m\u001b[1;33m]\u001b[0m\u001b[1;33m\u001b[0m\u001b[0m\n",
      "\u001b[0;31mNameError\u001b[0m: name 'cols' is not defined"
     ]
    }
   ],
   "source": [
    "df = pd.read_csv('00s.csv')\n",
    "df['new_assignee']=''\n",
    "\n",
    "for i in range(0,len(df.index)):\n",
    "    df.iloc[i,32]=nameprocessing(df.iloc[i,0])\n",
    "df2 = df[cols]\n",
    "list(df2)[0:3]"
   ]
  },
  {
   "cell_type": "code",
   "execution_count": 5,
   "metadata": {
    "collapsed": true
   },
   "outputs": [],
   "source": [
    "df2.to_csv('00s_fin.csv',index=False)\n",
    "del df2"
   ]
  },
  {
   "cell_type": "code",
   "execution_count": 23,
   "metadata": {
    "collapsed": false
   },
   "outputs": [
    {
     "data": {
      "text/plain": [
       "['new_assignee', 'conm', 'conml']"
      ]
     },
     "execution_count": 23,
     "metadata": {},
     "output_type": "execute_result"
    }
   ],
   "source": [
    "df = pd.read_csv('10s.csv')\n",
    "df['new_assignee']=''\n",
    "\n",
    "for i in range(0,len(df.index)):\n",
    "    df.iloc[i,32]=nameprocessing(df.iloc[i,0])\n",
    "df2 = df[cols]\n",
    "list(df2)[0:3]"
   ]
  },
  {
   "cell_type": "code",
   "execution_count": 24,
   "metadata": {
    "collapsed": true
   },
   "outputs": [],
   "source": [
    "df2.to_csv('10s_fin.csv',index=False)\n",
    "del df2"
   ]
  },
  {
   "cell_type": "markdown",
   "metadata": {
    "collapsed": true
   },
   "source": [
    "### 3. 모든 연도 합치기"
   ]
  },
  {
   "cell_type": "code",
   "execution_count": 2,
   "metadata": {
    "collapsed": true
   },
   "outputs": [],
   "source": [
    "df80 = pd.read_csv('80s_fin.csv')\n",
    "df90 = pd.read_csv('90s_fin.csv')\n",
    "df00 = pd.read_csv('00s_fin.csv')\n",
    "df10 = pd.read_csv('10s_fin.csv')"
   ]
  },
  {
   "cell_type": "code",
   "execution_count": 4,
   "metadata": {
    "collapsed": false,
    "scrolled": true
   },
   "outputs": [
    {
     "name": "stdout",
     "output_type": "stream",
     "text": [
      "True\n"
     ]
    }
   ],
   "source": [
    "df = df80.append(df90, ignore_index=True)\n",
    "print list(df) == list(df80)"
   ]
  },
  {
   "cell_type": "code",
   "execution_count": 5,
   "metadata": {
    "collapsed": false,
    "scrolled": true
   },
   "outputs": [
    {
     "name": "stdout",
     "output_type": "stream",
     "text": [
      "267301 267301 True\n"
     ]
    }
   ],
   "source": [
    "print len(df), len(df80)+len(df90), list(df) == list(df90)"
   ]
  },
  {
   "cell_type": "code",
   "execution_count": 6,
   "metadata": {
    "collapsed": true
   },
   "outputs": [],
   "source": [
    "del df80, df90\n",
    "df = df.append(df00,ignore_index=True)"
   ]
  },
  {
   "cell_type": "code",
   "execution_count": 9,
   "metadata": {
    "collapsed": false
   },
   "outputs": [
    {
     "name": "stdout",
     "output_type": "stream",
     "text": [
      "668437 668437 True\n"
     ]
    }
   ],
   "source": [
    "print len(df), len(df00)+267301, list(df) == list(df00)"
   ]
  },
  {
   "cell_type": "code",
   "execution_count": 10,
   "metadata": {
    "collapsed": true
   },
   "outputs": [],
   "source": [
    "del df00\n",
    "df = df.append(df10, ignore_index=True)"
   ]
  },
  {
   "cell_type": "code",
   "execution_count": 12,
   "metadata": {
    "collapsed": false
   },
   "outputs": [
    {
     "name": "stdout",
     "output_type": "stream",
     "text": [
      " 851180 851180 True\n"
     ]
    }
   ],
   "source": [
    "print len(df), len(df10)+668437, list(df) == list(df10)"
   ]
  },
  {
   "cell_type": "code",
   "execution_count": 13,
   "metadata": {
    "collapsed": true
   },
   "outputs": [],
   "source": [
    "del df10\n",
    "df.sort_values(by=['new_assignee'], inplace=True)"
   ]
  },
  {
   "cell_type": "code",
   "execution_count": 14,
   "metadata": {
    "collapsed": false,
    "scrolled": true
   },
   "outputs": [
    {
     "data": {
      "text/html": [
       "<div>\n",
       "<table border=\"1\" class=\"dataframe\">\n",
       "  <thead>\n",
       "    <tr style=\"text-align: right;\">\n",
       "      <th></th>\n",
       "      <th>new_assignee</th>\n",
       "      <th>conm</th>\n",
       "      <th>conml</th>\n",
       "      <th>act</th>\n",
       "      <th>at</th>\n",
       "      <th>consol</th>\n",
       "      <th>datadate</th>\n",
       "      <th>ebit</th>\n",
       "      <th>emp</th>\n",
       "      <th>fatb</th>\n",
       "      <th>...</th>\n",
       "      <th>nicon</th>\n",
       "      <th>ninc</th>\n",
       "      <th>ninoc</th>\n",
       "      <th>ppegt</th>\n",
       "      <th>ppent</th>\n",
       "      <th>revt</th>\n",
       "      <th>teq</th>\n",
       "      <th>xlr</th>\n",
       "      <th>xrd</th>\n",
       "      <th>xstfws</th>\n",
       "    </tr>\n",
       "  </thead>\n",
       "  <tbody>\n",
       "    <tr>\n",
       "      <th>502461</th>\n",
       "      <td>adenclassifiedssa</td>\n",
       "      <td>ADENCLASSIFIEDS SA</td>\n",
       "      <td>Adenclassifieds SA</td>\n",
       "      <td>21.715</td>\n",
       "      <td>43.736</td>\n",
       "      <td>C</td>\n",
       "      <td>2005-12-31</td>\n",
       "      <td>0.926</td>\n",
       "      <td>NaN</td>\n",
       "      <td>NaN</td>\n",
       "      <td>...</td>\n",
       "      <td>0.563</td>\n",
       "      <td>NaN</td>\n",
       "      <td>NaN</td>\n",
       "      <td>1.249</td>\n",
       "      <td>0.590</td>\n",
       "      <td>21.240</td>\n",
       "      <td>NaN</td>\n",
       "      <td>10.897</td>\n",
       "      <td>NaN</td>\n",
       "      <td>10.897</td>\n",
       "    </tr>\n",
       "    <tr>\n",
       "      <th>502462</th>\n",
       "      <td>adenclassifiedssa</td>\n",
       "      <td>ADENCLASSIFIEDS SA</td>\n",
       "      <td>Adenclassifieds SA</td>\n",
       "      <td>33.524</td>\n",
       "      <td>60.297</td>\n",
       "      <td>C</td>\n",
       "      <td>2006-12-31</td>\n",
       "      <td>2.445</td>\n",
       "      <td>NaN</td>\n",
       "      <td>NaN</td>\n",
       "      <td>...</td>\n",
       "      <td>0.370</td>\n",
       "      <td>NaN</td>\n",
       "      <td>NaN</td>\n",
       "      <td>2.097</td>\n",
       "      <td>1.333</td>\n",
       "      <td>34.079</td>\n",
       "      <td>NaN</td>\n",
       "      <td>16.969</td>\n",
       "      <td>NaN</td>\n",
       "      <td>16.969</td>\n",
       "    </tr>\n",
       "    <tr>\n",
       "      <th>502464</th>\n",
       "      <td>adenclassifiedssa</td>\n",
       "      <td>ADENCLASSIFIEDS SA</td>\n",
       "      <td>Adenclassifieds SA</td>\n",
       "      <td>77.235</td>\n",
       "      <td>214.576</td>\n",
       "      <td>C</td>\n",
       "      <td>2008-12-31</td>\n",
       "      <td>8.348</td>\n",
       "      <td>NaN</td>\n",
       "      <td>NaN</td>\n",
       "      <td>...</td>\n",
       "      <td>6.372</td>\n",
       "      <td>NaN</td>\n",
       "      <td>NaN</td>\n",
       "      <td>3.267</td>\n",
       "      <td>1.363</td>\n",
       "      <td>59.055</td>\n",
       "      <td>NaN</td>\n",
       "      <td>26.442</td>\n",
       "      <td>NaN</td>\n",
       "      <td>26.442</td>\n",
       "    </tr>\n",
       "    <tr>\n",
       "      <th>502463</th>\n",
       "      <td>adenclassifiedssa</td>\n",
       "      <td>ADENCLASSIFIEDS SA</td>\n",
       "      <td>Adenclassifieds SA</td>\n",
       "      <td>90.265</td>\n",
       "      <td>211.156</td>\n",
       "      <td>C</td>\n",
       "      <td>2007-12-31</td>\n",
       "      <td>6.970</td>\n",
       "      <td>NaN</td>\n",
       "      <td>NaN</td>\n",
       "      <td>...</td>\n",
       "      <td>4.395</td>\n",
       "      <td>NaN</td>\n",
       "      <td>NaN</td>\n",
       "      <td>2.791</td>\n",
       "      <td>1.415</td>\n",
       "      <td>50.184</td>\n",
       "      <td>NaN</td>\n",
       "      <td>22.480</td>\n",
       "      <td>NaN</td>\n",
       "      <td>22.480</td>\n",
       "    </tr>\n",
       "    <tr>\n",
       "      <th>462588</th>\n",
       "      <td>adept4</td>\n",
       "      <td>ADEPT4 PLC</td>\n",
       "      <td>adept4 PLC</td>\n",
       "      <td>0.063</td>\n",
       "      <td>0.073</td>\n",
       "      <td>C</td>\n",
       "      <td>2003-09-30</td>\n",
       "      <td>-0.186</td>\n",
       "      <td>NaN</td>\n",
       "      <td>NaN</td>\n",
       "      <td>...</td>\n",
       "      <td>-0.186</td>\n",
       "      <td>NaN</td>\n",
       "      <td>NaN</td>\n",
       "      <td>0.014</td>\n",
       "      <td>0.010</td>\n",
       "      <td>0.265</td>\n",
       "      <td>NaN</td>\n",
       "      <td>NaN</td>\n",
       "      <td>NaN</td>\n",
       "      <td>NaN</td>\n",
       "    </tr>\n",
       "    <tr>\n",
       "      <th>462587</th>\n",
       "      <td>adept4</td>\n",
       "      <td>ADEPT4 PLC</td>\n",
       "      <td>adept4 PLC</td>\n",
       "      <td>0.079</td>\n",
       "      <td>0.083</td>\n",
       "      <td>C</td>\n",
       "      <td>2002-09-30</td>\n",
       "      <td>-0.107</td>\n",
       "      <td>NaN</td>\n",
       "      <td>NaN</td>\n",
       "      <td>...</td>\n",
       "      <td>-0.107</td>\n",
       "      <td>NaN</td>\n",
       "      <td>NaN</td>\n",
       "      <td>NaN</td>\n",
       "      <td>0.004</td>\n",
       "      <td>0.092</td>\n",
       "      <td>NaN</td>\n",
       "      <td>NaN</td>\n",
       "      <td>NaN</td>\n",
       "      <td>NaN</td>\n",
       "    </tr>\n",
       "    <tr>\n",
       "      <th>462591</th>\n",
       "      <td>adept4</td>\n",
       "      <td>ADEPT4 PLC</td>\n",
       "      <td>adept4 PLC</td>\n",
       "      <td>1.599</td>\n",
       "      <td>5.375</td>\n",
       "      <td>C</td>\n",
       "      <td>2006-09-30</td>\n",
       "      <td>-0.579</td>\n",
       "      <td>NaN</td>\n",
       "      <td>NaN</td>\n",
       "      <td>...</td>\n",
       "      <td>-0.614</td>\n",
       "      <td>NaN</td>\n",
       "      <td>NaN</td>\n",
       "      <td>0.381</td>\n",
       "      <td>0.113</td>\n",
       "      <td>3.676</td>\n",
       "      <td>NaN</td>\n",
       "      <td>0.001</td>\n",
       "      <td>NaN</td>\n",
       "      <td>0.001</td>\n",
       "    </tr>\n",
       "    <tr>\n",
       "      <th>462589</th>\n",
       "      <td>adept4</td>\n",
       "      <td>ADEPT4 PLC</td>\n",
       "      <td>adept4 PLC</td>\n",
       "      <td>0.072</td>\n",
       "      <td>0.101</td>\n",
       "      <td>C</td>\n",
       "      <td>2004-09-30</td>\n",
       "      <td>-0.205</td>\n",
       "      <td>NaN</td>\n",
       "      <td>NaN</td>\n",
       "      <td>...</td>\n",
       "      <td>-0.205</td>\n",
       "      <td>NaN</td>\n",
       "      <td>NaN</td>\n",
       "      <td>0.021</td>\n",
       "      <td>0.011</td>\n",
       "      <td>0.374</td>\n",
       "      <td>NaN</td>\n",
       "      <td>NaN</td>\n",
       "      <td>NaN</td>\n",
       "      <td>NaN</td>\n",
       "    </tr>\n",
       "    <tr>\n",
       "      <th>736922</th>\n",
       "      <td>adept4</td>\n",
       "      <td>ADEPT4 PLC</td>\n",
       "      <td>adept4 PLC</td>\n",
       "      <td>2.827</td>\n",
       "      <td>6.921</td>\n",
       "      <td>C</td>\n",
       "      <td>2012-09-30</td>\n",
       "      <td>-0.354</td>\n",
       "      <td>0.065</td>\n",
       "      <td>NaN</td>\n",
       "      <td>...</td>\n",
       "      <td>-0.897</td>\n",
       "      <td>NaN</td>\n",
       "      <td>NaN</td>\n",
       "      <td>1.129</td>\n",
       "      <td>0.217</td>\n",
       "      <td>12.710</td>\n",
       "      <td>1.387</td>\n",
       "      <td>2.448</td>\n",
       "      <td>NaN</td>\n",
       "      <td>2.448</td>\n",
       "    </tr>\n",
       "    <tr>\n",
       "      <th>736921</th>\n",
       "      <td>adept4</td>\n",
       "      <td>ADEPT4 PLC</td>\n",
       "      <td>adept4 PLC</td>\n",
       "      <td>2.126</td>\n",
       "      <td>3.958</td>\n",
       "      <td>C</td>\n",
       "      <td>2011-09-30</td>\n",
       "      <td>-0.074</td>\n",
       "      <td>0.037</td>\n",
       "      <td>NaN</td>\n",
       "      <td>...</td>\n",
       "      <td>-0.118</td>\n",
       "      <td>NaN</td>\n",
       "      <td>NaN</td>\n",
       "      <td>0.871</td>\n",
       "      <td>0.108</td>\n",
       "      <td>8.522</td>\n",
       "      <td>1.813</td>\n",
       "      <td>0.014</td>\n",
       "      <td>NaN</td>\n",
       "      <td>0.014</td>\n",
       "    </tr>\n",
       "  </tbody>\n",
       "</table>\n",
       "<p>10 rows × 33 columns</p>\n",
       "</div>"
      ],
      "text/plain": [
       "             new_assignee                conm               conml     act  \\\n",
       "502461  adenclassifiedssa  ADENCLASSIFIEDS SA  Adenclassifieds SA  21.715   \n",
       "502462  adenclassifiedssa  ADENCLASSIFIEDS SA  Adenclassifieds SA  33.524   \n",
       "502464  adenclassifiedssa  ADENCLASSIFIEDS SA  Adenclassifieds SA  77.235   \n",
       "502463  adenclassifiedssa  ADENCLASSIFIEDS SA  Adenclassifieds SA  90.265   \n",
       "462588             adept4          ADEPT4 PLC          adept4 PLC   0.063   \n",
       "462587             adept4          ADEPT4 PLC          adept4 PLC   0.079   \n",
       "462591             adept4          ADEPT4 PLC          adept4 PLC   1.599   \n",
       "462589             adept4          ADEPT4 PLC          adept4 PLC   0.072   \n",
       "736922             adept4          ADEPT4 PLC          adept4 PLC   2.827   \n",
       "736921             adept4          ADEPT4 PLC          adept4 PLC   2.126   \n",
       "\n",
       "             at consol    datadate   ebit    emp  fatb   ...    nicon  ninc  \\\n",
       "502461   43.736      C  2005-12-31  0.926    NaN   NaN   ...    0.563   NaN   \n",
       "502462   60.297      C  2006-12-31  2.445    NaN   NaN   ...    0.370   NaN   \n",
       "502464  214.576      C  2008-12-31  8.348    NaN   NaN   ...    6.372   NaN   \n",
       "502463  211.156      C  2007-12-31  6.970    NaN   NaN   ...    4.395   NaN   \n",
       "462588    0.073      C  2003-09-30 -0.186    NaN   NaN   ...   -0.186   NaN   \n",
       "462587    0.083      C  2002-09-30 -0.107    NaN   NaN   ...   -0.107   NaN   \n",
       "462591    5.375      C  2006-09-30 -0.579    NaN   NaN   ...   -0.614   NaN   \n",
       "462589    0.101      C  2004-09-30 -0.205    NaN   NaN   ...   -0.205   NaN   \n",
       "736922    6.921      C  2012-09-30 -0.354  0.065   NaN   ...   -0.897   NaN   \n",
       "736921    3.958      C  2011-09-30 -0.074  0.037   NaN   ...   -0.118   NaN   \n",
       "\n",
       "        ninoc  ppegt  ppent    revt    teq     xlr  xrd  xstfws  \n",
       "502461    NaN  1.249  0.590  21.240    NaN  10.897  NaN  10.897  \n",
       "502462    NaN  2.097  1.333  34.079    NaN  16.969  NaN  16.969  \n",
       "502464    NaN  3.267  1.363  59.055    NaN  26.442  NaN  26.442  \n",
       "502463    NaN  2.791  1.415  50.184    NaN  22.480  NaN  22.480  \n",
       "462588    NaN  0.014  0.010   0.265    NaN     NaN  NaN     NaN  \n",
       "462587    NaN    NaN  0.004   0.092    NaN     NaN  NaN     NaN  \n",
       "462591    NaN  0.381  0.113   3.676    NaN   0.001  NaN   0.001  \n",
       "462589    NaN  0.021  0.011   0.374    NaN     NaN  NaN     NaN  \n",
       "736922    NaN  1.129  0.217  12.710  1.387   2.448  NaN   2.448  \n",
       "736921    NaN  0.871  0.108   8.522  1.813   0.014  NaN   0.014  \n",
       "\n",
       "[10 rows x 33 columns]"
      ]
     },
     "execution_count": 14,
     "metadata": {},
     "output_type": "execute_result"
    }
   ],
   "source": [
    "df.iloc[10483:10493,]"
   ]
  },
  {
   "cell_type": "code",
   "execution_count": 15,
   "metadata": {
    "collapsed": true
   },
   "outputs": [],
   "source": [
    "df.to_csv('compustat.csv', index=False)"
   ]
  }
 ],
 "metadata": {
  "anaconda-cloud": {},
  "kernelspec": {
   "display_name": "Python [conda root]",
   "language": "python",
   "name": "conda-root-py"
  },
  "language_info": {
   "codemirror_mode": {
    "name": "ipython",
    "version": 2
   },
   "file_extension": ".py",
   "mimetype": "text/x-python",
   "name": "python",
   "nbconvert_exporter": "python",
   "pygments_lexer": "ipython2",
   "version": "2.7.13"
  }
 },
 "nbformat": 4,
 "nbformat_minor": 1
}
