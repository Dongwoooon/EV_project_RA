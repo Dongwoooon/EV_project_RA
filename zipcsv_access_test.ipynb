{
 "cells": [
  {
   "cell_type": "code",
   "execution_count": 3,
   "metadata": {
    "collapsed": true
   },
   "outputs": [],
   "source": [
    "import pandas as pd\n",
    "import zipfile\n",
    "\n",
    "zf = zipfile.ZipFile('test.zip') \n",
    "df = pd.read_csv(zf.open('test.csv'), index_col = 0)"
   ]
  },
  {
   "cell_type": "code",
   "execution_count": 4,
   "metadata": {
    "collapsed": false
   },
   "outputs": [
    {
     "name": "stdout",
     "output_type": "stream",
     "text": [
      "      1     2     3\n",
      "1  test  test  test\n",
      "2  test  test  test\n",
      "3  test  test  test\n"
     ]
    }
   ],
   "source": [
    "print df"
   ]
  },
  {
   "cell_type": "code",
   "execution_count": 14,
   "metadata": {
    "collapsed": true
   },
   "outputs": [],
   "source": [
    "import pandas as pd\n",
    "import zipfile\n",
    "\n",
    "zf = zipfile.ZipFile('test.zip') \n",
    "testfile = zf.open('test.csv')"
   ]
  },
  {
   "cell_type": "code",
   "execution_count": 15,
   "metadata": {
    "collapsed": false
   },
   "outputs": [
    {
     "name": "stdout",
     "output_type": "stream",
     "text": [
      ",1,2,3\r\n",
      "\n",
      "1,test,test,test\r\n",
      "\n",
      "2,test,test,test\r\n",
      "\n",
      "3,test,test,test\r\n",
      "\n"
     ]
    }
   ],
   "source": [
    "for line in testfile:\n",
    "    print line"
   ]
  },
  {
   "cell_type": "markdown",
   "metadata": {},
   "source": [
    "## column name이 true 경우에 선택하기"
   ]
  },
  {
   "cell_type": "code",
   "execution_count": 53,
   "metadata": {
    "collapsed": false
   },
   "outputs": [],
   "source": [
    "import pandas as pd\n",
    "import zipfile\n",
    "import csv\n",
    "\n",
    "zf = zipfile.ZipFile('test.zip') \n",
    "testfile = zf.open('test.csv')\n",
    "\n",
    "reader = csv.reader(testfile)"
   ]
  },
  {
   "cell_type": "code",
   "execution_count": 54,
   "metadata": {
    "collapsed": false
   },
   "outputs": [],
   "source": [
    "import pandas as pd\n",
    "\n",
    "col_info = pd.read_csv('test_column.csv',index_col = 0)"
   ]
  },
  {
   "cell_type": "code",
   "execution_count": 55,
   "metadata": {
    "collapsed": false
   },
   "outputs": [
    {
     "name": "stdout",
     "output_type": "stream",
     "text": [
      "1    True\n",
      "2    True\n",
      "3    True\n",
      "Name: selection, dtype: bool\n"
     ]
    }
   ],
   "source": [
    "print col_info.selection == True\n",
    "selection = [False] + list(col_info.selection == True)"
   ]
  },
  {
   "cell_type": "code",
   "execution_count": 56,
   "metadata": {
    "collapsed": false
   },
   "outputs": [
    {
     "name": "stdout",
     "output_type": "stream",
     "text": [
      "[False, True, True, True]\n"
     ]
    }
   ],
   "source": [
    "print selection"
   ]
  },
  {
   "cell_type": "code",
   "execution_count": 57,
   "metadata": {
    "collapsed": false
   },
   "outputs": [
    {
     "name": "stdout",
     "output_type": "stream",
     "text": [
      "['1', '2', '3']\n",
      "['test', 'test', 'test']\n",
      "['test', 'test', 'test']\n",
      "['test', 'test', 'test']\n"
     ]
    }
   ],
   "source": [
    "from itertools import compress\n",
    "\n",
    "for line in reader:\n",
    "    print list(compress(line, selection))"
   ]
  },
  {
   "cell_type": "markdown",
   "metadata": {},
   "source": [
    "## 여러파일에서 읽어서 합치기"
   ]
  },
  {
   "cell_type": "code",
   "execution_count": 62,
   "metadata": {
    "collapsed": true
   },
   "outputs": [],
   "source": [
    "import pandas as pd\n",
    "import zipfile\n",
    "import csv\n",
    "\n",
    "zf = zipfile.ZipFile('test.zip') \n",
    "testfile1 = zf.open('test.csv')\n",
    "\n",
    "reader1 = csv.reader(testfile1)\n",
    "\n",
    "testfile2 = zf.open('test.csv')\n",
    "reader2 = csv.reader(testfile2)"
   ]
  },
  {
   "cell_type": "code",
   "execution_count": 63,
   "metadata": {
    "collapsed": false
   },
   "outputs": [
    {
     "name": "stdout",
     "output_type": "stream",
     "text": [
      "1    True\n",
      "2    True\n",
      "3    True\n",
      "Name: selection, dtype: bool\n",
      "['1', '2', '3', '1', '2', '3']\n",
      "['test', 'test', 'test', 'test', 'test', 'test']\n",
      "['test', 'test', 'test', 'test', 'test', 'test']\n",
      "['test', 'test', 'test', 'test', 'test', 'test']\n"
     ]
    }
   ],
   "source": [
    "import pandas as pd\n",
    "\n",
    "col_info = pd.read_csv('test_column.csv',index_col = 0)\n",
    "\n",
    "print col_info.selection == True\n",
    "selection = [False] + list(col_info.selection == True)\n",
    "\n",
    "from itertools import compress\n",
    "\n",
    "myfile = open(\"results.csv\", 'wb')\n",
    "myfile_writer = csv.writer(myfile,quoting=csv.QUOTE_ALL)\n",
    "\n",
    "for line in reader1:\n",
    "    sumline = list(compress(line, selection)) + list(compress(next(reader2), selection))\n",
    "    print sumline\n",
    "    myfile_writer.writerow(sumline)"
   ]
  },
  {
   "cell_type": "markdown",
   "metadata": {},
   "source": [
    "# patent에 붙혀넣을 코드"
   ]
  },
  {
   "cell_type": "markdown",
   "metadata": {},
   "source": [
    "### open zipfile"
   ]
  },
  {
   "cell_type": "code",
   "execution_count": null,
   "metadata": {
    "collapsed": true
   },
   "outputs": [],
   "source": [
    "import pandas as pd\n",
    "import zipfile\n",
    "import csv\n",
    "\n",
    "zf_patent1 = zipfile.ZipFile('patent1.zip') \n",
    "csv_patent1 = zf.open('patent1.csv')\n",
    "csv_patent_reader1 = csv.reader(csv_patent1)\n",
    "\n",
    "zf_patent2 = zipfile.ZipFile('patent2.zip') \n",
    "csv_patent2 = zf.open('patent2.csv')\n",
    "csv_patent_reader2 = csv.reader(csv_patent2)\n",
    "\n",
    "zf_thomeson = zipfile.ZipFile('thomeson.zip') \n",
    "csv_thomeson = zf.open('thomeson.csv')\n",
    "csv_thomeson_reader = csv.reader(csv_thomeson)"
   ]
  },
  {
   "cell_type": "markdown",
   "metadata": {},
   "source": [
    "### open column information"
   ]
  },
  {
   "cell_type": "code",
   "execution_count": null,
   "metadata": {
    "collapsed": true
   },
   "outputs": [],
   "source": [
    "col_info_patent1 = pd.read_csv('patent1_column.csv',index_col = 0)\n",
    "selection_patent1 = [False] + list(col_info_patent1.selection == True)\n",
    "\n",
    "col_info_patent2 = pd.read_csv('patent2_column.csv',index_col = 0)\n",
    "selection_patent2 = list(col_info_patent2.selection == True)\n",
    "\n",
    "col_info_thomeson = pd.read_csv('thomeson_column.csv',index_col = 0)\n",
    "selection_thomeson = [False] + list(col_info_thomeson.selection == True) # false 위치 확인해 보기"
   ]
  },
  {
   "cell_type": "markdown",
   "metadata": {},
   "source": [
    "### merge selected columns into one csv file"
   ]
  },
  {
   "cell_type": "code",
   "execution_count": null,
   "metadata": {
    "collapsed": true
   },
   "outputs": [],
   "source": [
    "from itertools import compress\n",
    "\n",
    "myfile = open(\"patent_thomeson_selected_columns_extracted.csv\", 'wb')\n",
    "myfile_writer = csv.writer(myfile,quoting=csv.QUOTE_ALL)\n",
    "\n",
    "for line in csv_patent_reader1:\n",
    "    sumline = (list(compress(line, selection_patent1)) \n",
    "               + list(compress(next(csv_patent_reader2), selection_patent2)) \n",
    "               + list(compress(next(csv_thomeson_reader), selection_thomeson)))\n",
    "\n",
    "    myfile_writer.writerow(sumline)\n",
    "    #print sumline\n",
    "    \n",
    "myfile.close()"
   ]
  }
 ],
 "metadata": {
  "anaconda-cloud": {},
  "kernelspec": {
   "display_name": "Python 2",
   "language": "python",
   "name": "python2"
  },
  "language_info": {
   "codemirror_mode": {
    "name": "ipython",
    "version": 2
   },
   "file_extension": ".py",
   "mimetype": "text/x-python",
   "name": "python",
   "nbconvert_exporter": "python",
   "pygments_lexer": "ipython2",
   "version": "2.7.13"
  }
 },
 "nbformat": 4,
 "nbformat_minor": 0
}
