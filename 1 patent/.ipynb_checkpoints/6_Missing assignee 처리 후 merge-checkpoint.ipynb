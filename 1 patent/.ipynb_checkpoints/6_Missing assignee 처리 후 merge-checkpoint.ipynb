{
 "cells": [
  {
   "cell_type": "markdown",
   "metadata": {},
   "source": [
    "# Missing Assignee 처리"
   ]
  },
  {
   "cell_type": "markdown",
   "metadata": {},
   "source": [
    "### missing에게 assignee 붙이기"
   ]
  },
  {
   "cell_type": "code",
   "execution_count": 5,
   "metadata": {
    "collapsed": true
   },
   "outputs": [],
   "source": [
    "#basic settings\n",
    "import pandas as pd\n",
    "import zipfile\n",
    "import csv\n",
    "import os\n",
    "\n",
    "os.chdir(\"E:/patent\")\n",
    "\n",
    "csv_patent1 = open('harvard_vehicle_patent1.csv')\n",
    "csv_patent_reader1 = csv.reader(csv_patent1)\n",
    "header=csv_patent_reader1.next()\n",
    "\n",
    "zf_patent2 = zipfile.ZipFile('harvard_vehicle_patent2.zip') \n",
    "csv_patent2 = zf_patent2.open('harvard_vehicle_patent2.csv')\n",
    "csv_patent_reader2 = csv.reader(csv_patent2)\n",
    "header=csv_patent_reader2.next()"
   ]
  },
  {
   "cell_type": "code",
   "execution_count": 6,
   "metadata": {
    "collapsed": true
   },
   "outputs": [],
   "source": [
    "#select the assignee col\n",
    "assignee_col = []\n",
    "for i in range(0,len(header)):\n",
    "    if 'organization' in header[i]:   \n",
    "        assignee_col.append(i)\n",
    "        \n",
    "del assignee_col[-3:]    #delete lawyer org"
   ]
  },
  {
   "cell_type": "code",
   "execution_count": 7,
   "metadata": {},
   "outputs": [],
   "source": [
    "#missing id\n",
    "miss = pd.read_csv('missing_assignee.csv')\n",
    "miss = miss['patent_id'].tolist()"
   ]
  },
  {
   "cell_type": "code",
   "execution_count": 13,
   "metadata": {
    "collapsed": true
   },
   "outputs": [],
   "source": [
    "#return assignees\n",
    "assignee = []\n",
    "p_id = []\n",
    "\n",
    "for line in csv_patent_reader1:\n",
    "    if line[1]==miss[0]:\n",
    "        for i in assignee_col:\n",
    "            if line[i]=='':\n",
    "                break\n",
    "\n",
    "            elif line[i]=='nan':\n",
    "                assignee.append('private')\n",
    "                p_id.append(line[1])\n",
    "\n",
    "            else:\n",
    "                assignee.append(line[i])\n",
    "                p_id.append(line[1])\n",
    "        del miss[0]\n",
    "\n",
    "            \n",
    "for line in csv_patent_reader2:\n",
    "    if line[1]==miss[0]:\n",
    "        for i in assignee_col:\n",
    "            if line[i]=='':\n",
    "                break\n",
    "\n",
    "            elif line[i]=='nan':\n",
    "                assignee.append('private')\n",
    "                p_id.append(line[1])\n",
    "\n",
    "            else:\n",
    "                assignee.append(line[i])\n",
    "                p_id.append(line[1])\n",
    "        del miss[0]\n",
    "        if len(miss)==0:\n",
    "            break\n",
    "            \n",
    "df = pd.DataFrame({'patent_id':p_id,'assignee':assignee})"
   ]
  },
  {
   "cell_type": "code",
   "execution_count": 15,
   "metadata": {
    "collapsed": true
   },
   "outputs": [],
   "source": [
    "df = df.drop_duplicates()\n",
    "df.to_csv('missing_pid_assignee.csv',index=False)"
   ]
  },
  {
   "cell_type": "code",
   "execution_count": 29,
   "metadata": {},
   "outputs": [
    {
     "name": "stdout",
     "output_type": "stream",
     "text": [
      "407966 469239\n"
     ]
    }
   ],
   "source": [
    "print len(df), len(miss)"
   ]
  },
  {
   "cell_type": "code",
   "execution_count": 34,
   "metadata": {
    "scrolled": true
   },
   "outputs": [
    {
     "name": "stdout",
     "output_type": "stream",
     "text": [
      "408311 408311\n"
     ]
    }
   ],
   "source": [
    "print len(assignee), len(p_id)"
   ]
  },
  {
   "cell_type": "code",
   "execution_count": 31,
   "metadata": {},
   "outputs": [
    {
     "data": {
      "text/plain": [
       "469239"
      ]
     },
     "execution_count": 31,
     "metadata": {},
     "output_type": "execute_result"
    }
   ],
   "source": [
    "miss = pd.read_csv('missing_assignee.csv')\n",
    "miss = miss.drop_duplicates()\n",
    "len(miss)"
   ]
  },
  {
   "cell_type": "markdown",
   "metadata": {},
   "source": [
    "### missing assignee 이름 처리하기"
   ]
  },
  {
   "cell_type": "code",
   "execution_count": 1,
   "metadata": {
    "collapsed": true
   },
   "outputs": [],
   "source": [
    "import pandas as pd\n",
    "import zipfile\n",
    "import csv\n",
    "import os\n",
    "\n",
    "os.chdir(\"E:/patent\")\n",
    "df = pd.read_csv('missing_pid_assignee.csv')"
   ]
  },
  {
   "cell_type": "code",
   "execution_count": 16,
   "metadata": {
    "collapsed": true
   },
   "outputs": [],
   "source": [
    "def nameprocessing(s):\n",
    "    s = str(s)\n",
    "    \n",
    "    s = s.replace(\".\",\"\")\n",
    "    s = s.replace(\",\",\"\")    \n",
    "    s = s.replace(\";\",\"\")\n",
    "    s = ''.join(s.split()).lower()\n",
    "    \n",
    "    s = s.replace(\"incorporated\",\"inc\")\n",
    "    s = s.replace(\"limited\",\"ltd\")\n",
    "    s = s.replace(\"gmbh\",\"\")\n",
    "    \n",
    "    rm=['inc','ltd','llc','pte']\n",
    "    for i in range(0,len(s)):\n",
    "        if s[-3:] in rm:\n",
    "            s=s[:-3]\n",
    "        else:\n",
    "            break\n",
    "\n",
    "    return s"
   ]
  },
  {
   "cell_type": "code",
   "execution_count": 18,
   "metadata": {
    "collapsed": true
   },
   "outputs": [],
   "source": [
    "df['new_assignee']=''\n",
    "for i in range(0,len(df.index)):\n",
    "    df.iloc[i,2]=nameprocessing(df.iloc[i,0])"
   ]
  },
  {
   "cell_type": "code",
   "execution_count": 31,
   "metadata": {},
   "outputs": [
    {
     "data": {
      "text/plain": [
       "['patent_id', 'new_assignee', 'assignee']"
      ]
     },
     "execution_count": 31,
     "metadata": {},
     "output_type": "execute_result"
    }
   ],
   "source": [
    "cols = df.columns.tolist()\n",
    "cols = cols[1:] + cols[:1]\n",
    "cols"
   ]
  },
  {
   "cell_type": "markdown",
   "metadata": {},
   "source": [
    "### 기존 csv에 missing csv 붙이기 (rbind)"
   ]
  },
  {
   "cell_type": "code",
   "execution_count": 35,
   "metadata": {
    "scrolled": true
   },
   "outputs": [
    {
     "name": "stderr",
     "output_type": "stream",
     "text": [
      "C:\\Users\\DW\\Anaconda2\\lib\\site-packages\\IPython\\core\\interactiveshell.py:2717: DtypeWarning: Columns (1) have mixed types. Specify dtype option on import or set low_memory=False.\n",
      "  interactivity=interactivity, compiler=compiler, result=result)\n"
     ]
    }
   ],
   "source": [
    "df2 = pd.read_csv('veh_pid_assignee.csv')\n",
    "del df2['row']"
   ]
  },
  {
   "cell_type": "code",
   "execution_count": 34,
   "metadata": {},
   "outputs": [
    {
     "data": {
      "text/plain": [
       "['patent_id', 'new_assignee', 'assignee']"
      ]
     },
     "execution_count": 34,
     "metadata": {},
     "output_type": "execute_result"
    }
   ],
   "source": [
    "cols"
   ]
  },
  {
   "cell_type": "code",
   "execution_count": 37,
   "metadata": {},
   "outputs": [
    {
     "data": {
      "text/plain": [
       "['patent_id', 'new_assignee', 'assignee']"
      ]
     },
     "execution_count": 37,
     "metadata": {},
     "output_type": "execute_result"
    }
   ],
   "source": [
    "df2 = df2[cols]\n",
    "df2.columns.tolist()"
   ]
  },
  {
   "cell_type": "code",
   "execution_count": 38,
   "metadata": {
    "collapsed": true
   },
   "outputs": [],
   "source": [
    "df = df.append(df2, ignore_index=True)\n",
    "df.sort_values(by=['patent_id'], inplace=True)"
   ]
  },
  {
   "cell_type": "code",
   "execution_count": 40,
   "metadata": {
    "collapsed": true
   },
   "outputs": [],
   "source": [
    "df.to_csv('pid_assignee.csv',index=False)"
   ]
  },
  {
   "cell_type": "markdown",
   "metadata": {},
   "source": [
    "### date deg와 merge"
   ]
  },
  {
   "cell_type": "code",
   "execution_count": 1,
   "metadata": {},
   "outputs": [
    {
     "name": "stderr",
     "output_type": "stream",
     "text": [
      "C:\\Users\\DW\\Anaconda2\\lib\\site-packages\\IPython\\core\\interactiveshell.py:2717: DtypeWarning: Columns (0) have mixed types. Specify dtype option on import or set low_memory=False.\n",
      "  interactivity=interactivity, compiler=compiler, result=result)\n"
     ]
    }
   ],
   "source": [
    "import pandas as pd\n",
    "import zipfile\n",
    "import csv\n",
    "import os\n",
    "\n",
    "os.chdir(\"E:/patent\")\n",
    "df = pd.read_csv('pid_assignee_2.csv')\n",
    "dd = pd.read_csv('patents/veh_pid_date_deg.csv')"
   ]
  },
  {
   "cell_type": "code",
   "execution_count": 2,
   "metadata": {},
   "outputs": [
    {
     "name": "stdout",
     "output_type": "stream",
     "text": [
      "1802037 1485282\n"
     ]
    }
   ],
   "source": [
    "a = len(df)\n",
    "df = df.drop_duplicates()\n",
    "print a, len(df)"
   ]
  },
  {
   "cell_type": "code",
   "execution_count": 3,
   "metadata": {},
   "outputs": [
    {
     "data": {
      "text/plain": [
       "1485282"
      ]
     },
     "execution_count": 3,
     "metadata": {},
     "output_type": "execute_result"
    }
   ],
   "source": [
    "pat = df.merge(dd,how='left',on='patent_id')\n",
    "len(pat)"
   ]
  },
  {
   "cell_type": "code",
   "execution_count": 4,
   "metadata": {},
   "outputs": [
    {
     "data": {
      "text/html": [
       "<div>\n",
       "<table border=\"1\" class=\"dataframe\">\n",
       "  <thead>\n",
       "    <tr style=\"text-align: right;\">\n",
       "      <th></th>\n",
       "      <th>patent_id</th>\n",
       "      <th>new_assignee</th>\n",
       "      <th>assignee</th>\n",
       "      <th>date</th>\n",
       "      <th>year</th>\n",
       "      <th>forward</th>\n",
       "      <th>backward</th>\n",
       "    </tr>\n",
       "  </thead>\n",
       "  <tbody>\n",
       "    <tr>\n",
       "      <th>0</th>\n",
       "      <td>3858256</td>\n",
       "      <td>private</td>\n",
       "      <td>private</td>\n",
       "      <td>1972-11-01</td>\n",
       "      <td>1972.0</td>\n",
       "      <td>3.0</td>\n",
       "      <td>4.0</td>\n",
       "    </tr>\n",
       "    <tr>\n",
       "      <th>1</th>\n",
       "      <td>3858266</td>\n",
       "      <td>winzelerstampingcompany</td>\n",
       "      <td>WINZELER STAMPING COMPANY</td>\n",
       "      <td>1973-03-19</td>\n",
       "      <td>1973.0</td>\n",
       "      <td>2.0</td>\n",
       "      <td>6.0</td>\n",
       "    </tr>\n",
       "    <tr>\n",
       "      <th>2</th>\n",
       "      <td>3858267</td>\n",
       "      <td>private</td>\n",
       "      <td>private</td>\n",
       "      <td>1973-12-21</td>\n",
       "      <td>1973.0</td>\n",
       "      <td>14.0</td>\n",
       "      <td>3.0</td>\n",
       "    </tr>\n",
       "    <tr>\n",
       "      <th>3</th>\n",
       "      <td>3858280</td>\n",
       "      <td>idengineering</td>\n",
       "      <td>I. D. ENGINEERING, INC.</td>\n",
       "      <td>1972-11-17</td>\n",
       "      <td>1972.0</td>\n",
       "      <td>34.0</td>\n",
       "      <td>7.0</td>\n",
       "    </tr>\n",
       "    <tr>\n",
       "      <th>4</th>\n",
       "      <td>3858287</td>\n",
       "      <td>private</td>\n",
       "      <td>private</td>\n",
       "      <td>1973-03-06</td>\n",
       "      <td>1973.0</td>\n",
       "      <td>5.0</td>\n",
       "      <td>7.0</td>\n",
       "    </tr>\n",
       "    <tr>\n",
       "      <th>5</th>\n",
       "      <td>3858289</td>\n",
       "      <td>crosscompany</td>\n",
       "      <td>CROSS COMPANY</td>\n",
       "      <td>1973-11-12</td>\n",
       "      <td>1973.0</td>\n",
       "      <td>2.0</td>\n",
       "      <td>6.0</td>\n",
       "    </tr>\n",
       "    <tr>\n",
       "      <th>6</th>\n",
       "      <td>3858307</td>\n",
       "      <td>matsushitaelectricindustrialco</td>\n",
       "      <td>MATSUSHITA ELECTRIC INDUSTRIAL CO., LTD.</td>\n",
       "      <td>1973-03-05</td>\n",
       "      <td>1973.0</td>\n",
       "      <td>7.0</td>\n",
       "      <td>1.0</td>\n",
       "    </tr>\n",
       "    <tr>\n",
       "      <th>7</th>\n",
       "      <td>3858308</td>\n",
       "      <td>bendixcorporation(nowallied-signalinc)</td>\n",
       "      <td>BENDIX CORPORATION(NOW ALLIED-SIGNAL INC.)</td>\n",
       "      <td>1973-06-22</td>\n",
       "      <td>1973.0</td>\n",
       "      <td>24.0</td>\n",
       "      <td>4.0</td>\n",
       "    </tr>\n",
       "    <tr>\n",
       "      <th>8</th>\n",
       "      <td>3858309</td>\n",
       "      <td>jecoco</td>\n",
       "      <td>JECO CO., LTD.</td>\n",
       "      <td>1973-06-04</td>\n",
       "      <td>1973.0</td>\n",
       "      <td>0.0</td>\n",
       "      <td>4.0</td>\n",
       "    </tr>\n",
       "    <tr>\n",
       "      <th>9</th>\n",
       "      <td>3858320</td>\n",
       "      <td>private</td>\n",
       "      <td>private</td>\n",
       "      <td>1974-04-19</td>\n",
       "      <td>1974.0</td>\n",
       "      <td>9.0</td>\n",
       "      <td>4.0</td>\n",
       "    </tr>\n",
       "  </tbody>\n",
       "</table>\n",
       "</div>"
      ],
      "text/plain": [
       "  patent_id                            new_assignee  \\\n",
       "0   3858256                                 private   \n",
       "1   3858266                 winzelerstampingcompany   \n",
       "2   3858267                                 private   \n",
       "3   3858280                           idengineering   \n",
       "4   3858287                                 private   \n",
       "5   3858289                            crosscompany   \n",
       "6   3858307          matsushitaelectricindustrialco   \n",
       "7   3858308  bendixcorporation(nowallied-signalinc)   \n",
       "8   3858309                                  jecoco   \n",
       "9   3858320                                 private   \n",
       "\n",
       "                                     assignee        date    year  forward  \\\n",
       "0                                     private  1972-11-01  1972.0      3.0   \n",
       "1                   WINZELER STAMPING COMPANY  1973-03-19  1973.0      2.0   \n",
       "2                                     private  1973-12-21  1973.0     14.0   \n",
       "3                     I. D. ENGINEERING, INC.  1972-11-17  1972.0     34.0   \n",
       "4                                     private  1973-03-06  1973.0      5.0   \n",
       "5                               CROSS COMPANY  1973-11-12  1973.0      2.0   \n",
       "6    MATSUSHITA ELECTRIC INDUSTRIAL CO., LTD.  1973-03-05  1973.0      7.0   \n",
       "7  BENDIX CORPORATION(NOW ALLIED-SIGNAL INC.)  1973-06-22  1973.0     24.0   \n",
       "8                              JECO CO., LTD.  1973-06-04  1973.0      0.0   \n",
       "9                                     private  1974-04-19  1974.0      9.0   \n",
       "\n",
       "   backward  \n",
       "0       4.0  \n",
       "1       6.0  \n",
       "2       3.0  \n",
       "3       7.0  \n",
       "4       7.0  \n",
       "5       6.0  \n",
       "6       1.0  \n",
       "7       4.0  \n",
       "8       4.0  \n",
       "9       4.0  "
      ]
     },
     "execution_count": 4,
     "metadata": {},
     "output_type": "execute_result"
    }
   ],
   "source": [
    "pat.iloc[0:10,]"
   ]
  },
  {
   "cell_type": "code",
   "execution_count": 5,
   "metadata": {
    "collapsed": true
   },
   "outputs": [],
   "source": [
    "pat.to_csv('pid_assignee_date_deg.csv',index=False)"
   ]
  },
  {
   "cell_type": "code",
   "execution_count": 6,
   "metadata": {},
   "outputs": [
    {
     "data": {
      "text/plain": [
       "patent_id            0\n",
       "new_assignee         0\n",
       "assignee             0\n",
       "date            151399\n",
       "year            151399\n",
       "forward         157269\n",
       "backward        157269\n",
       "dtype: int64"
      ]
     },
     "execution_count": 6,
     "metadata": {},
     "output_type": "execute_result"
    }
   ],
   "source": [
    "pat.isnull().sum()"
   ]
  },
  {
   "cell_type": "code",
   "execution_count": 7,
   "metadata": {},
   "outputs": [
    {
     "data": {
      "text/plain": [
       "173754"
      ]
     },
     "execution_count": 7,
     "metadata": {},
     "output_type": "execute_result"
    }
   ],
   "source": [
    "sum(pat.isnull().any(axis=1))"
   ]
  },
  {
   "cell_type": "markdown",
   "metadata": {},
   "source": [
    "전체 : 1485282  \n",
    "missing : 173754  \n",
    "__=> 11.7% missing__"
   ]
  }
 ],
 "metadata": {
  "anaconda-cloud": {},
  "kernelspec": {
   "display_name": "Python 2",
   "language": "python",
   "name": "python2"
  },
  "language_info": {
   "codemirror_mode": {
    "name": "ipython",
    "version": 2
   },
   "file_extension": ".py",
   "mimetype": "text/x-python",
   "name": "python",
   "nbconvert_exporter": "python",
   "pygments_lexer": "ipython2",
   "version": "2.7.13"
  }
 },
 "nbformat": 4,
 "nbformat_minor": 1
}
