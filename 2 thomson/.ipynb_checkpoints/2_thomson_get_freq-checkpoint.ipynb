{
 "cells": [
  {
   "cell_type": "markdown",
   "metadata": {},
   "source": [
    "# Firm 별 투자 Freq 계산"
   ]
  },
  {
   "cell_type": "markdown",
   "metadata": {},
   "source": [
    "## 1. vehicle patent에 해당하는 row 찾기  -> 이제 보니 쓸모없음 \n",
    "우리 scope대로 vehicle 관련 company에 투자한 정보만 찾아야지"
   ]
  },
  {
   "cell_type": "code",
   "execution_count": null,
   "metadata": {},
   "outputs": [],
   "source": [
    "import pandas as pd\n",
    "import zipfile\n",
    "import csv\n",
    "import os\n",
    "\n",
    "os.chdir(\"E:/patent\")\n",
    "zf_patent1 = zipfile.ZipFile('all_patent/harvard_dataset_final_merged_output_1.zip') \n",
    "csv_patent1 = zf_patent1.open('harvard_dataset_final_merged_output_1.csv')\n",
    "csv_patent_reader1 = csv.reader(csv_patent1)\n",
    "\n",
    "zf_patent2 = zipfile.ZipFile('all_patent/harvard_dataset_final_merged_output_2.zip')\n",
    "csv_patent2 = zf_patent2.open('harvard_dataset_final_merged_output_2.csv')\n",
    "csv_patent_reader2 = csv.reader(csv_patent2)\n",
    "\n",
    "header = csv_patent_reader1.next()\n",
    "csv_patent_reader2.next()\n",
    "mainclass_col = []\n",
    "for j in range(62457,63354):\n",
    "    if 'mainclass' in header[j]:   \n",
    "        mainclass_col.append(j)"
   ]
  },
  {
   "cell_type": "code",
   "execution_count": null,
   "metadata": {
    "collapsed": true
   },
   "outputs": [],
   "source": [
    "classinfo = pd.read_csv('veh_class.csv')\n",
    "veh_class = classinfo['class'].tolist()\n",
    "veh_class = map(int,veh_class)"
   ]
  },
  {
   "cell_type": "code",
   "execution_count": null,
   "metadata": {
    "collapsed": true
   },
   "outputs": [],
   "source": [
    "n = 0\n",
    "row = []\n",
    "for line in csv_patent_reader1:\n",
    "    for i in mainclass_col:\n",
    "        if line[i]=='':\n",
    "                break\n",
    "                \n",
    "        else:\n",
    "            try:            \n",
    "                if int(line[i]) in veh_class:\n",
    "                    row.append(n)\n",
    "                    break\n",
    "                \n",
    "            except ValueError:\n",
    "                pass    \n",
    "    n = n+1\n",
    "    \n",
    "for line in csv_patent_reader2:\n",
    "    for i in mainclass_col:\n",
    "        if line[i]=='':\n",
    "                break\n",
    "                \n",
    "        else:\n",
    "            try:            \n",
    "                if int(line[i]) in veh_class:\n",
    "                    row.append(n)\n",
    "                    break\n",
    "                \n",
    "            except ValueError:\n",
    "                pass    \n",
    "    n = n+1"
   ]
  },
  {
   "cell_type": "code",
   "execution_count": null,
   "metadata": {
    "collapsed": true
   },
   "outputs": [],
   "source": [
    "rows=zip(row)\n",
    "with open('veh_row.csv', 'wb') as f:\n",
    "    writer = csv.writer(f)\n",
    "    for val in rows:\n",
    "        writer.writerow(val)"
   ]
  },
  {
   "cell_type": "code",
   "execution_count": null,
   "metadata": {},
   "outputs": [],
   "source": [
    "len(row)"
   ]
  },
  {
   "cell_type": "markdown",
   "metadata": {},
   "source": [
    "# 2. row에 맞는 투자 정보 추출"
   ]
  },
  {
   "cell_type": "code",
   "execution_count": null,
   "metadata": {},
   "outputs": [],
   "source": [
    "#basic settings\n",
    "import pandas as pd\n",
    "import zipfile\n",
    "import csv\n",
    "import os\n",
    "\n",
    "os.chdir(\"E:/patent\")\n",
    "\n",
    "zf_patent1 = zipfile.ZipFile('all_patent/thomson_harvard_matched.zip') \n",
    "csv_patent1 = zf_patent1.open('thomson_harvard_matched.csv')\n",
    "csv_patent_reader1 = csv.reader(csv_patent1)\n",
    "header = csv_patent_reader1.next()"
   ]
  },
  {
   "cell_type": "code",
   "execution_count": null,
   "metadata": {
    "collapsed": true
   },
   "outputs": [],
   "source": [
    "firm_col = []\n",
    "for i in range(0,len(header)):\n",
    "    if 'Firm Name' in header[i]:   \n",
    "        firm_col.append(i)"
   ]
  },
  {
   "cell_type": "code",
   "execution_count": null,
   "metadata": {},
   "outputs": [],
   "source": [
    "row = pd.read_csv('veh_pid_assignee.csv')\n",
    "veh_row = row.iloc[:,2].tolist()\n",
    "veh_row = map(int,veh_row)\n",
    "veh_row = sorted(list(set(veh_row)))"
   ]
  },
  {
   "cell_type": "code",
   "execution_count": null,
   "metadata": {
    "scrolled": true
   },
   "outputs": [],
   "source": [
    "firm = []\n",
    "assignee = []\n",
    "amt = []\n",
    "date = []\n",
    "n=0\n",
    "\n",
    "for line in csv_patent_reader1:\n",
    "    if n == veh_row[0]:        \n",
    "        for i in firm_col:\n",
    "            if line[i]=='':\n",
    "                break\n",
    "\n",
    "            else:\n",
    "                firm.append(line[i])\n",
    "                assignee.append(line[i-24])\n",
    "                amt.append(line[i+15])\n",
    "                date.append(line[i+33])\n",
    "        del veh_row[0]\n",
    "        if len(veh_row) == 0:\n",
    "            break\n",
    "        else:\n",
    "            n=n+1\n",
    "    else:\n",
    "        n=n+1\n",
    "        \n",
    "df = pd.DataFrame({'firm':firm,'assignee':assignee,'amount':amt,'date':date})\n",
    "df = df.drop_duplicates()"
   ]
  },
  {
   "cell_type": "markdown",
   "metadata": {},
   "source": [
    "amount의 missing value, 변수 type 처리 필요  \n",
    "('-' -> NaN 처리, str -> float 처리)  "
   ]
  },
  {
   "cell_type": "code",
   "execution_count": 19,
   "metadata": {},
   "outputs": [
    {
     "ename": "ValueError",
     "evalue": "could not convert string to float: ",
     "output_type": "error",
     "traceback": [
      "\u001b[0;31m---------------------------------------------------------------------------\u001b[0m",
      "\u001b[0;31mValueError\u001b[0m                                Traceback (most recent call last)",
      "\u001b[0;32m<ipython-input-19-1a9b431f4b3b>\u001b[0m in \u001b[0;36m<module>\u001b[0;34m()\u001b[0m\n\u001b[1;32m      5\u001b[0m         \u001b[0mdf\u001b[0m\u001b[1;33m.\u001b[0m\u001b[0miloc\u001b[0m\u001b[1;33m[\u001b[0m\u001b[0mi\u001b[0m\u001b[1;33m,\u001b[0m\u001b[1;36m0\u001b[0m\u001b[1;33m]\u001b[0m \u001b[1;33m=\u001b[0m \u001b[0mnp\u001b[0m\u001b[1;33m.\u001b[0m\u001b[0mnan\u001b[0m\u001b[1;33m\u001b[0m\u001b[0m\n\u001b[1;32m      6\u001b[0m     \u001b[1;32melse\u001b[0m\u001b[1;33m:\u001b[0m\u001b[1;33m\u001b[0m\u001b[0m\n\u001b[0;32m----> 7\u001b[0;31m         \u001b[0mdf\u001b[0m\u001b[1;33m.\u001b[0m\u001b[0miloc\u001b[0m\u001b[1;33m[\u001b[0m\u001b[0mi\u001b[0m\u001b[1;33m,\u001b[0m\u001b[1;36m0\u001b[0m\u001b[1;33m]\u001b[0m \u001b[1;33m=\u001b[0m \u001b[0mfloat\u001b[0m\u001b[1;33m(\u001b[0m\u001b[0mdf\u001b[0m\u001b[1;33m.\u001b[0m\u001b[0miloc\u001b[0m\u001b[1;33m[\u001b[0m\u001b[0mi\u001b[0m\u001b[1;33m,\u001b[0m\u001b[1;36m0\u001b[0m\u001b[1;33m]\u001b[0m\u001b[1;33m)\u001b[0m\u001b[1;33m\u001b[0m\u001b[0m\n\u001b[0m",
      "\u001b[0;31mValueError\u001b[0m: could not convert string to float: "
     ]
    }
   ],
   "source": [
    "import numpy as np\n",
    "\n",
    "for i in range(0,len(df.index)):\n",
    "    if df.iloc[i,0] == '-':\n",
    "        df.iloc[i,0] = np.nan\n",
    "    else:\n",
    "        df.iloc[i,0] = float(df.iloc[i,0])"
   ]
  },
  {
   "cell_type": "code",
   "execution_count": 26,
   "metadata": {},
   "outputs": [],
   "source": [
    "for i in range(74000,len(df.index)):\n",
    "    if df.iloc[i,0] == '-' or df.iloc[i,0] == '':\n",
    "        df.iloc[i,0] = np.nan\n",
    "    else:\n",
    "        df.iloc[i,0] = float(df.iloc[i,0])"
   ]
  },
  {
   "cell_type": "code",
   "execution_count": 28,
   "metadata": {},
   "outputs": [],
   "source": [
    "df.to_csv('veh_firm_assignee_amt_date.csv',index=False)"
   ]
  },
  {
   "cell_type": "code",
   "execution_count": 29,
   "metadata": {
    "scrolled": true
   },
   "outputs": [],
   "source": [
    "amt_col=df.groupby('firm')['amount'].sum()\n",
    "cnt_col=df.groupby('firm').size()\n",
    "freq=pd.concat([amt_col, cnt_col], axis=1).reset_index()\n",
    "freq.columns = ['firm', 'amount','count']\n",
    "freq.to_csv('veh_investment_firm_freq.csv',index=False)"
   ]
  },
  {
   "cell_type": "markdown",
   "metadata": {},
   "source": [
    "### 그냥 veh_invest 정보 다 담은 csv 만들기"
   ]
  },
  {
   "cell_type": "code",
   "execution_count": 1,
   "metadata": {
    "collapsed": true
   },
   "outputs": [],
   "source": [
    "#basic settings\n",
    "import pandas as pd\n",
    "import zipfile\n",
    "import csv\n",
    "import os\n",
    "\n",
    "os.chdir(\"E:/patent\")\n",
    "\n",
    "zf_patent1 = zipfile.ZipFile('all_patent/thomson_harvard_matched.zip') \n",
    "csv_patent1 = zf_patent1.open('thomson_harvard_matched.csv')\n",
    "csv_patent_reader1 = csv.reader(csv_patent1)\n",
    "header = csv_patent_reader1.next()"
   ]
  },
  {
   "cell_type": "code",
   "execution_count": 2,
   "metadata": {},
   "outputs": [
    {
     "name": "stderr",
     "output_type": "stream",
     "text": [
      "C:\\Users\\DW\\Anaconda2\\lib\\site-packages\\IPython\\core\\interactiveshell.py:2717: DtypeWarning: Columns (1) have mixed types. Specify dtype option on import or set low_memory=False.\n",
      "  interactivity=interactivity, compiler=compiler, result=result)\n"
     ]
    }
   ],
   "source": [
    "row = pd.read_csv('veh_pid_assignee.csv')\n",
    "veh_row = row.iloc[:,2].tolist()\n",
    "veh_row = map(int,veh_row)\n",
    "veh_row = sorted(list(set(veh_row)))"
   ]
  },
  {
   "cell_type": "code",
   "execution_count": 5,
   "metadata": {
    "scrolled": true
   },
   "outputs": [],
   "source": [
    "n=0\n",
    "\n",
    "with open('veh_investment.csv','wb') as myfile:\n",
    "    myfile_writer = csv.writer(myfile,quoting=csv.QUOTE_ALL)\n",
    "    myfile_writer.writerow(header)\n",
    "    for line in csv_patent_reader1:\n",
    "        if n == veh_row[0]:\n",
    "            if line[36]!='':\n",
    "                myfile_writer.writerow(line)\n",
    "                    \n",
    "            del veh_row[0]\n",
    "            if len(veh_row) == 0:\n",
    "                break\n",
    "            else:\n",
    "                n=n+1\n",
    "        else:\n",
    "            n=n+1 "
   ]
  },
  {
   "cell_type": "markdown",
   "metadata": {},
   "source": [
    "잠깐 interrupt 후 다시 시작  \n",
    "(n=308319: 0~308318번째 row까지는 확인 완료, 308319번째 row부터 ㄱㄱ"
   ]
  },
  {
   "cell_type": "code",
   "execution_count": 7,
   "metadata": {},
   "outputs": [],
   "source": [
    "for i in range(0,308319):\n",
    "    csv_patent_reader1.next()\n",
    "\n",
    "del veh_row[0:68832]\n",
    "n=308319\n",
    "\n",
    "with open('veh_investment.csv','ab') as myfile:\n",
    "    myfile_writer = csv.writer(myfile,quoting=csv.QUOTE_ALL)\n",
    "    myfile_writer.writerow(header)\n",
    "    for line in csv_patent_reader1:\n",
    "        if n == veh_row[0]:\n",
    "            if line[36]!='':\n",
    "                myfile_writer.writerow(line)\n",
    "                    \n",
    "            del veh_row[0]\n",
    "            if len(veh_row) == 0:\n",
    "                break\n",
    "            else:\n",
    "                n=n+1\n",
    "        else:\n",
    "            n=n+1 "
   ]
  }
 ],
 "metadata": {
  "anaconda-cloud": {},
  "kernelspec": {
   "display_name": "Python 2",
   "language": "python",
   "name": "python2"
  },
  "language_info": {
   "codemirror_mode": {
    "name": "ipython",
    "version": 2
   },
   "file_extension": ".py",
   "mimetype": "text/x-python",
   "name": "python",
   "nbconvert_exporter": "python",
   "pygments_lexer": "ipython2",
   "version": "2.7.13"
  }
 },
 "nbformat": 4,
 "nbformat_minor": 1
}
