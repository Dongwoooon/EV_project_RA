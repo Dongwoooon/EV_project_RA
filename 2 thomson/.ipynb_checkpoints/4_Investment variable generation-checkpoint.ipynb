{
 "cells": [
  {
   "cell_type": "markdown",
   "metadata": {},
   "source": [
    "# Invest info로 파생 변수 생성\n",
    "\n",
    "\n",
    "### company, year 기준으로 group by\n",
    "1. amount: sum\n",
    "2. investor type: dummy, count\n",
    "3. investment year: date -> year\n",
    "4. investor country : dummy, count\n",
    "5. investor state (US 한정) : dummy, count\n",
    "6. company(assignee) age (year):investment year - founded year\n",
    "7. company(assignee) country : dummy, count\n",
    "8. company state (US 한정) : dummy, count\n",
    "9. investor-company distance(US 한정) - __새로 추가__"
   ]
  },
  {
   "cell_type": "code",
   "execution_count": 8,
   "metadata": {
    "collapsed": false
   },
   "outputs": [],
   "source": [
    "import pandas as pd\n",
    "import os\n",
    "import numpy as np\n",
    "\n",
    "os.chdir(\"E:/patent\")\n",
    "\n",
    "df = pd.read_csv('veh_selected_deal_info_final.csv')"
   ]
  },
  {
   "cell_type": "markdown",
   "metadata": {},
   "source": [
    "## 1. Dummy들 만들기 \n",
    "1. investor type\n",
    "2. investor country\n",
    "3. investor state"
   ]
  },
  {
   "cell_type": "markdown",
   "metadata": {},
   "source": [
    "### 1.1 investor type\n",
    "1. 어떤 type이 있나?  \n",
    "2. 각 type별 투자 횟수\n",
    "  \n",
    "__구글 refine 쓰면 편할듯?__"
   ]
  },
  {
   "cell_type": "markdown",
   "metadata": {},
   "source": [
    "__Firm type__  \n",
    "\n",
    "Private Equity Firm 61283  \n",
    "Other 7498  \n",
    "Corporate PE/Venture 7286  \n",
    "Bank Affiliated 5238  \n",
    "Individuals 2511  \n",
    "Investment Management Firm 1370  \n",
    "Government Affiliated Program 853  \n",
    "Endowment, Foundation or Pension Fund 628  \n",
    "Private Equity Advisor or Fund of Funds 628  \n",
    "SBIC 421  \n",
    "Insurance Firm Affiliate 378  \n",
    "Angel Group 254  \n",
    "Incubator/Development Program 246  \n",
    "University Program 223  \n",
    "Service Provider 131  \n",
    "Non-Private Equity 59   \n",
    "  \n",
    "__Fund type__  \n",
    "Venture Capital 76823  \n",
    "Generalist Private Equity 5286  \n",
    "Buyout 5118  \n",
    "Fund of Funds 838  \n",
    "Mezzanine 612  \n",
    "Other Private Equity 249  \n",
    "Non-Private Equity 59  \n",
    "includeeditReal Estate 21  \n",
    "\n",
    "Private Equity & Venture Capital: 53227"
   ]
  },
  {
   "cell_type": "markdown",
   "metadata": {},
   "source": [
    "### 1.2 investor country  \n",
    "1. 어떤 나라가 있나?\n",
    "2. 나라별 투자 횟수"
   ]
  },
  {
   "cell_type": "markdown",
   "metadata": {},
   "source": [
    "United States 69193  \n",
    "Unknown 6697  \n",
    "Canada 3348  \n",
    "United Kingdom 2608  \n",
    "Germany 1058  \n",
    "Israel 765  \n",
    "Japan 538  \n",
    "France 537  \n",
    "South Korea 448  \n",
    "Switzerland 421  \n",
    "Taiwan 407  \n",
    "Sweden 394  \n",
    "Singapore 297  \n",
    "Australia 276  \n",
    "Netherlands 214  \n",
    "China 201  \n",
    "Denmark 195  \n",
    "Norway 190  \n",
    "Finland 177  \n",
    "Hong Kong 159  \n",
    "Belgium 146  \n",
    "Italy 96  \n",
    "Ireland 87  \n",
    "Luxembourg 71  \n",
    "India 69  \n",
    "Russia 61  \n",
    "Spain 51  \n",
    "Austria 41  \n",
    "Bahrain 27  \n",
    "Cayman Islands 27  \n",
    "Bermuda 23  \n",
    "Mauritius 19  \n",
    "Brazil 16  \n",
    "Utd. Arab Em.16  \n",
    "Malaysia 15  \n",
    "New Zealand 15  \n",
    "Philippines 10  \n",
    "Portugal 10   \n",
    "Czech Republic9\n",
    "Channel Islands8\n",
    "Saudi Arabia 7\n",
    "Argentina6\n",
    "Kuwait6\n",
    "Poland6\n",
    "South Africa6\n",
    "Greece5\n",
    "Iceland3\n",
    "Liechtenstein3\n",
    "Mexico3\n",
    "Bulgaria2\n",
    "Cyprus2\n",
    "Estonia2\n",
    "Br. Virgin I.1\n",
    "Colombia1\n",
    "Egypt1\n",
    "Georgia1\n",
    "Hungary1\n",
    "Indonesia1\n",
    "Latvia1\n",
    "Lebanon1\n",
    "Peru1\n",
    "Qatar1\n",
    "Thailand1\n",
    "Tunisia1\n",
    "Turkey1\n",
    "Uruguay1\n",
    "Vietnam1\n",
    "Zimbabwe1"
   ]
  },
  {
   "cell_type": "markdown",
   "metadata": {},
   "source": [
    "### 1.3 investor state  \n",
    "assignee, investor 모두 구글 refine으로 non-US = null 처리   \n",
    "Alaska, Mississippi, North Dakota = 0"
   ]
  },
  {
   "cell_type": "code",
   "execution_count": 5,
   "metadata": {
    "collapsed": false
   },
   "outputs": [
    {
     "data": {
      "text/html": [
       "<div>\n",
       "<table border=\"1\" class=\"dataframe\">\n",
       "  <thead>\n",
       "    <tr style=\"text-align: right;\">\n",
       "      <th></th>\n",
       "      <th>assignee</th>\n",
       "      <th>new_assignee</th>\n",
       "      <th>assignee_age_year</th>\n",
       "      <th>assignee_age_month</th>\n",
       "      <th>assignee_country</th>\n",
       "      <th>assignee_founded_year</th>\n",
       "      <th>assignee_state</th>\n",
       "      <th>invest_date</th>\n",
       "      <th>invest_year</th>\n",
       "      <th>deal_amount</th>\n",
       "      <th>firm</th>\n",
       "      <th>firm_country</th>\n",
       "      <th>firm_state</th>\n",
       "      <th>firm_type</th>\n",
       "      <th>fund_type</th>\n",
       "    </tr>\n",
       "  </thead>\n",
       "  <tbody>\n",
       "    <tr>\n",
       "      <th>0</th>\n",
       "      <td>@pos.com, Inc.</td>\n",
       "      <td>@poscom</td>\n",
       "      <td>12.0</td>\n",
       "      <td>144.0</td>\n",
       "      <td>United States</td>\n",
       "      <td>1983.0</td>\n",
       "      <td>California</td>\n",
       "      <td>1995-01-01</td>\n",
       "      <td>1995.0</td>\n",
       "      <td>NaN</td>\n",
       "      <td>Nazem &amp; Co</td>\n",
       "      <td>United States</td>\n",
       "      <td>New York</td>\n",
       "      <td>Private Equity Firm</td>\n",
       "      <td>Venture Capital</td>\n",
       "    </tr>\n",
       "    <tr>\n",
       "      <th>1</th>\n",
       "      <td>@pos.com, Inc.</td>\n",
       "      <td>@poscom</td>\n",
       "      <td>12.0</td>\n",
       "      <td>150.0</td>\n",
       "      <td>United States</td>\n",
       "      <td>1983.0</td>\n",
       "      <td>California</td>\n",
       "      <td>1995-05-09</td>\n",
       "      <td>1995.0</td>\n",
       "      <td>0.282</td>\n",
       "      <td>Nazem &amp; Co</td>\n",
       "      <td>United States</td>\n",
       "      <td>California</td>\n",
       "      <td>Private Equity Firm</td>\n",
       "      <td>Venture Capital</td>\n",
       "    </tr>\n",
       "    <tr>\n",
       "      <th>2</th>\n",
       "      <td>@pos.com, Inc.</td>\n",
       "      <td>@poscom</td>\n",
       "      <td>12.0</td>\n",
       "      <td>153.0</td>\n",
       "      <td>United States</td>\n",
       "      <td>1983.0</td>\n",
       "      <td>California</td>\n",
       "      <td>1995-07-01</td>\n",
       "      <td>1995.0</td>\n",
       "      <td>0.055</td>\n",
       "      <td>Nazem &amp; Co</td>\n",
       "      <td>United States</td>\n",
       "      <td>New York</td>\n",
       "      <td>Private Equity Firm</td>\n",
       "      <td>Venture Capital</td>\n",
       "    </tr>\n",
       "  </tbody>\n",
       "</table>\n",
       "</div>"
      ],
      "text/plain": [
       "         assignee new_assignee  assignee_age_year  assignee_age_month  \\\n",
       "0  @pos.com, Inc.      @poscom               12.0               144.0   \n",
       "1  @pos.com, Inc.      @poscom               12.0               150.0   \n",
       "2  @pos.com, Inc.      @poscom               12.0               153.0   \n",
       "\n",
       "  assignee_country  assignee_founded_year assignee_state invest_date  \\\n",
       "0    United States                 1983.0     California  1995-01-01   \n",
       "1    United States                 1983.0     California  1995-05-09   \n",
       "2    United States                 1983.0     California  1995-07-01   \n",
       "\n",
       "   invest_year  deal_amount        firm   firm_country  firm_state  \\\n",
       "0       1995.0          NaN  Nazem & Co  United States    New York   \n",
       "1       1995.0        0.282  Nazem & Co  United States  California   \n",
       "2       1995.0        0.055  Nazem & Co  United States    New York   \n",
       "\n",
       "             firm_type        fund_type  \n",
       "0  Private Equity Firm  Venture Capital  \n",
       "1  Private Equity Firm  Venture Capital  \n",
       "2  Private Equity Firm  Venture Capital  "
      ]
     },
     "execution_count": 5,
     "metadata": {},
     "output_type": "execute_result"
    }
   ],
   "source": [
    "df.iloc[0:3,]"
   ]
  },
  {
   "cell_type": "code",
   "execution_count": 9,
   "metadata": {
    "collapsed": false,
    "scrolled": true
   },
   "outputs": [
    {
     "data": {
      "text/plain": [
       "assignee                                             @pos.com, Inc.\n",
       "new_assignee                                                @poscom\n",
       "assignee_age_year                                                12\n",
       "assignee_age_month                                              150\n",
       "assignee_country                                      United States\n",
       "assignee_founded_year                                          1983\n",
       "assignee_state                                           California\n",
       "invest_date                                              1995-05-09\n",
       "invest_year                                                    1995\n",
       "deal_amount                                                   0.282\n",
       "firm                                                     Nazem & Co\n",
       "firm_country_Argentina                                            0\n",
       "firm_country_Australia                                            0\n",
       "firm_country_Austria                                              0\n",
       "firm_country_Bahrain                                              0\n",
       "firm_country_Belgium                                              0\n",
       "firm_country_Bermuda                                              0\n",
       "firm_country_Br. Virgin I.                                        0\n",
       "firm_country_Brazil                                               0\n",
       "firm_country_Bulgaria                                             0\n",
       "firm_country_Canada                                               0\n",
       "firm_country_Cayman Islands                                       0\n",
       "firm_country_Channel Islands                                      0\n",
       "firm_country_China                                                0\n",
       "firm_country_Colombia                                             0\n",
       "firm_country_Cyprus                                               0\n",
       "firm_country_Czech Republic                                       0\n",
       "firm_country_Denmark                                              0\n",
       "firm_country_Egypt                                                0\n",
       "firm_country_Estonia                                              0\n",
       "                                                          ...      \n",
       "firm_state_West Virginia                                          0\n",
       "firm_state_Wisconsin                                              0\n",
       "firm_state_Wyoming                                                0\n",
       "firm_state_nan                                                    0\n",
       "firm_type_Angel Group                                             0\n",
       "firm_type_Bank Affiliated                                         0\n",
       "firm_type_Corporate PE/Venture                                    0\n",
       "firm_type_Endowment, Foundation or Pension Fund                   0\n",
       "firm_type_Government Affiliated Program                           0\n",
       "firm_type_Incubator/Development Program                           0\n",
       "firm_type_Individuals                                             0\n",
       "firm_type_Insurance Firm Affiliate                                0\n",
       "firm_type_Investment Management Firm                              0\n",
       "firm_type_Non-Private Equity                                      0\n",
       "firm_type_Other                                                   0\n",
       "firm_type_Private Equity Advisor or Fund of Funds                 0\n",
       "firm_type_Private Equity Firm                                     1\n",
       "firm_type_SBIC                                                    0\n",
       "firm_type_Service Provider                                        0\n",
       "firm_type_University Program                                      0\n",
       "firm_type_nan                                                     0\n",
       "fund_type_Buyout                                                  0\n",
       "fund_type_Fund of Funds                                           0\n",
       "fund_type_Generalist Private Equity                               0\n",
       "fund_type_Mezzanine                                               0\n",
       "fund_type_Non-Private Equity                                      0\n",
       "fund_type_Other Private Equity                                    0\n",
       "fund_type_Real Estate                                             0\n",
       "fund_type_Venture Capital                                         1\n",
       "fund_type_nan                                                     0\n",
       "Name: 1, dtype: object"
      ]
     },
     "execution_count": 9,
     "metadata": {},
     "output_type": "execute_result"
    }
   ],
   "source": [
    "dummy = pd.get_dummies(df, dummy_na=True, columns=['firm_country','firm_state','firm_type','fund_type'])\n",
    "dummy.iloc[1,]"
   ]
  },
  {
   "cell_type": "code",
   "execution_count": 10,
   "metadata": {
    "collapsed": true
   },
   "outputs": [],
   "source": [
    "dummy.to_csv('veh_selected_deal_info_dummies.csv',index=False)"
   ]
  },
  {
   "cell_type": "markdown",
   "metadata": {},
   "source": [
    "## 2. 파생변수 만들기\n",
    "\n",
    "1. investment year: date -> year\n",
    "2. company(assignee) age (year):investment year - founded year\n",
    "3. investor-company distance"
   ]
  },
  {
   "cell_type": "markdown",
   "metadata": {},
   "source": [
    "### 2.1 investment year\n",
    "구글 refine으로 처리"
   ]
  },
  {
   "cell_type": "markdown",
   "metadata": {},
   "source": [
    "### 2.2 assignee age(year)"
   ]
  },
  {
   "cell_type": "code",
   "execution_count": 5,
   "metadata": {
    "collapsed": false
   },
   "outputs": [
    {
     "data": {
      "text/plain": [
       "['assignee',\n",
       " 'new_assignee',\n",
       " 'assignee_age_month',\n",
       " 'assignee_country',\n",
       " 'assignee_founded_year',\n",
       " 'assignee_state',\n",
       " 'invest_date',\n",
       " 'invest_year',\n",
       " 'deal_amount',\n",
       " 'firm',\n",
       " 'firm_country',\n",
       " 'firm_state',\n",
       " 'firm_type',\n",
       " 'fund_type']"
      ]
     },
     "execution_count": 5,
     "metadata": {},
     "output_type": "execute_result"
    }
   ],
   "source": [
    "list(df)"
   ]
  },
  {
   "cell_type": "code",
   "execution_count": 7,
   "metadata": {
    "collapsed": false,
    "scrolled": true
   },
   "outputs": [
    {
     "data": {
      "text/html": [
       "<div>\n",
       "<table border=\"1\" class=\"dataframe\">\n",
       "  <thead>\n",
       "    <tr style=\"text-align: right;\">\n",
       "      <th></th>\n",
       "      <th>assignee</th>\n",
       "      <th>new_assignee</th>\n",
       "      <th>assignee_age_month</th>\n",
       "      <th>assignee_country</th>\n",
       "      <th>assignee_founded_year</th>\n",
       "      <th>assignee_state</th>\n",
       "      <th>invest_date</th>\n",
       "      <th>invest_year</th>\n",
       "      <th>deal_amount</th>\n",
       "      <th>firm</th>\n",
       "      <th>firm_country</th>\n",
       "      <th>firm_state</th>\n",
       "      <th>firm_type</th>\n",
       "      <th>fund_type</th>\n",
       "      <th>assignee_age_year</th>\n",
       "    </tr>\n",
       "  </thead>\n",
       "  <tbody>\n",
       "    <tr>\n",
       "      <th>14</th>\n",
       "      <td>@Road, Inc.</td>\n",
       "      <td>@road</td>\n",
       "      <td>41.0</td>\n",
       "      <td>United States</td>\n",
       "      <td>1996.0</td>\n",
       "      <td>California</td>\n",
       "      <td>1999-06-11</td>\n",
       "      <td>1999.0</td>\n",
       "      <td>5.495</td>\n",
       "      <td>ADMIRAL CAPITAL ENTERPRISES</td>\n",
       "      <td>United States</td>\n",
       "      <td>Maryland</td>\n",
       "      <td>Bank Affiliated</td>\n",
       "      <td>Venture Capital</td>\n",
       "      <td>3.0</td>\n",
       "    </tr>\n",
       "    <tr>\n",
       "      <th>15</th>\n",
       "      <td>@Road, Inc.</td>\n",
       "      <td>@road</td>\n",
       "      <td>41.0</td>\n",
       "      <td>United States</td>\n",
       "      <td>1996.0</td>\n",
       "      <td>California</td>\n",
       "      <td>1999-06-11</td>\n",
       "      <td>1999.0</td>\n",
       "      <td>5.000</td>\n",
       "      <td>Galleon Group</td>\n",
       "      <td>United States</td>\n",
       "      <td>Pennsylvania</td>\n",
       "      <td>Private Equity Firm</td>\n",
       "      <td>Venture Capital</td>\n",
       "      <td>3.0</td>\n",
       "    </tr>\n",
       "    <tr>\n",
       "      <th>16</th>\n",
       "      <td>@Road, Inc.</td>\n",
       "      <td>@road</td>\n",
       "      <td>41.0</td>\n",
       "      <td>United States</td>\n",
       "      <td>1996.0</td>\n",
       "      <td>California</td>\n",
       "      <td>1999-06-11</td>\n",
       "      <td>1999.0</td>\n",
       "      <td>3.115</td>\n",
       "      <td>ABS Capital Partners, Inc.</td>\n",
       "      <td>United States</td>\n",
       "      <td>New York</td>\n",
       "      <td>Other</td>\n",
       "      <td>Venture Capital</td>\n",
       "      <td>3.0</td>\n",
       "    </tr>\n",
       "    <tr>\n",
       "      <th>17</th>\n",
       "      <td>@Road, Inc.</td>\n",
       "      <td>@road</td>\n",
       "      <td>41.0</td>\n",
       "      <td>United States</td>\n",
       "      <td>1996.0</td>\n",
       "      <td>California</td>\n",
       "      <td>1999-06-11</td>\n",
       "      <td>1999.0</td>\n",
       "      <td>4.795</td>\n",
       "      <td>Institutional Venture Partners</td>\n",
       "      <td>United States</td>\n",
       "      <td>California</td>\n",
       "      <td>Private Equity Firm</td>\n",
       "      <td>Venture Capital</td>\n",
       "      <td>3.0</td>\n",
       "    </tr>\n",
       "    <tr>\n",
       "      <th>18</th>\n",
       "      <td>@Road, Inc.</td>\n",
       "      <td>@road</td>\n",
       "      <td>41.0</td>\n",
       "      <td>United States</td>\n",
       "      <td>1996.0</td>\n",
       "      <td>California</td>\n",
       "      <td>1999-06-11</td>\n",
       "      <td>1999.0</td>\n",
       "      <td>4.795</td>\n",
       "      <td>U.S. Venture Partners</td>\n",
       "      <td>United States</td>\n",
       "      <td>California</td>\n",
       "      <td>Private Equity Firm</td>\n",
       "      <td>Venture Capital</td>\n",
       "      <td>3.0</td>\n",
       "    </tr>\n",
       "    <tr>\n",
       "      <th>19</th>\n",
       "      <td>@Road, Inc.</td>\n",
       "      <td>@road</td>\n",
       "      <td>48.0</td>\n",
       "      <td>United States</td>\n",
       "      <td>1996.0</td>\n",
       "      <td>California</td>\n",
       "      <td>2000-01-01</td>\n",
       "      <td>2000.0</td>\n",
       "      <td>2.000</td>\n",
       "      <td>Institutional Venture Partners</td>\n",
       "      <td>United States</td>\n",
       "      <td>Maryland</td>\n",
       "      <td>Private Equity Firm</td>\n",
       "      <td>Venture Capital</td>\n",
       "      <td>4.0</td>\n",
       "    </tr>\n",
       "    <tr>\n",
       "      <th>20</th>\n",
       "      <td>@Road, Inc.</td>\n",
       "      <td>@road</td>\n",
       "      <td>48.0</td>\n",
       "      <td>United States</td>\n",
       "      <td>1996.0</td>\n",
       "      <td>California</td>\n",
       "      <td>2000-01-01</td>\n",
       "      <td>2000.0</td>\n",
       "      <td>5.000</td>\n",
       "      <td>ABS Capital Partners, Inc.</td>\n",
       "      <td>United States</td>\n",
       "      <td>Pennsylvania</td>\n",
       "      <td>Other</td>\n",
       "      <td>Venture Capital</td>\n",
       "      <td>4.0</td>\n",
       "    </tr>\n",
       "    <tr>\n",
       "      <th>21</th>\n",
       "      <td>@Road, Inc.</td>\n",
       "      <td>@road</td>\n",
       "      <td>48.0</td>\n",
       "      <td>United States</td>\n",
       "      <td>1996.0</td>\n",
       "      <td>California</td>\n",
       "      <td>2000-01-01</td>\n",
       "      <td>2000.0</td>\n",
       "      <td>6.000</td>\n",
       "      <td>ADMIRAL CAPITAL ENTERPRISES</td>\n",
       "      <td>United States</td>\n",
       "      <td>California</td>\n",
       "      <td>Bank Affiliated</td>\n",
       "      <td>Venture Capital</td>\n",
       "      <td>4.0</td>\n",
       "    </tr>\n",
       "    <tr>\n",
       "      <th>22</th>\n",
       "      <td>@Road, Inc.</td>\n",
       "      <td>@road</td>\n",
       "      <td>48.0</td>\n",
       "      <td>United States</td>\n",
       "      <td>1996.0</td>\n",
       "      <td>California</td>\n",
       "      <td>2000-01-01</td>\n",
       "      <td>2000.0</td>\n",
       "      <td>6.000</td>\n",
       "      <td>Undisclosed Firm</td>\n",
       "      <td>United States</td>\n",
       "      <td>California</td>\n",
       "      <td>Other</td>\n",
       "      <td>Venture Capital</td>\n",
       "      <td>4.0</td>\n",
       "    </tr>\n",
       "  </tbody>\n",
       "</table>\n",
       "</div>"
      ],
      "text/plain": [
       "       assignee new_assignee  assignee_age_month assignee_country  \\\n",
       "14  @Road, Inc.        @road                41.0    United States   \n",
       "15  @Road, Inc.        @road                41.0    United States   \n",
       "16  @Road, Inc.        @road                41.0    United States   \n",
       "17  @Road, Inc.        @road                41.0    United States   \n",
       "18  @Road, Inc.        @road                41.0    United States   \n",
       "19  @Road, Inc.        @road                48.0    United States   \n",
       "20  @Road, Inc.        @road                48.0    United States   \n",
       "21  @Road, Inc.        @road                48.0    United States   \n",
       "22  @Road, Inc.        @road                48.0    United States   \n",
       "\n",
       "    assignee_founded_year assignee_state invest_date  invest_year  \\\n",
       "14                 1996.0     California  1999-06-11       1999.0   \n",
       "15                 1996.0     California  1999-06-11       1999.0   \n",
       "16                 1996.0     California  1999-06-11       1999.0   \n",
       "17                 1996.0     California  1999-06-11       1999.0   \n",
       "18                 1996.0     California  1999-06-11       1999.0   \n",
       "19                 1996.0     California  2000-01-01       2000.0   \n",
       "20                 1996.0     California  2000-01-01       2000.0   \n",
       "21                 1996.0     California  2000-01-01       2000.0   \n",
       "22                 1996.0     California  2000-01-01       2000.0   \n",
       "\n",
       "    deal_amount                            firm   firm_country    firm_state  \\\n",
       "14        5.495     ADMIRAL CAPITAL ENTERPRISES  United States      Maryland   \n",
       "15        5.000                   Galleon Group  United States  Pennsylvania   \n",
       "16        3.115      ABS Capital Partners, Inc.  United States      New York   \n",
       "17        4.795  Institutional Venture Partners  United States    California   \n",
       "18        4.795           U.S. Venture Partners  United States    California   \n",
       "19        2.000  Institutional Venture Partners  United States      Maryland   \n",
       "20        5.000      ABS Capital Partners, Inc.  United States  Pennsylvania   \n",
       "21        6.000     ADMIRAL CAPITAL ENTERPRISES  United States    California   \n",
       "22        6.000                Undisclosed Firm  United States    California   \n",
       "\n",
       "              firm_type        fund_type  assignee_age_year  \n",
       "14      Bank Affiliated  Venture Capital                3.0  \n",
       "15  Private Equity Firm  Venture Capital                3.0  \n",
       "16                Other  Venture Capital                3.0  \n",
       "17  Private Equity Firm  Venture Capital                3.0  \n",
       "18  Private Equity Firm  Venture Capital                3.0  \n",
       "19  Private Equity Firm  Venture Capital                4.0  \n",
       "20                Other  Venture Capital                4.0  \n",
       "21      Bank Affiliated  Venture Capital                4.0  \n",
       "22                Other  Venture Capital                4.0  "
      ]
     },
     "execution_count": 7,
     "metadata": {},
     "output_type": "execute_result"
    }
   ],
   "source": [
    "df['assignee_age_year']=df['invest_year']-df['assignee_founded_year']\n",
    "df.iloc[14:23,]"
   ]
  },
  {
   "cell_type": "code",
   "execution_count": 14,
   "metadata": {
    "collapsed": false
   },
   "outputs": [
    {
     "data": {
      "text/plain": [
       "['assignee',\n",
       " 'new_assignee',\n",
       " 'assignee_age_month',\n",
       " 'assignee_country',\n",
       " 'assignee_founded_year',\n",
       " 'assignee_state',\n",
       " 'invest_date',\n",
       " 'invest_year',\n",
       " 'deal_amount',\n",
       " 'firm',\n",
       " 'firm_country',\n",
       " 'firm_state',\n",
       " 'firm_type',\n",
       " 'fund_type',\n",
       " 'assignee_age_year']"
      ]
     },
     "execution_count": 14,
     "metadata": {},
     "output_type": "execute_result"
    }
   ],
   "source": [
    "cols=list(df)\n",
    "cols"
   ]
  },
  {
   "cell_type": "code",
   "execution_count": 24,
   "metadata": {
    "collapsed": false
   },
   "outputs": [
    {
     "data": {
      "text/html": [
       "<div>\n",
       "<table border=\"1\" class=\"dataframe\">\n",
       "  <thead>\n",
       "    <tr style=\"text-align: right;\">\n",
       "      <th></th>\n",
       "      <th>assignee</th>\n",
       "      <th>new_assignee</th>\n",
       "      <th>assignee_age_year</th>\n",
       "      <th>assignee_age_month</th>\n",
       "      <th>assignee_country</th>\n",
       "      <th>assignee_founded_year</th>\n",
       "      <th>assignee_state</th>\n",
       "      <th>invest_date</th>\n",
       "      <th>invest_year</th>\n",
       "      <th>deal_amount</th>\n",
       "      <th>firm</th>\n",
       "      <th>firm_country</th>\n",
       "      <th>firm_state</th>\n",
       "      <th>firm_type</th>\n",
       "      <th>fund_type</th>\n",
       "    </tr>\n",
       "  </thead>\n",
       "  <tbody>\n",
       "    <tr>\n",
       "      <th>0</th>\n",
       "      <td>@pos.com, Inc.</td>\n",
       "      <td>@poscom</td>\n",
       "      <td>12.0</td>\n",
       "      <td>144.0</td>\n",
       "      <td>United States</td>\n",
       "      <td>1983.0</td>\n",
       "      <td>California</td>\n",
       "      <td>1995-01-01</td>\n",
       "      <td>1995.0</td>\n",
       "      <td>NaN</td>\n",
       "      <td>Nazem &amp; Co</td>\n",
       "      <td>United States</td>\n",
       "      <td>New York</td>\n",
       "      <td>Private Equity Firm</td>\n",
       "      <td>Venture Capital</td>\n",
       "    </tr>\n",
       "    <tr>\n",
       "      <th>1</th>\n",
       "      <td>@pos.com, Inc.</td>\n",
       "      <td>@poscom</td>\n",
       "      <td>12.0</td>\n",
       "      <td>150.0</td>\n",
       "      <td>United States</td>\n",
       "      <td>1983.0</td>\n",
       "      <td>California</td>\n",
       "      <td>1995-05-09</td>\n",
       "      <td>1995.0</td>\n",
       "      <td>0.282</td>\n",
       "      <td>Nazem &amp; Co</td>\n",
       "      <td>United States</td>\n",
       "      <td>California</td>\n",
       "      <td>Private Equity Firm</td>\n",
       "      <td>Venture Capital</td>\n",
       "    </tr>\n",
       "    <tr>\n",
       "      <th>2</th>\n",
       "      <td>@pos.com, Inc.</td>\n",
       "      <td>@poscom</td>\n",
       "      <td>12.0</td>\n",
       "      <td>153.0</td>\n",
       "      <td>United States</td>\n",
       "      <td>1983.0</td>\n",
       "      <td>California</td>\n",
       "      <td>1995-07-01</td>\n",
       "      <td>1995.0</td>\n",
       "      <td>0.055</td>\n",
       "      <td>Nazem &amp; Co</td>\n",
       "      <td>United States</td>\n",
       "      <td>New York</td>\n",
       "      <td>Private Equity Firm</td>\n",
       "      <td>Venture Capital</td>\n",
       "    </tr>\n",
       "  </tbody>\n",
       "</table>\n",
       "</div>"
      ],
      "text/plain": [
       "         assignee new_assignee  assignee_age_year  assignee_age_month  \\\n",
       "0  @pos.com, Inc.      @poscom               12.0               144.0   \n",
       "1  @pos.com, Inc.      @poscom               12.0               150.0   \n",
       "2  @pos.com, Inc.      @poscom               12.0               153.0   \n",
       "\n",
       "  assignee_country  assignee_founded_year assignee_state invest_date  \\\n",
       "0    United States                 1983.0     California  1995-01-01   \n",
       "1    United States                 1983.0     California  1995-05-09   \n",
       "2    United States                 1983.0     California  1995-07-01   \n",
       "\n",
       "   invest_year  deal_amount        firm   firm_country  firm_state  \\\n",
       "0       1995.0          NaN  Nazem & Co  United States    New York   \n",
       "1       1995.0        0.282  Nazem & Co  United States  California   \n",
       "2       1995.0        0.055  Nazem & Co  United States    New York   \n",
       "\n",
       "             firm_type        fund_type  \n",
       "0  Private Equity Firm  Venture Capital  \n",
       "1  Private Equity Firm  Venture Capital  \n",
       "2  Private Equity Firm  Venture Capital  "
      ]
     },
     "execution_count": 24,
     "metadata": {},
     "output_type": "execute_result"
    }
   ],
   "source": [
    "newcols = cols[0:2]+cols[-1:]+cols[2:-1]\n",
    "df = df[newcols]\n",
    "df.iloc[0:3,]"
   ]
  },
  {
   "cell_type": "code",
   "execution_count": 26,
   "metadata": {
    "collapsed": false
   },
   "outputs": [],
   "source": [
    "df.to_csv('veh_selected_deal_info.csv',index=False)"
   ]
  },
  {
   "cell_type": "markdown",
   "metadata": {},
   "source": [
    "### 2.3 investor-company distance"
   ]
  },
  {
   "cell_type": "code",
   "execution_count": 4,
   "metadata": {
    "collapsed": true
   },
   "outputs": [],
   "source": [
    "import pandas as pd\n",
    "import os\n",
    "import geopy as gp\n",
    "import numpy as np\n",
    "\n",
    "os.chdir(\"E:/patent\")\n",
    "df = pd.read_csv('veh_selected_deal_info_final.csv')\n",
    "caps = pd.read_csv('US_state_capital.csv')"
   ]
  },
  {
   "cell_type": "code",
   "execution_count": 6,
   "metadata": {
    "collapsed": false
   },
   "outputs": [
    {
     "data": {
      "text/plain": [
       "(['assignee',\n",
       "  'new_assignee',\n",
       "  'assignee_age_year',\n",
       "  'assignee_age_month',\n",
       "  'assignee_country',\n",
       "  'assignee_founded_year',\n",
       "  'assignee_state',\n",
       "  'invest_date',\n",
       "  'invest_year',\n",
       "  'deal_amount',\n",
       "  'firm',\n",
       "  'firm_country',\n",
       "  'firm_state',\n",
       "  'firm_type',\n",
       "  'fund_type'],\n",
       " ['state', 'capital', 'latitude', 'longitude'])"
      ]
     },
     "execution_count": 6,
     "metadata": {},
     "output_type": "execute_result"
    }
   ],
   "source": [
    "list(df), list(caps)"
   ]
  },
  {
   "cell_type": "code",
   "execution_count": 7,
   "metadata": {
    "collapsed": true
   },
   "outputs": [],
   "source": [
    "ndf = pd.merge(df,caps,how='left',left_on='assignee_state', right_on='state', sort=False)"
   ]
  },
  {
   "cell_type": "code",
   "execution_count": 13,
   "metadata": {
    "collapsed": false
   },
   "outputs": [
    {
     "data": {
      "text/html": [
       "<div>\n",
       "<table border=\"1\" class=\"dataframe\">\n",
       "  <thead>\n",
       "    <tr style=\"text-align: right;\">\n",
       "      <th></th>\n",
       "      <th>assignee</th>\n",
       "      <th>new_assignee</th>\n",
       "      <th>assignee_age_year</th>\n",
       "      <th>assignee_age_month</th>\n",
       "      <th>assignee_country</th>\n",
       "      <th>assignee_founded_year</th>\n",
       "      <th>assignee_state</th>\n",
       "      <th>invest_date</th>\n",
       "      <th>invest_year</th>\n",
       "      <th>deal_amount</th>\n",
       "      <th>firm</th>\n",
       "      <th>firm_country</th>\n",
       "      <th>firm_state</th>\n",
       "      <th>firm_type</th>\n",
       "      <th>fund_type</th>\n",
       "      <th>state</th>\n",
       "      <th>capital</th>\n",
       "      <th>latitude</th>\n",
       "      <th>longitude</th>\n",
       "    </tr>\n",
       "  </thead>\n",
       "  <tbody>\n",
       "    <tr>\n",
       "      <th>0</th>\n",
       "      <td>@pos.com, Inc.</td>\n",
       "      <td>@poscom</td>\n",
       "      <td>12.0</td>\n",
       "      <td>144.0</td>\n",
       "      <td>United States</td>\n",
       "      <td>1983.0</td>\n",
       "      <td>California</td>\n",
       "      <td>1995-01-01</td>\n",
       "      <td>1995.0</td>\n",
       "      <td>NaN</td>\n",
       "      <td>Nazem &amp; Co</td>\n",
       "      <td>United States</td>\n",
       "      <td>New York</td>\n",
       "      <td>Private Equity Firm</td>\n",
       "      <td>Venture Capital</td>\n",
       "      <td>California</td>\n",
       "      <td>Sacramento</td>\n",
       "      <td>38.555605</td>\n",
       "      <td>-121.468926</td>\n",
       "    </tr>\n",
       "    <tr>\n",
       "      <th>1</th>\n",
       "      <td>@pos.com, Inc.</td>\n",
       "      <td>@poscom</td>\n",
       "      <td>12.0</td>\n",
       "      <td>150.0</td>\n",
       "      <td>United States</td>\n",
       "      <td>1983.0</td>\n",
       "      <td>California</td>\n",
       "      <td>1995-05-09</td>\n",
       "      <td>1995.0</td>\n",
       "      <td>0.282</td>\n",
       "      <td>Nazem &amp; Co</td>\n",
       "      <td>United States</td>\n",
       "      <td>California</td>\n",
       "      <td>Private Equity Firm</td>\n",
       "      <td>Venture Capital</td>\n",
       "      <td>California</td>\n",
       "      <td>Sacramento</td>\n",
       "      <td>38.555605</td>\n",
       "      <td>-121.468926</td>\n",
       "    </tr>\n",
       "    <tr>\n",
       "      <th>2</th>\n",
       "      <td>@pos.com, Inc.</td>\n",
       "      <td>@poscom</td>\n",
       "      <td>12.0</td>\n",
       "      <td>153.0</td>\n",
       "      <td>United States</td>\n",
       "      <td>1983.0</td>\n",
       "      <td>California</td>\n",
       "      <td>1995-07-01</td>\n",
       "      <td>1995.0</td>\n",
       "      <td>0.055</td>\n",
       "      <td>Nazem &amp; Co</td>\n",
       "      <td>United States</td>\n",
       "      <td>New York</td>\n",
       "      <td>Private Equity Firm</td>\n",
       "      <td>Venture Capital</td>\n",
       "      <td>California</td>\n",
       "      <td>Sacramento</td>\n",
       "      <td>38.555605</td>\n",
       "      <td>-121.468926</td>\n",
       "    </tr>\n",
       "    <tr>\n",
       "      <th>3</th>\n",
       "      <td>@pos.com, Inc.</td>\n",
       "      <td>@poscom</td>\n",
       "      <td>12.0</td>\n",
       "      <td>148.0</td>\n",
       "      <td>United States</td>\n",
       "      <td>1983.0</td>\n",
       "      <td>California</td>\n",
       "      <td>1995-10-01</td>\n",
       "      <td>1995.0</td>\n",
       "      <td>0.070</td>\n",
       "      <td>Kleiner Perkins Caufield &amp; Byers LLC</td>\n",
       "      <td>United States</td>\n",
       "      <td>New York</td>\n",
       "      <td>Private Equity Firm</td>\n",
       "      <td>Venture Capital</td>\n",
       "      <td>California</td>\n",
       "      <td>Sacramento</td>\n",
       "      <td>38.555605</td>\n",
       "      <td>-121.468926</td>\n",
       "    </tr>\n",
       "  </tbody>\n",
       "</table>\n",
       "</div>"
      ],
      "text/plain": [
       "         assignee new_assignee  assignee_age_year  assignee_age_month  \\\n",
       "0  @pos.com, Inc.      @poscom               12.0               144.0   \n",
       "1  @pos.com, Inc.      @poscom               12.0               150.0   \n",
       "2  @pos.com, Inc.      @poscom               12.0               153.0   \n",
       "3  @pos.com, Inc.      @poscom               12.0               148.0   \n",
       "\n",
       "  assignee_country  assignee_founded_year assignee_state invest_date  \\\n",
       "0    United States                 1983.0     California  1995-01-01   \n",
       "1    United States                 1983.0     California  1995-05-09   \n",
       "2    United States                 1983.0     California  1995-07-01   \n",
       "3    United States                 1983.0     California  1995-10-01   \n",
       "\n",
       "   invest_year  deal_amount                                  firm  \\\n",
       "0       1995.0          NaN                            Nazem & Co   \n",
       "1       1995.0        0.282                            Nazem & Co   \n",
       "2       1995.0        0.055                            Nazem & Co   \n",
       "3       1995.0        0.070  Kleiner Perkins Caufield & Byers LLC   \n",
       "\n",
       "    firm_country  firm_state            firm_type        fund_type  \\\n",
       "0  United States    New York  Private Equity Firm  Venture Capital   \n",
       "1  United States  California  Private Equity Firm  Venture Capital   \n",
       "2  United States    New York  Private Equity Firm  Venture Capital   \n",
       "3  United States    New York  Private Equity Firm  Venture Capital   \n",
       "\n",
       "        state     capital   latitude   longitude  \n",
       "0  California  Sacramento  38.555605 -121.468926  \n",
       "1  California  Sacramento  38.555605 -121.468926  \n",
       "2  California  Sacramento  38.555605 -121.468926  \n",
       "3  California  Sacramento  38.555605 -121.468926  "
      ]
     },
     "execution_count": 13,
     "metadata": {},
     "output_type": "execute_result"
    }
   ],
   "source": [
    "ndf.iloc[0:4,]"
   ]
  },
  {
   "cell_type": "code",
   "execution_count": 16,
   "metadata": {
    "collapsed": true
   },
   "outputs": [],
   "source": [
    "del ndf['state']"
   ]
  },
  {
   "cell_type": "code",
   "execution_count": 33,
   "metadata": {
    "collapsed": false
   },
   "outputs": [
    {
     "data": {
      "text/plain": [
       "['assingee_capital', 'assingee_latitude', 'assingee_longitude']"
      ]
     },
     "execution_count": 33,
     "metadata": {},
     "output_type": "execute_result"
    }
   ],
   "source": [
    "ndf.rename(columns={'capital':'assingee_capital','latitude':'assingee_latitude','longitude':'assingee_longitude'}, inplace=True)\n",
    "list(ndf)[-3:]"
   ]
  },
  {
   "cell_type": "code",
   "execution_count": 34,
   "metadata": {
    "collapsed": true
   },
   "outputs": [],
   "source": [
    "ndf2 = pd.merge(ndf,caps,how='left',left_on='firm_state', right_on='state', sort=False)"
   ]
  },
  {
   "cell_type": "code",
   "execution_count": 35,
   "metadata": {
    "collapsed": false
   },
   "outputs": [
    {
     "data": {
      "text/html": [
       "<div>\n",
       "<table border=\"1\" class=\"dataframe\">\n",
       "  <thead>\n",
       "    <tr style=\"text-align: right;\">\n",
       "      <th></th>\n",
       "      <th>assignee</th>\n",
       "      <th>new_assignee</th>\n",
       "      <th>assignee_age_year</th>\n",
       "      <th>assignee_age_month</th>\n",
       "      <th>assignee_country</th>\n",
       "      <th>assignee_founded_year</th>\n",
       "      <th>assignee_state</th>\n",
       "      <th>invest_date</th>\n",
       "      <th>invest_year</th>\n",
       "      <th>deal_amount</th>\n",
       "      <th>...</th>\n",
       "      <th>firm_state</th>\n",
       "      <th>firm_type</th>\n",
       "      <th>fund_type</th>\n",
       "      <th>assingee_capital</th>\n",
       "      <th>assingee_latitude</th>\n",
       "      <th>assingee_longitude</th>\n",
       "      <th>state</th>\n",
       "      <th>capital</th>\n",
       "      <th>latitude</th>\n",
       "      <th>longitude</th>\n",
       "    </tr>\n",
       "  </thead>\n",
       "  <tbody>\n",
       "    <tr>\n",
       "      <th>0</th>\n",
       "      <td>@pos.com, Inc.</td>\n",
       "      <td>@poscom</td>\n",
       "      <td>12.0</td>\n",
       "      <td>144.0</td>\n",
       "      <td>United States</td>\n",
       "      <td>1983.0</td>\n",
       "      <td>California</td>\n",
       "      <td>1995-01-01</td>\n",
       "      <td>1995.0</td>\n",
       "      <td>NaN</td>\n",
       "      <td>...</td>\n",
       "      <td>New York</td>\n",
       "      <td>Private Equity Firm</td>\n",
       "      <td>Venture Capital</td>\n",
       "      <td>Sacramento</td>\n",
       "      <td>38.555605</td>\n",
       "      <td>-121.468926</td>\n",
       "      <td>New York</td>\n",
       "      <td>Albany</td>\n",
       "      <td>42.659829</td>\n",
       "      <td>-73.781339</td>\n",
       "    </tr>\n",
       "    <tr>\n",
       "      <th>1</th>\n",
       "      <td>@pos.com, Inc.</td>\n",
       "      <td>@poscom</td>\n",
       "      <td>12.0</td>\n",
       "      <td>150.0</td>\n",
       "      <td>United States</td>\n",
       "      <td>1983.0</td>\n",
       "      <td>California</td>\n",
       "      <td>1995-05-09</td>\n",
       "      <td>1995.0</td>\n",
       "      <td>0.282</td>\n",
       "      <td>...</td>\n",
       "      <td>California</td>\n",
       "      <td>Private Equity Firm</td>\n",
       "      <td>Venture Capital</td>\n",
       "      <td>Sacramento</td>\n",
       "      <td>38.555605</td>\n",
       "      <td>-121.468926</td>\n",
       "      <td>California</td>\n",
       "      <td>Sacramento</td>\n",
       "      <td>38.555605</td>\n",
       "      <td>-121.468926</td>\n",
       "    </tr>\n",
       "    <tr>\n",
       "      <th>2</th>\n",
       "      <td>@pos.com, Inc.</td>\n",
       "      <td>@poscom</td>\n",
       "      <td>12.0</td>\n",
       "      <td>153.0</td>\n",
       "      <td>United States</td>\n",
       "      <td>1983.0</td>\n",
       "      <td>California</td>\n",
       "      <td>1995-07-01</td>\n",
       "      <td>1995.0</td>\n",
       "      <td>0.055</td>\n",
       "      <td>...</td>\n",
       "      <td>New York</td>\n",
       "      <td>Private Equity Firm</td>\n",
       "      <td>Venture Capital</td>\n",
       "      <td>Sacramento</td>\n",
       "      <td>38.555605</td>\n",
       "      <td>-121.468926</td>\n",
       "      <td>New York</td>\n",
       "      <td>Albany</td>\n",
       "      <td>42.659829</td>\n",
       "      <td>-73.781339</td>\n",
       "    </tr>\n",
       "    <tr>\n",
       "      <th>3</th>\n",
       "      <td>@pos.com, Inc.</td>\n",
       "      <td>@poscom</td>\n",
       "      <td>12.0</td>\n",
       "      <td>148.0</td>\n",
       "      <td>United States</td>\n",
       "      <td>1983.0</td>\n",
       "      <td>California</td>\n",
       "      <td>1995-10-01</td>\n",
       "      <td>1995.0</td>\n",
       "      <td>0.070</td>\n",
       "      <td>...</td>\n",
       "      <td>New York</td>\n",
       "      <td>Private Equity Firm</td>\n",
       "      <td>Venture Capital</td>\n",
       "      <td>Sacramento</td>\n",
       "      <td>38.555605</td>\n",
       "      <td>-121.468926</td>\n",
       "      <td>New York</td>\n",
       "      <td>Albany</td>\n",
       "      <td>42.659829</td>\n",
       "      <td>-73.781339</td>\n",
       "    </tr>\n",
       "  </tbody>\n",
       "</table>\n",
       "<p>4 rows × 22 columns</p>\n",
       "</div>"
      ],
      "text/plain": [
       "         assignee new_assignee  assignee_age_year  assignee_age_month  \\\n",
       "0  @pos.com, Inc.      @poscom               12.0               144.0   \n",
       "1  @pos.com, Inc.      @poscom               12.0               150.0   \n",
       "2  @pos.com, Inc.      @poscom               12.0               153.0   \n",
       "3  @pos.com, Inc.      @poscom               12.0               148.0   \n",
       "\n",
       "  assignee_country  assignee_founded_year assignee_state invest_date  \\\n",
       "0    United States                 1983.0     California  1995-01-01   \n",
       "1    United States                 1983.0     California  1995-05-09   \n",
       "2    United States                 1983.0     California  1995-07-01   \n",
       "3    United States                 1983.0     California  1995-10-01   \n",
       "\n",
       "   invest_year  deal_amount     ...      firm_state            firm_type  \\\n",
       "0       1995.0          NaN     ...        New York  Private Equity Firm   \n",
       "1       1995.0        0.282     ...      California  Private Equity Firm   \n",
       "2       1995.0        0.055     ...        New York  Private Equity Firm   \n",
       "3       1995.0        0.070     ...        New York  Private Equity Firm   \n",
       "\n",
       "         fund_type assingee_capital assingee_latitude assingee_longitude  \\\n",
       "0  Venture Capital       Sacramento         38.555605        -121.468926   \n",
       "1  Venture Capital       Sacramento         38.555605        -121.468926   \n",
       "2  Venture Capital       Sacramento         38.555605        -121.468926   \n",
       "3  Venture Capital       Sacramento         38.555605        -121.468926   \n",
       "\n",
       "        state     capital   latitude   longitude  \n",
       "0    New York      Albany  42.659829  -73.781339  \n",
       "1  California  Sacramento  38.555605 -121.468926  \n",
       "2    New York      Albany  42.659829  -73.781339  \n",
       "3    New York      Albany  42.659829  -73.781339  \n",
       "\n",
       "[4 rows x 22 columns]"
      ]
     },
     "execution_count": 35,
     "metadata": {},
     "output_type": "execute_result"
    }
   ],
   "source": [
    "ndf2.iloc[0:4,]"
   ]
  },
  {
   "cell_type": "code",
   "execution_count": 37,
   "metadata": {
    "collapsed": false
   },
   "outputs": [
    {
     "data": {
      "text/plain": [
       "['firm_capital', 'firm_latitude', 'firm_longitude']"
      ]
     },
     "execution_count": 37,
     "metadata": {},
     "output_type": "execute_result"
    }
   ],
   "source": [
    "del ndf2['state']\n",
    "ndf2.rename(columns={'capital':'firm_capital','latitude':'firm_latitude','longitude':'firm_longitude'}, inplace=True)\n",
    "list(ndf2)[-3:]"
   ]
  },
  {
   "cell_type": "code",
   "execution_count": 38,
   "metadata": {
    "collapsed": false
   },
   "outputs": [
    {
     "data": {
      "text/plain": [
       "['assignee',\n",
       " 'assignee_age_month',\n",
       " 'assignee_age_year',\n",
       " 'assignee_country',\n",
       " 'assignee_founded_year',\n",
       " 'assignee_state',\n",
       " 'assingee_capital',\n",
       " 'assingee_latitude',\n",
       " 'assingee_longitude',\n",
       " 'deal_amount',\n",
       " 'firm',\n",
       " 'firm_capital',\n",
       " 'firm_country',\n",
       " 'firm_latitude',\n",
       " 'firm_longitude',\n",
       " 'firm_state',\n",
       " 'firm_type',\n",
       " 'fund_type',\n",
       " 'invest_date',\n",
       " 'invest_year',\n",
       " 'new_assignee']"
      ]
     },
     "execution_count": 38,
     "metadata": {},
     "output_type": "execute_result"
    }
   ],
   "source": [
    "ndf2.sort_index(axis=1, inplace=True)\n",
    "list(ndf2)"
   ]
  },
  {
   "cell_type": "code",
   "execution_count": 39,
   "metadata": {
    "collapsed": true
   },
   "outputs": [],
   "source": [
    "df=ndf2\n",
    "del ndf, ndf2"
   ]
  },
  {
   "cell_type": "code",
   "execution_count": 108,
   "metadata": {
    "collapsed": false
   },
   "outputs": [],
   "source": [
    "df['assignee_firm_dist']=np.nan"
   ]
  },
  {
   "cell_type": "code",
   "execution_count": 109,
   "metadata": {
    "collapsed": false
   },
   "outputs": [
    {
     "data": {
      "text/html": [
       "<div>\n",
       "<table border=\"1\" class=\"dataframe\">\n",
       "  <thead>\n",
       "    <tr style=\"text-align: right;\">\n",
       "      <th></th>\n",
       "      <th>assignee</th>\n",
       "      <th>assignee_age_month</th>\n",
       "      <th>assignee_age_year</th>\n",
       "      <th>assignee_country</th>\n",
       "      <th>assignee_founded_year</th>\n",
       "      <th>assignee_state</th>\n",
       "      <th>assingee_capital</th>\n",
       "      <th>assingee_latitude</th>\n",
       "      <th>assingee_longitude</th>\n",
       "      <th>deal_amount</th>\n",
       "      <th>...</th>\n",
       "      <th>firm_country</th>\n",
       "      <th>firm_latitude</th>\n",
       "      <th>firm_longitude</th>\n",
       "      <th>firm_state</th>\n",
       "      <th>firm_type</th>\n",
       "      <th>fund_type</th>\n",
       "      <th>invest_date</th>\n",
       "      <th>invest_year</th>\n",
       "      <th>new_assignee</th>\n",
       "      <th>assignee_firm_dist</th>\n",
       "    </tr>\n",
       "  </thead>\n",
       "  <tbody>\n",
       "    <tr>\n",
       "      <th>0</th>\n",
       "      <td>@pos.com, Inc.</td>\n",
       "      <td>144.0</td>\n",
       "      <td>12.0</td>\n",
       "      <td>United States</td>\n",
       "      <td>1983.0</td>\n",
       "      <td>California</td>\n",
       "      <td>Sacramento</td>\n",
       "      <td>38.555605</td>\n",
       "      <td>-121.468926</td>\n",
       "      <td>NaN</td>\n",
       "      <td>...</td>\n",
       "      <td>United States</td>\n",
       "      <td>42.659829</td>\n",
       "      <td>-73.781339</td>\n",
       "      <td>New York</td>\n",
       "      <td>Private Equity Firm</td>\n",
       "      <td>Venture Capital</td>\n",
       "      <td>1995-01-01</td>\n",
       "      <td>1995.0</td>\n",
       "      <td>@poscom</td>\n",
       "      <td>NaN</td>\n",
       "    </tr>\n",
       "    <tr>\n",
       "      <th>1</th>\n",
       "      <td>@pos.com, Inc.</td>\n",
       "      <td>150.0</td>\n",
       "      <td>12.0</td>\n",
       "      <td>United States</td>\n",
       "      <td>1983.0</td>\n",
       "      <td>California</td>\n",
       "      <td>Sacramento</td>\n",
       "      <td>38.555605</td>\n",
       "      <td>-121.468926</td>\n",
       "      <td>0.282</td>\n",
       "      <td>...</td>\n",
       "      <td>United States</td>\n",
       "      <td>38.555605</td>\n",
       "      <td>-121.468926</td>\n",
       "      <td>California</td>\n",
       "      <td>Private Equity Firm</td>\n",
       "      <td>Venture Capital</td>\n",
       "      <td>1995-05-09</td>\n",
       "      <td>1995.0</td>\n",
       "      <td>@poscom</td>\n",
       "      <td>NaN</td>\n",
       "    </tr>\n",
       "  </tbody>\n",
       "</table>\n",
       "<p>2 rows × 22 columns</p>\n",
       "</div>"
      ],
      "text/plain": [
       "         assignee  assignee_age_month  assignee_age_year assignee_country  \\\n",
       "0  @pos.com, Inc.               144.0               12.0    United States   \n",
       "1  @pos.com, Inc.               150.0               12.0    United States   \n",
       "\n",
       "   assignee_founded_year assignee_state assingee_capital  assingee_latitude  \\\n",
       "0                 1983.0     California       Sacramento          38.555605   \n",
       "1                 1983.0     California       Sacramento          38.555605   \n",
       "\n",
       "   assingee_longitude  deal_amount         ...           firm_country  \\\n",
       "0         -121.468926          NaN         ...          United States   \n",
       "1         -121.468926        0.282         ...          United States   \n",
       "\n",
       "  firm_latitude firm_longitude  firm_state            firm_type  \\\n",
       "0     42.659829     -73.781339    New York  Private Equity Firm   \n",
       "1     38.555605    -121.468926  California  Private Equity Firm   \n",
       "\n",
       "         fund_type invest_date invest_year new_assignee  assignee_firm_dist  \n",
       "0  Venture Capital  1995-01-01      1995.0      @poscom                 NaN  \n",
       "1  Venture Capital  1995-05-09      1995.0      @poscom                 NaN  \n",
       "\n",
       "[2 rows x 22 columns]"
      ]
     },
     "execution_count": 109,
     "metadata": {},
     "output_type": "execute_result"
    }
   ],
   "source": [
    "df.iloc[0:2,]"
   ]
  },
  {
   "cell_type": "code",
   "execution_count": 110,
   "metadata": {
    "collapsed": false
   },
   "outputs": [
    {
     "data": {
      "text/plain": [
       "3999.0738949832835"
      ]
     },
     "execution_count": 110,
     "metadata": {},
     "output_type": "execute_result"
    }
   ],
   "source": [
    "from geopy.distance import great_circle\n",
    "\n",
    "a_loc = (df['assingee_latitude'][0],df['assingee_longitude'][0])\n",
    "f_loc = (df['firm_latitude'][0],df['firm_longitude'][0])\n",
    "great_circle(a_loc,f_loc).kilometers"
   ]
  },
  {
   "cell_type": "code",
   "execution_count": 112,
   "metadata": {
    "collapsed": true
   },
   "outputs": [
    {
     "data": {
      "text/plain": [
       "assignee                      @pos.com, Inc.\n",
       "assignee_age_month                       144\n",
       "assignee_age_year                         12\n",
       "assignee_country               United States\n",
       "assignee_founded_year                   1983\n",
       "assignee_state                    California\n",
       "assingee_capital                  Sacramento\n",
       "assingee_latitude                    38.5556\n",
       "assingee_longitude                  -121.469\n",
       "deal_amount                              NaN\n",
       "firm                              Nazem & Co\n",
       "firm_capital                          Albany\n",
       "firm_country                   United States\n",
       "firm_latitude                        42.6598\n",
       "firm_longitude                      -73.7813\n",
       "firm_state                          New York\n",
       "firm_type                Private Equity Firm\n",
       "fund_type                    Venture Capital\n",
       "invest_date                       1995-01-01\n",
       "invest_year                             1995\n",
       "new_assignee                         @poscom\n",
       "assignee_firm_dist                   3999.07\n",
       "Name: 0, dtype: object"
      ]
     },
     "execution_count": 112,
     "metadata": {},
     "output_type": "execute_result"
    }
   ],
   "source": [
    "df.loc[0,'assignee_firm_dist'] = great_circle(a_loc,f_loc).kilometers\n",
    "df.iloc[0,]"
   ]
  },
  {
   "cell_type": "code",
   "execution_count": 113,
   "metadata": {
    "collapsed": false
   },
   "outputs": [],
   "source": [
    "for i in range(0,len(df)):\n",
    "    if pd.isnull(df['firm_latitude'][i]) == False:\n",
    "        a_loc = (df['assingee_latitude'][i],df['assingee_longitude'][i])\n",
    "        f_loc = (df['firm_latitude'][i],df['firm_longitude'][i])\n",
    "        df.loc[i,'assignee_firm_dist'] = great_circle(a_loc,f_loc).kilometers"
   ]
  },
  {
   "cell_type": "code",
   "execution_count": 114,
   "metadata": {
    "collapsed": false,
    "scrolled": false
   },
   "outputs": [
    {
     "data": {
      "text/html": [
       "<div>\n",
       "<table border=\"1\" class=\"dataframe\">\n",
       "  <thead>\n",
       "    <tr style=\"text-align: right;\">\n",
       "      <th></th>\n",
       "      <th>assignee</th>\n",
       "      <th>assignee_age_month</th>\n",
       "      <th>assignee_age_year</th>\n",
       "      <th>assignee_country</th>\n",
       "      <th>assignee_founded_year</th>\n",
       "      <th>assignee_state</th>\n",
       "      <th>assingee_capital</th>\n",
       "      <th>assingee_latitude</th>\n",
       "      <th>assingee_longitude</th>\n",
       "      <th>deal_amount</th>\n",
       "      <th>...</th>\n",
       "      <th>firm_country</th>\n",
       "      <th>firm_latitude</th>\n",
       "      <th>firm_longitude</th>\n",
       "      <th>firm_state</th>\n",
       "      <th>firm_type</th>\n",
       "      <th>fund_type</th>\n",
       "      <th>invest_date</th>\n",
       "      <th>invest_year</th>\n",
       "      <th>new_assignee</th>\n",
       "      <th>assignee_firm_dist</th>\n",
       "    </tr>\n",
       "  </thead>\n",
       "  <tbody>\n",
       "    <tr>\n",
       "      <th>0</th>\n",
       "      <td>@pos.com, Inc.</td>\n",
       "      <td>144.0</td>\n",
       "      <td>12.0</td>\n",
       "      <td>United States</td>\n",
       "      <td>1983.0</td>\n",
       "      <td>California</td>\n",
       "      <td>Sacramento</td>\n",
       "      <td>38.555605</td>\n",
       "      <td>-121.468926</td>\n",
       "      <td>NaN</td>\n",
       "      <td>...</td>\n",
       "      <td>United States</td>\n",
       "      <td>42.659829</td>\n",
       "      <td>-73.781339</td>\n",
       "      <td>New York</td>\n",
       "      <td>Private Equity Firm</td>\n",
       "      <td>Venture Capital</td>\n",
       "      <td>1995-01-01</td>\n",
       "      <td>1995.0</td>\n",
       "      <td>@poscom</td>\n",
       "      <td>3999.073895</td>\n",
       "    </tr>\n",
       "    <tr>\n",
       "      <th>3</th>\n",
       "      <td>@pos.com, Inc.</td>\n",
       "      <td>148.0</td>\n",
       "      <td>12.0</td>\n",
       "      <td>United States</td>\n",
       "      <td>1983.0</td>\n",
       "      <td>California</td>\n",
       "      <td>Sacramento</td>\n",
       "      <td>38.555605</td>\n",
       "      <td>-121.468926</td>\n",
       "      <td>0.0700</td>\n",
       "      <td>...</td>\n",
       "      <td>United States</td>\n",
       "      <td>42.659829</td>\n",
       "      <td>-73.781339</td>\n",
       "      <td>New York</td>\n",
       "      <td>Private Equity Firm</td>\n",
       "      <td>Venture Capital</td>\n",
       "      <td>1995-10-01</td>\n",
       "      <td>1995.0</td>\n",
       "      <td>@poscom</td>\n",
       "      <td>3999.073895</td>\n",
       "    </tr>\n",
       "    <tr>\n",
       "      <th>90</th>\n",
       "      <td>23andMe Inc</td>\n",
       "      <td>57.0</td>\n",
       "      <td>5.0</td>\n",
       "      <td>United States</td>\n",
       "      <td>2006.0</td>\n",
       "      <td>California</td>\n",
       "      <td>Sacramento</td>\n",
       "      <td>38.555605</td>\n",
       "      <td>-121.468926</td>\n",
       "      <td>7.3000</td>\n",
       "      <td>...</td>\n",
       "      <td>United States</td>\n",
       "      <td>42.235200</td>\n",
       "      <td>-71.027500</td>\n",
       "      <td>Massachusetts</td>\n",
       "      <td>Corporate PE/Venture</td>\n",
       "      <td>Venture Capital</td>\n",
       "      <td>2011-01-07</td>\n",
       "      <td>2011.0</td>\n",
       "      <td>23andme</td>\n",
       "      <td>4229.933924</td>\n",
       "    </tr>\n",
       "    <tr>\n",
       "      <th>108</th>\n",
       "      <td>2Wire, Inc.</td>\n",
       "      <td>16.0</td>\n",
       "      <td>1.0</td>\n",
       "      <td>United States</td>\n",
       "      <td>1998.0</td>\n",
       "      <td>California</td>\n",
       "      <td>Sacramento</td>\n",
       "      <td>38.555605</td>\n",
       "      <td>-121.468926</td>\n",
       "      <td>0.8370</td>\n",
       "      <td>...</td>\n",
       "      <td>United States</td>\n",
       "      <td>38.555605</td>\n",
       "      <td>-121.468926</td>\n",
       "      <td>California</td>\n",
       "      <td>Private Equity Firm</td>\n",
       "      <td>Venture Capital</td>\n",
       "      <td>1999-11-02</td>\n",
       "      <td>1999.0</td>\n",
       "      <td>2wire</td>\n",
       "      <td>0.000000</td>\n",
       "    </tr>\n",
       "    <tr>\n",
       "      <th>273</th>\n",
       "      <td>3PAR, Inc.</td>\n",
       "      <td>25.0</td>\n",
       "      <td>2.0</td>\n",
       "      <td>United States</td>\n",
       "      <td>1999.0</td>\n",
       "      <td>California</td>\n",
       "      <td>Sacramento</td>\n",
       "      <td>38.555605</td>\n",
       "      <td>-121.468926</td>\n",
       "      <td>5.5657</td>\n",
       "      <td>...</td>\n",
       "      <td>Japan</td>\n",
       "      <td>NaN</td>\n",
       "      <td>NaN</td>\n",
       "      <td>NaN</td>\n",
       "      <td>Private Equity Firm</td>\n",
       "      <td>Venture Capital</td>\n",
       "      <td>2001-06-28</td>\n",
       "      <td>2001.0</td>\n",
       "      <td>3par</td>\n",
       "      <td>NaN</td>\n",
       "    </tr>\n",
       "  </tbody>\n",
       "</table>\n",
       "<p>5 rows × 22 columns</p>\n",
       "</div>"
      ],
      "text/plain": [
       "           assignee  assignee_age_month  assignee_age_year assignee_country  \\\n",
       "0    @pos.com, Inc.               144.0               12.0    United States   \n",
       "3    @pos.com, Inc.               148.0               12.0    United States   \n",
       "90      23andMe Inc                57.0                5.0    United States   \n",
       "108     2Wire, Inc.                16.0                1.0    United States   \n",
       "273      3PAR, Inc.                25.0                2.0    United States   \n",
       "\n",
       "     assignee_founded_year assignee_state assingee_capital  assingee_latitude  \\\n",
       "0                   1983.0     California       Sacramento          38.555605   \n",
       "3                   1983.0     California       Sacramento          38.555605   \n",
       "90                  2006.0     California       Sacramento          38.555605   \n",
       "108                 1998.0     California       Sacramento          38.555605   \n",
       "273                 1999.0     California       Sacramento          38.555605   \n",
       "\n",
       "     assingee_longitude  deal_amount         ...           firm_country  \\\n",
       "0           -121.468926          NaN         ...          United States   \n",
       "3           -121.468926       0.0700         ...          United States   \n",
       "90          -121.468926       7.3000         ...          United States   \n",
       "108         -121.468926       0.8370         ...          United States   \n",
       "273         -121.468926       5.5657         ...                  Japan   \n",
       "\n",
       "    firm_latitude firm_longitude     firm_state             firm_type  \\\n",
       "0       42.659829     -73.781339       New York   Private Equity Firm   \n",
       "3       42.659829     -73.781339       New York   Private Equity Firm   \n",
       "90      42.235200     -71.027500  Massachusetts  Corporate PE/Venture   \n",
       "108     38.555605    -121.468926     California   Private Equity Firm   \n",
       "273           NaN            NaN            NaN   Private Equity Firm   \n",
       "\n",
       "           fund_type invest_date invest_year new_assignee  assignee_firm_dist  \n",
       "0    Venture Capital  1995-01-01      1995.0      @poscom         3999.073895  \n",
       "3    Venture Capital  1995-10-01      1995.0      @poscom         3999.073895  \n",
       "90   Venture Capital  2011-01-07      2011.0      23andme         4229.933924  \n",
       "108  Venture Capital  1999-11-02      1999.0        2wire            0.000000  \n",
       "273  Venture Capital  2001-06-28      2001.0         3par                 NaN  \n",
       "\n",
       "[5 rows x 22 columns]"
      ]
     },
     "execution_count": 114,
     "metadata": {},
     "output_type": "execute_result"
    }
   ],
   "source": [
    "df.iloc[(0,3,90,108,273),]"
   ]
  },
  {
   "cell_type": "code",
   "execution_count": 115,
   "metadata": {
    "collapsed": true
   },
   "outputs": [],
   "source": [
    "df.to_csv('veh_selected_deal_info_final2.csv',index=False)"
   ]
  },
  {
   "cell_type": "markdown",
   "metadata": {},
   "source": [
    "# 3. groupby assignee, year"
   ]
  },
  {
   "cell_type": "markdown",
   "metadata": {},
   "source": [
    "### groupby 시 사용할 함수\n",
    "1. sum: amt, dummies  \n",
    "2. mean: age, distance  \n",
    "3. first: ass_country, ass_founded_year, ass_state\n",
    "\n",
    "__distance는 sum? mean?__ => mean!"
   ]
  },
  {
   "cell_type": "code",
   "execution_count": 1,
   "metadata": {
    "collapsed": true
   },
   "outputs": [],
   "source": [
    "import pandas as pd\n",
    "import os\n",
    "import numpy as np\n",
    "\n",
    "os.chdir(\"E:/patent/thomson\")\n",
    "df = pd.read_csv('veh_selected_deal_info_dummies.csv')"
   ]
  },
  {
   "cell_type": "markdown",
   "metadata": {},
   "source": [
    "### 3.1 함수에 따라 변수 분리 (dummy들 때문에 한 번에 돌리기 힘듦)"
   ]
  },
  {
   "cell_type": "code",
   "execution_count": 2,
   "metadata": {
    "collapsed": false
   },
   "outputs": [
    {
     "data": {
      "text/plain": [
       "153"
      ]
     },
     "execution_count": 2,
     "metadata": {},
     "output_type": "execute_result"
    }
   ],
   "source": [
    "col = []\n",
    "for i in range (0,len(list(df))):\n",
    "    col.append(i)\n",
    "max(col)"
   ]
  },
  {
   "cell_type": "code",
   "execution_count": 3,
   "metadata": {
    "collapsed": true
   },
   "outputs": [],
   "source": [
    "meancol = [1,2,3,7,9]\n",
    "firstcol = [1,4,5,6,9]\n",
    "trashcol = [0,8,11]\n",
    "sumcol = [1,9]+list(set(col)-set(meancol)-set(firstcol)-set(trashcol))"
   ]
  },
  {
   "cell_type": "code",
   "execution_count": 4,
   "metadata": {
    "collapsed": true
   },
   "outputs": [],
   "source": [
    "sumdf = df.iloc[:,sumcol]\n",
    "meandf = df.iloc[:,meancol]\n",
    "firstdf = df.iloc[:,firstcol]"
   ]
  },
  {
   "cell_type": "code",
   "execution_count": 5,
   "metadata": {
    "collapsed": false
   },
   "outputs": [
    {
     "data": {
      "text/plain": [
       "['new_assignee', 'invest_year']"
      ]
     },
     "execution_count": 5,
     "metadata": {},
     "output_type": "execute_result"
    }
   ],
   "source": [
    "list(sumdf)[0:2]"
   ]
  },
  {
   "cell_type": "code",
   "execution_count": 6,
   "metadata": {
    "collapsed": false
   },
   "outputs": [
    {
     "name": "stdout",
     "output_type": "stream",
     "text": [
      "24512 24512 24512\n"
     ]
    }
   ],
   "source": [
    "sums = sumdf.groupby(['new_assignee','invest_year'],as_index=False).sum()\n",
    "means = meandf.groupby(['new_assignee','invest_year'],as_index=False).mean()\n",
    "firsts = firstdf.groupby(['new_assignee','invest_year'],as_index=False).first()\n",
    "\n",
    "print len(sums), len(means), len(firsts)"
   ]
  },
  {
   "cell_type": "code",
   "execution_count": 7,
   "metadata": {
    "collapsed": false
   },
   "outputs": [
    {
     "data": {
      "text/plain": [
       "24512"
      ]
     },
     "execution_count": 7,
     "metadata": {},
     "output_type": "execute_result"
    }
   ],
   "source": [
    "df = firsts.merge(means,how='left',on=['new_assignee','invest_year'],sort=True).merge(\n",
    "    sums,how='left',on=['new_assignee','invest_year'],sort=True)\n",
    "\n",
    "len(df)"
   ]
  },
  {
   "cell_type": "code",
   "execution_count": 8,
   "metadata": {
    "collapsed": false
   },
   "outputs": [],
   "source": [
    "df.to_csv('veh_investment_groupby_assignee_year.csv',index=False)"
   ]
  }
 ],
 "metadata": {
  "anaconda-cloud": {},
  "kernelspec": {
   "display_name": "Python [conda root]",
   "language": "python",
   "name": "conda-root-py"
  },
  "language_info": {
   "codemirror_mode": {
    "name": "ipython",
    "version": 2
   },
   "file_extension": ".py",
   "mimetype": "text/x-python",
   "name": "python",
   "nbconvert_exporter": "python",
   "pygments_lexer": "ipython2",
   "version": "2.7.13"
  }
 },
 "nbformat": 4,
 "nbformat_minor": 1
}
